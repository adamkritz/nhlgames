{
  "nbformat": 4,
  "nbformat_minor": 0,
  "metadata": {
    "colab": {
      "name": "Copy of Final_Report.ipynb",
      "provenance": [],
      "toc_visible": true
    },
    "kernelspec": {
      "name": "python3",
      "display_name": "Python 3"
    },
    "language_info": {
      "name": "python"
    }
  },
  "cells": [
    {
      "cell_type": "markdown",
      "source": [
        "# MISC NOTES:\n",
        "- I'm not stratifying rn because it's equal win/loss, but we can try that if things look bad"
      ],
      "metadata": {
        "id": "Ug63Yo6tN1PN"
      }
    },
    {
      "cell_type": "markdown",
      "source": [
        "# Introduction"
      ],
      "metadata": {
        "id": "yHlDlg9tWeXk"
      }
    },
    {
      "cell_type": "markdown",
      "source": [
        "## Motivation and Background"
      ],
      "metadata": {
        "id": "Yt7V84DEaHHL"
      }
    },
    {
      "cell_type": "markdown",
      "source": [
        "Hockey predictions have become a hot topic in recent years. Hockey fans praise hockey's unpredictability, citing how exciting it is to know that any team has a chance. This is usually contrasted with sports like basketball, where it is rare to for underdogs to win. [Here is a video](https://www.youtube.com/watch?v=c4fFOu8nyeM) of former NBA star and current NBA commentator Charles Barkley talking about why he enjoys hockey playoffs, saying that \"you have no idea who is going to win.\" Vox put out [a video](https://www.youtube.com/watch?v=HNlgISa9Giw) on this phenomenon as well, claiming that the reason that hockey underdogs do better than basketball is due to a higher luck element in hockey. \n",
        "\n",
        "But is hockey really so difficult to predict? Compared to other sports, hockey analytics are minimal. The few hockey betting sites that exist use extremely simple algorithms to predict which team will win, and often get it wrong. There is very little other published work about hockey analysis, mostly results from other projects with varying success. Either teams and other groups are not using complex analytics, or they do not want to publish their work publicly. \n",
        "\n",
        "Aside from leveraging models to aid in sports betting and playoff predictions, having an accurate prediction tool can be useful for teams in post-game analysis. Models can highlight patterns to success or failure that might not be obvious when looking only at raw statistics.\n",
        "\n",
        "Our project will attempt to answer whether hockey is a difficult sport to predict. We will use multiple modeling techniques and select the best model to predict the result of hockey games.\n"
      ],
      "metadata": {
        "id": "uxw9vFfRlugF"
      }
    },
    {
      "cell_type": "markdown",
      "source": [
        "## Data Source and Description"
      ],
      "metadata": {
        "id": "wLVN9jN0Z3yf"
      }
    },
    {
      "cell_type": "markdown",
      "source": [
        "Our data comes from the [NHL Game Dataset](https://www.kaggle.com/datasets/martinellis/nhl-game-data) on Kaggle. The dataset was uploaded by Martin Ellis and most recently updated a year ago. The dataset contains data pulled from NHL.com. \n",
        "\n",
        "The dataset is incredibly robust, and contains multiple .csv files full of data on players, coaches, teams, and games. For our project, we will only be using three of these files, games.csv, game_teams_stats.csv, and team_info.csv. Games.csv contains information about he games that happened, game_teams_stats.csv contains information about the teams that played in those games, and team_info.csv is the connecting set for these two files. \n",
        "\n"
      ],
      "metadata": {
        "id": "9GSXurLZjzsu"
      }
    },
    {
      "cell_type": "markdown",
      "source": [
        "## NHL and Hockey Terms"
      ],
      "metadata": {
        "id": "r7oMg0ZKZzrE"
      }
    },
    {
      "cell_type": "markdown",
      "source": [
        "The NHL contains now 32 teams in the US and Canada, though our project will only include data on 31 of these teams, as the Seattle Kraken only joined the league in 2022. It is also important to note that some of these teams have moved, disbanded, or been created throughout the years. For example, the Atlanta Thrashers moved to Winnipeg and became the Jets in 2011. Teams that moved to a new location will be treated as different teams. \n",
        "\n",
        "NHL teams play 82 games in the regular season, barring any lockouts, COVID related delays, or other issues. 16 teams qualify for the playoffs and play in a four-round, single elimination bracket. Our analysis will include both playoff and regular season games, and will not differentiate between the two. \n",
        "\n",
        "Our analysis will contain many variables to help predict the outcome of games. Some hockey terms that are helpful to know include the following:\n",
        "\n",
        "- Shots - Shots in hockey are defined as shots on goal that the goalie saves.\n",
        "\n",
        "- Hits - A hit is when a player removes an opposing player from the puck, usually by running into them.\n",
        "\n",
        "- PIM - Stands for penalties in minutes. Players who receive a penalty usually go to the penalty box for a designated period of time.\n",
        "\n",
        "- Powerplay - When one team gets a penalty the other team will get to play with more players on the ice than them, as one or more of their players are in the penalty box. This is called a powerplay. \n",
        "\n",
        "- Faceoff - When the referee drops the puck to start a play, and two players compete to win possession of it. \n",
        "\n",
        "- Giveaway - When a player's own actions result in the loss of the puck\n",
        "\n",
        "- Takeaway - When a player's actions on the team without the puck result in them taking the puck from a player on the team with it. \n",
        "\n",
        "- Points - A hockey team earns 2 points for a win, 0 points for a loss, and 1 point for a loss in overtime or a shootout.\n",
        "\n",
        "- Point Percentage - Points/(Games Played * 2)"
      ],
      "metadata": {
        "id": "fRuow2MgjzMa"
      }
    },
    {
      "cell_type": "markdown",
      "source": [
        "## Project Goal"
      ],
      "metadata": {
        "id": "A1pK3tboXJ3s"
      }
    },
    {
      "cell_type": "markdown",
      "source": [
        "The goal of this project is to create a model that can successfully predict the winner of NHL games better statistically better than 50% accuracy. (Once we get the number of games we are predicting on we can do a 99% confidence interval for better than 50%). "
      ],
      "metadata": {
        "id": "qQtN9phoj0MS"
      }
    },
    {
      "cell_type": "markdown",
      "source": [
        "# Notebook Configuration"
      ],
      "metadata": {
        "id": "tX1i8YVHWimM"
      }
    },
    {
      "cell_type": "markdown",
      "source": [
        "Copied over the usual setup, though we may want to change some later. I dont think we need the google drive setup if are just importing from clolab so ill remove it for now."
      ],
      "metadata": {
        "id": "ygMoK6kVZn_k"
      }
    },
    {
      "cell_type": "markdown",
      "metadata": {
        "id": "bYZhU1Wqgmqx"
      },
      "source": [
        "## Warning"
      ]
    },
    {
      "cell_type": "code",
      "execution_count": null,
      "metadata": {
        "id": "MUl4k83e4ANR"
      },
      "outputs": [],
      "source": [
        "import warnings\n",
        "\n",
        "# Ignore warnings\n",
        "warnings.filterwarnings('ignore')"
      ]
    },
    {
      "cell_type": "markdown",
      "metadata": {
        "id": "6WMODpPfgn2U"
      },
      "source": [
        "## Matplotlib"
      ]
    },
    {
      "cell_type": "code",
      "execution_count": null,
      "metadata": {
        "id": "DBRVH9SB4ANb"
      },
      "outputs": [],
      "source": [
        "import matplotlib.pyplot as plt\n",
        "%matplotlib inline \n",
        "\n",
        "# Set matplotlib sizes\n",
        "plt.rc('font', size=20)\n",
        "plt.rc('axes', titlesize=20)\n",
        "plt.rc('axes', labelsize=20)\n",
        "plt.rc('xtick', labelsize=20)\n",
        "plt.rc('ytick', labelsize=20)\n",
        "plt.rc('legend', fontsize=20)\n",
        "plt.rc('figure', titlesize=20)"
      ]
    },
    {
      "cell_type": "markdown",
      "metadata": {
        "id": "40FN3UNfO2Z7"
      },
      "source": [
        "## Random seed"
      ]
    },
    {
      "cell_type": "code",
      "execution_count": null,
      "metadata": {
        "id": "uSADk0hJP71d"
      },
      "outputs": [],
      "source": [
        "# The random seed\n",
        "random_seed = 42\n",
        "\n",
        "# Set random seed in tensorflow\n",
        "#tf.random.set_seed(random_seed)\n",
        "\n",
        "# Set random seed in numpy\n",
        "import numpy as np\n",
        "np.random.seed(random_seed)"
      ]
    },
    {
      "cell_type": "markdown",
      "source": [
        "# Data Preprocessing"
      ],
      "metadata": {
        "id": "FdLHdRNRWveb"
      }
    },
    {
      "cell_type": "markdown",
      "source": [
        "## Importing"
      ],
      "metadata": {
        "id": "bsAAp_-U4gLz"
      }
    },
    {
      "cell_type": "markdown",
      "source": [
        "We took the data initially hosted on Kaggle and moved it to Github to make it easier to import."
      ],
      "metadata": {
        "id": "TANgdsE8YfUm"
      }
    },
    {
      "cell_type": "code",
      "source": [
        "import pandas as pd\n",
        "\n",
        "game = pd.read_csv('https://raw.githubusercontent.com/adamkritz/nhlgames/main/Data/game.csv')\n",
        "team_stats = pd.read_csv('https://raw.githubusercontent.com/adamkritz/nhlgames/main/Data/game_teams_stats.csv')\n",
        "team_info = pd.read_csv('https://raw.githubusercontent.com/adamkritz/nhlgames/main/Data/team_info.csv')"
      ],
      "metadata": {
        "id": "VZlqqcD9e2YV"
      },
      "execution_count": null,
      "outputs": []
    },
    {
      "cell_type": "markdown",
      "source": [
        "## Initial Feature Selection and Cleaning\n",
        "\n",
        "Games were included only if they were official games (Regular Season or Playoffs) and if they had an official outcome (settled in Regulation or Overtime)."
      ],
      "metadata": {
        "id": "4msPvSMWvYmZ"
      }
    },
    {
      "cell_type": "code",
      "source": [
        "game = game[game['type'].isin(['R','P'])]\n",
        "team_stats = team_stats[team_stats['settled_in'].isin(['REG', 'OT'])]\n",
        "datgame = game[['game_id', 'season', 'date_time_GMT']]\n",
        "datteam = team_stats[['game_id', 'team_id', 'HoA', 'won', 'settled_in', 'head_coach', 'shots', 'hits', 'pim', 'powerPlayOpportunities', 'faceOffWinPercentage', 'giveaways', 'takeaways', 'blocked']]\n",
        "\n",
        "dat = datteam.merge(datgame, on = 'game_id', how = 'inner')\n",
        "dat = dat.drop_duplicates(subset = ['game_id', 'team_id'])\n",
        "\n",
        "dat = dat.sort_values(by = ['team_id', 'date_time_GMT'])\n",
        "dat['date_time_GMT'] = pd.to_datetime(dat['date_time_GMT'])"
      ],
      "metadata": {
        "id": "4B7kBpT0vi5s"
      },
      "execution_count": null,
      "outputs": []
    },
    {
      "cell_type": "markdown",
      "source": [
        "## Feature Engineering\n",
        "\n",
        "**created features**:\n",
        "- points: The points recieved by the team for this game. 2 for a win, 1 for a loss in overtime, and 0 for a regulation loss\n",
        "- last season points percentage: The points percentage (revieved points / total possible points) of the previous season.\n",
        "- running points percentag: The points percentage of the team up to that point in the season, before going into the game in question.\n",
        "- last 10 points percentage: The points percentage of the last 10 games of the current season."
      ],
      "metadata": {
        "id": "cg_KHUXUwItH"
      }
    },
    {
      "cell_type": "code",
      "source": [
        "dat['pts'] = dat.apply(lambda x: 2 if x.won else 1 if not x.won and x.settled_in == 'OT' else 0, axis = 1)"
      ],
      "metadata": {
        "id": "FCppK_wJw3Co"
      },
      "execution_count": null,
      "outputs": []
    },
    {
      "cell_type": "code",
      "source": [
        "seasonsorted = sorted(dat['season'].unique())\n",
        "dat['season_num'] = dat['season'].apply(lambda x: seasonsorted.index(x))\n",
        "grouped = dat.groupby(['team_id', 'season_num']).agg({'game_id':'count', 'pts':'sum'})\n",
        "grouped = grouped.reset_index()\n",
        "grouped['pts_perc_last_szn'] = grouped['pts']/(grouped['game_id']*2)\n",
        "grouped['season_num'] = grouped['season_num']+1\n",
        "\n",
        "to_merge = grouped[['team_id', 'season_num', 'pts_perc_last_szn']]\n",
        "dat = dat.merge(to_merge, on = ['season_num', 'team_id'], how = 'left')"
      ],
      "metadata": {
        "id": "3yvgNqgIxWBG"
      },
      "execution_count": null,
      "outputs": []
    },
    {
      "cell_type": "code",
      "source": [
        "dat['L10_pts_perc'] = dat.groupby(['team_id', 'season_num'])['pts'].transform(lambda x: x.rolling(10,10).sum()/20)\n",
        "dat['rolling_pts%'] = dat.groupby(['team_id', 'season_num']).apply(lambda x: x.pts.expanding().sum()/(x.pts.expanding().count()*2)).values"
      ],
      "metadata": {
        "id": "W689im9XxaUK"
      },
      "execution_count": null,
      "outputs": []
    },
    {
      "cell_type": "markdown",
      "source": [
        "## Transformations\n",
        "\n",
        "- The 'home' value was transformed from 'H' (home) and 'A' (away) to a binary value where 1 is home and 0 is away.\n",
        "- The time stamp of the game was transformed into total seconds (unix time)\n",
        "- The head coach column became the running points percentage of the coach until that point, spanning their entire career and all teams.\n",
        "- 'Won' column from binary to 0 and 1"
      ],
      "metadata": {
        "id": "uOKW-ecpx1Aq"
      }
    },
    {
      "cell_type": "code",
      "source": [
        "dat['home'] = dat['HoA'].apply(lambda x: 1 if x=='home' else 0)"
      ],
      "metadata": {
        "id": "Av5HoZ4Xx3Ds"
      },
      "execution_count": null,
      "outputs": []
    },
    {
      "cell_type": "code",
      "source": [
        "dat['gametime_unix'] = dat['date_time_GMT'].apply(lambda x: x.timestamp())"
      ],
      "metadata": {
        "id": "Dp3kUdCOyklU"
      },
      "execution_count": null,
      "outputs": []
    },
    {
      "cell_type": "code",
      "source": [
        "coach_group = dat.groupby(['head_coach']).apply(lambda x: x.won.expanding().sum()/(x.won.expanding().count()*2))\n",
        "coach_flat = coach_group.reset_index().rename(columns = {'won':'coach_pts%'})\n",
        "dat = dat.merge(coach_flat, left_index=True, right_on = 'level_1')\n"
      ],
      "metadata": {
        "id": "0e7kxSTL9J8T"
      },
      "execution_count": null,
      "outputs": []
    },
    {
      "cell_type": "code",
      "source": [
        "dat['won'] = dat['won'].astype(int)"
      ],
      "metadata": {
        "id": "AWRTSQHHTljT"
      },
      "execution_count": null,
      "outputs": []
    },
    {
      "cell_type": "markdown",
      "source": [
        "## Remove Unecessary Columns"
      ],
      "metadata": {
        "id": "BPrZFCo09TmT"
      }
    },
    {
      "cell_type": "code",
      "source": [
        "df = dat.drop(['HoA', 'head_coach_x', 'date_time_GMT', 'season', 'head_coach_y', 'level_1', 'settled_in', 'pts'], axis = 1)"
      ],
      "metadata": {
        "id": "rzgzLBui9WxN"
      },
      "execution_count": null,
      "outputs": []
    },
    {
      "cell_type": "markdown",
      "source": [
        "## Splitting Data"
      ],
      "metadata": {
        "id": "7wLzuwcHNalm"
      }
    },
    {
      "cell_type": "code",
      "source": [
        "from sklearn.model_selection import train_test_split\n",
        "\n",
        "df_train, df_test = train_test_split(df, train_size = 0.8, random_state = random_seed)\n",
        "\n",
        "# Divide the training data into training (80%) and validation (20%)\n",
        "df_train, df_val = train_test_split(df_train, train_size=0.8, random_state=random_seed)\n",
        "\n",
        "# Reset the index\n",
        "df_train, df_val = df_train.reset_index(drop=True), df_val.reset_index(drop=True)\n",
        "\n",
        "target = 'won'"
      ],
      "metadata": {
        "id": "CrTuqqv6NcEi"
      },
      "execution_count": null,
      "outputs": []
    },
    {
      "cell_type": "code",
      "source": [
        "# getting the shape of the data\n",
        "\n",
        "print('Train shape: ', df_train.shape)\n",
        "print('Test shape: ', df_test.shape)\n",
        "print('Val shape: ', df_val.shape)"
      ],
      "metadata": {
        "colab": {
          "base_uri": "https://localhost:8080/"
        },
        "id": "HGEV-D2IOToP",
        "outputId": "bd98478c-f093-49c7-8365-5aca204d8957"
      },
      "execution_count": null,
      "outputs": [
        {
          "output_type": "stream",
          "name": "stdout",
          "text": [
            "Train shape:  (30356, 18)\n",
            "Test shape:  (9487, 18)\n",
            "Val shape:  (7589, 18)\n"
          ]
        }
      ]
    },
    {
      "cell_type": "code",
      "source": [
        "df_train.head()"
      ],
      "metadata": {
        "colab": {
          "base_uri": "https://localhost:8080/",
          "height": 270
        },
        "id": "-fipZxRo1A5C",
        "outputId": "345f3c58-7d9d-432a-cb2c-28056140efb2"
      },
      "execution_count": null,
      "outputs": [
        {
          "output_type": "execute_result",
          "data": {
            "text/plain": [
              "      game_id  team_id  won  shots  hits   pim  powerPlayOpportunities  \\\n",
              "0  2013020093        9    1   32.0  27.0   8.0                     3.0   \n",
              "1  2002020974       21    1   29.0  11.0  12.0                     5.0   \n",
              "2  2007021052        2    0   24.0  19.0  15.0                     4.0   \n",
              "3  2018020302       28    1   29.0  23.0   2.0                     2.0   \n",
              "4  2003020755       16    0   20.0  11.0  17.0                     6.0   \n",
              "\n",
              "   faceOffWinPercentage  giveaways  takeaways  blocked  season_num  \\\n",
              "0                  44.4        4.0        1.0     10.0          12   \n",
              "1                   NaN        7.0        1.0     18.0           2   \n",
              "2                   NaN        9.0        7.0      6.0           6   \n",
              "3                  53.3        9.0        7.0     18.0          17   \n",
              "4                   NaN        6.0        5.0      6.0           3   \n",
              "\n",
              "   pts_perc_last_szn  L10_pts_perc  rolling_pts%  home  gametime_unix  \\\n",
              "0           0.568966           NaN      0.500000     0   1.381889e+09   \n",
              "1           0.603659          0.80      0.630769     0   1.046653e+09   \n",
              "2           0.560976          0.30      0.500000     0   1.205278e+09   \n",
              "3           0.614130          0.55      0.595238     1   1.542512e+09   \n",
              "4           0.481707          0.25      0.352941     0   1.075259e+09   \n",
              "\n",
              "   coach_pts%  \n",
              "0    0.248366  \n",
              "1    0.323529  \n",
              "2    0.233553  \n",
              "3    0.243030  \n",
              "4    0.193023  "
            ],
            "text/html": [
              "\n",
              "  <div id=\"df-2a4588e0-feac-4655-b51d-6b93832b4820\">\n",
              "    <div class=\"colab-df-container\">\n",
              "      <div>\n",
              "<style scoped>\n",
              "    .dataframe tbody tr th:only-of-type {\n",
              "        vertical-align: middle;\n",
              "    }\n",
              "\n",
              "    .dataframe tbody tr th {\n",
              "        vertical-align: top;\n",
              "    }\n",
              "\n",
              "    .dataframe thead th {\n",
              "        text-align: right;\n",
              "    }\n",
              "</style>\n",
              "<table border=\"1\" class=\"dataframe\">\n",
              "  <thead>\n",
              "    <tr style=\"text-align: right;\">\n",
              "      <th></th>\n",
              "      <th>game_id</th>\n",
              "      <th>team_id</th>\n",
              "      <th>won</th>\n",
              "      <th>shots</th>\n",
              "      <th>hits</th>\n",
              "      <th>pim</th>\n",
              "      <th>powerPlayOpportunities</th>\n",
              "      <th>faceOffWinPercentage</th>\n",
              "      <th>giveaways</th>\n",
              "      <th>takeaways</th>\n",
              "      <th>blocked</th>\n",
              "      <th>season_num</th>\n",
              "      <th>pts_perc_last_szn</th>\n",
              "      <th>L10_pts_perc</th>\n",
              "      <th>rolling_pts%</th>\n",
              "      <th>home</th>\n",
              "      <th>gametime_unix</th>\n",
              "      <th>coach_pts%</th>\n",
              "    </tr>\n",
              "  </thead>\n",
              "  <tbody>\n",
              "    <tr>\n",
              "      <th>0</th>\n",
              "      <td>2013020093</td>\n",
              "      <td>9</td>\n",
              "      <td>1</td>\n",
              "      <td>32.0</td>\n",
              "      <td>27.0</td>\n",
              "      <td>8.0</td>\n",
              "      <td>3.0</td>\n",
              "      <td>44.4</td>\n",
              "      <td>4.0</td>\n",
              "      <td>1.0</td>\n",
              "      <td>10.0</td>\n",
              "      <td>12</td>\n",
              "      <td>0.568966</td>\n",
              "      <td>NaN</td>\n",
              "      <td>0.500000</td>\n",
              "      <td>0</td>\n",
              "      <td>1.381889e+09</td>\n",
              "      <td>0.248366</td>\n",
              "    </tr>\n",
              "    <tr>\n",
              "      <th>1</th>\n",
              "      <td>2002020974</td>\n",
              "      <td>21</td>\n",
              "      <td>1</td>\n",
              "      <td>29.0</td>\n",
              "      <td>11.0</td>\n",
              "      <td>12.0</td>\n",
              "      <td>5.0</td>\n",
              "      <td>NaN</td>\n",
              "      <td>7.0</td>\n",
              "      <td>1.0</td>\n",
              "      <td>18.0</td>\n",
              "      <td>2</td>\n",
              "      <td>0.603659</td>\n",
              "      <td>0.80</td>\n",
              "      <td>0.630769</td>\n",
              "      <td>0</td>\n",
              "      <td>1.046653e+09</td>\n",
              "      <td>0.323529</td>\n",
              "    </tr>\n",
              "    <tr>\n",
              "      <th>2</th>\n",
              "      <td>2007021052</td>\n",
              "      <td>2</td>\n",
              "      <td>0</td>\n",
              "      <td>24.0</td>\n",
              "      <td>19.0</td>\n",
              "      <td>15.0</td>\n",
              "      <td>4.0</td>\n",
              "      <td>NaN</td>\n",
              "      <td>9.0</td>\n",
              "      <td>7.0</td>\n",
              "      <td>6.0</td>\n",
              "      <td>6</td>\n",
              "      <td>0.560976</td>\n",
              "      <td>0.30</td>\n",
              "      <td>0.500000</td>\n",
              "      <td>0</td>\n",
              "      <td>1.205278e+09</td>\n",
              "      <td>0.233553</td>\n",
              "    </tr>\n",
              "    <tr>\n",
              "      <th>3</th>\n",
              "      <td>2018020302</td>\n",
              "      <td>28</td>\n",
              "      <td>1</td>\n",
              "      <td>29.0</td>\n",
              "      <td>23.0</td>\n",
              "      <td>2.0</td>\n",
              "      <td>2.0</td>\n",
              "      <td>53.3</td>\n",
              "      <td>9.0</td>\n",
              "      <td>7.0</td>\n",
              "      <td>18.0</td>\n",
              "      <td>17</td>\n",
              "      <td>0.614130</td>\n",
              "      <td>0.55</td>\n",
              "      <td>0.595238</td>\n",
              "      <td>1</td>\n",
              "      <td>1.542512e+09</td>\n",
              "      <td>0.243030</td>\n",
              "    </tr>\n",
              "    <tr>\n",
              "      <th>4</th>\n",
              "      <td>2003020755</td>\n",
              "      <td>16</td>\n",
              "      <td>0</td>\n",
              "      <td>20.0</td>\n",
              "      <td>11.0</td>\n",
              "      <td>17.0</td>\n",
              "      <td>6.0</td>\n",
              "      <td>NaN</td>\n",
              "      <td>6.0</td>\n",
              "      <td>5.0</td>\n",
              "      <td>6.0</td>\n",
              "      <td>3</td>\n",
              "      <td>0.481707</td>\n",
              "      <td>0.25</td>\n",
              "      <td>0.352941</td>\n",
              "      <td>0</td>\n",
              "      <td>1.075259e+09</td>\n",
              "      <td>0.193023</td>\n",
              "    </tr>\n",
              "  </tbody>\n",
              "</table>\n",
              "</div>\n",
              "      <button class=\"colab-df-convert\" onclick=\"convertToInteractive('df-2a4588e0-feac-4655-b51d-6b93832b4820')\"\n",
              "              title=\"Convert this dataframe to an interactive table.\"\n",
              "              style=\"display:none;\">\n",
              "        \n",
              "  <svg xmlns=\"http://www.w3.org/2000/svg\" height=\"24px\"viewBox=\"0 0 24 24\"\n",
              "       width=\"24px\">\n",
              "    <path d=\"M0 0h24v24H0V0z\" fill=\"none\"/>\n",
              "    <path d=\"M18.56 5.44l.94 2.06.94-2.06 2.06-.94-2.06-.94-.94-2.06-.94 2.06-2.06.94zm-11 1L8.5 8.5l.94-2.06 2.06-.94-2.06-.94L8.5 2.5l-.94 2.06-2.06.94zm10 10l.94 2.06.94-2.06 2.06-.94-2.06-.94-.94-2.06-.94 2.06-2.06.94z\"/><path d=\"M17.41 7.96l-1.37-1.37c-.4-.4-.92-.59-1.43-.59-.52 0-1.04.2-1.43.59L10.3 9.45l-7.72 7.72c-.78.78-.78 2.05 0 2.83L4 21.41c.39.39.9.59 1.41.59.51 0 1.02-.2 1.41-.59l7.78-7.78 2.81-2.81c.8-.78.8-2.07 0-2.86zM5.41 20L4 18.59l7.72-7.72 1.47 1.35L5.41 20z\"/>\n",
              "  </svg>\n",
              "      </button>\n",
              "      \n",
              "  <style>\n",
              "    .colab-df-container {\n",
              "      display:flex;\n",
              "      flex-wrap:wrap;\n",
              "      gap: 12px;\n",
              "    }\n",
              "\n",
              "    .colab-df-convert {\n",
              "      background-color: #E8F0FE;\n",
              "      border: none;\n",
              "      border-radius: 50%;\n",
              "      cursor: pointer;\n",
              "      display: none;\n",
              "      fill: #1967D2;\n",
              "      height: 32px;\n",
              "      padding: 0 0 0 0;\n",
              "      width: 32px;\n",
              "    }\n",
              "\n",
              "    .colab-df-convert:hover {\n",
              "      background-color: #E2EBFA;\n",
              "      box-shadow: 0px 1px 2px rgba(60, 64, 67, 0.3), 0px 1px 3px 1px rgba(60, 64, 67, 0.15);\n",
              "      fill: #174EA6;\n",
              "    }\n",
              "\n",
              "    [theme=dark] .colab-df-convert {\n",
              "      background-color: #3B4455;\n",
              "      fill: #D2E3FC;\n",
              "    }\n",
              "\n",
              "    [theme=dark] .colab-df-convert:hover {\n",
              "      background-color: #434B5C;\n",
              "      box-shadow: 0px 1px 3px 1px rgba(0, 0, 0, 0.15);\n",
              "      filter: drop-shadow(0px 1px 2px rgba(0, 0, 0, 0.3));\n",
              "      fill: #FFFFFF;\n",
              "    }\n",
              "  </style>\n",
              "\n",
              "      <script>\n",
              "        const buttonEl =\n",
              "          document.querySelector('#df-2a4588e0-feac-4655-b51d-6b93832b4820 button.colab-df-convert');\n",
              "        buttonEl.style.display =\n",
              "          google.colab.kernel.accessAllowed ? 'block' : 'none';\n",
              "\n",
              "        async function convertToInteractive(key) {\n",
              "          const element = document.querySelector('#df-2a4588e0-feac-4655-b51d-6b93832b4820');\n",
              "          const dataTable =\n",
              "            await google.colab.kernel.invokeFunction('convertToInteractive',\n",
              "                                                     [key], {});\n",
              "          if (!dataTable) return;\n",
              "\n",
              "          const docLinkHtml = 'Like what you see? Visit the ' +\n",
              "            '<a target=\"_blank\" href=https://colab.research.google.com/notebooks/data_table.ipynb>data table notebook</a>'\n",
              "            + ' to learn more about interactive tables.';\n",
              "          element.innerHTML = '';\n",
              "          dataTable['output_type'] = 'display_data';\n",
              "          await google.colab.output.renderOutput(dataTable, element);\n",
              "          const docLink = document.createElement('div');\n",
              "          docLink.innerHTML = docLinkHtml;\n",
              "          element.appendChild(docLink);\n",
              "        }\n",
              "      </script>\n",
              "    </div>\n",
              "  </div>\n",
              "  "
            ]
          },
          "metadata": {},
          "execution_count": 81
        }
      ]
    },
    {
      "cell_type": "code",
      "source": [
        "df_test.head()"
      ],
      "metadata": {
        "colab": {
          "base_uri": "https://localhost:8080/",
          "height": 270
        },
        "id": "eugd-mxv1bZU",
        "outputId": "30aac37d-f95b-41ff-9e1a-dfd3d7ce2a40"
      },
      "execution_count": null,
      "outputs": [
        {
          "output_type": "execute_result",
          "data": {
            "text/plain": [
              "          game_id  team_id  won  shots  hits   pim  powerPlayOpportunities  \\\n",
              "34719  2000020121       10    1   29.0   NaN  15.0                     5.0   \n",
              "25650  2016020278       29    0   42.0   9.0   2.0                     1.0   \n",
              "14822  2010020834       27    1   25.0  22.0   8.0                     3.0   \n",
              "29360  2011021097        7    1   31.0   9.0  11.0                     6.0   \n",
              "37568  2015030415       28    1   22.0  30.0   8.0                     2.0   \n",
              "\n",
              "       faceOffWinPercentage  giveaways  takeaways  blocked  season_num  \\\n",
              "34719                   NaN        NaN        NaN      NaN           0   \n",
              "25650                  53.1       10.0        9.0     14.0          15   \n",
              "14822                  58.6        2.0        5.0      8.0           9   \n",
              "29360                  51.7        3.0       10.0     11.0          10   \n",
              "37568                  51.4        2.0        5.0     17.0          14   \n",
              "\n",
              "       pts_perc_last_szn  L10_pts_perc  rolling_pts%  home  gametime_unix  \\\n",
              "34719                NaN           NaN      0.625000     1   9.725166e+08   \n",
              "25650           0.463415          0.80      0.676471     1   1.479773e+09   \n",
              "14822           0.652439          0.60      0.587719     1   1.297559e+09   \n",
              "29360           0.578652          0.70      0.540541     1   1.332371e+09   \n",
              "37568           0.542683          0.65      0.619048     0   1.465517e+09   \n",
              "\n",
              "       coach_pts%  \n",
              "34719    0.312500  \n",
              "25650    0.238454  \n",
              "14822    0.274788  \n",
              "29360    0.253052  \n",
              "37568    0.233547  "
            ],
            "text/html": [
              "\n",
              "  <div id=\"df-9c230915-8147-4141-8d61-ca97b163c4a9\">\n",
              "    <div class=\"colab-df-container\">\n",
              "      <div>\n",
              "<style scoped>\n",
              "    .dataframe tbody tr th:only-of-type {\n",
              "        vertical-align: middle;\n",
              "    }\n",
              "\n",
              "    .dataframe tbody tr th {\n",
              "        vertical-align: top;\n",
              "    }\n",
              "\n",
              "    .dataframe thead th {\n",
              "        text-align: right;\n",
              "    }\n",
              "</style>\n",
              "<table border=\"1\" class=\"dataframe\">\n",
              "  <thead>\n",
              "    <tr style=\"text-align: right;\">\n",
              "      <th></th>\n",
              "      <th>game_id</th>\n",
              "      <th>team_id</th>\n",
              "      <th>won</th>\n",
              "      <th>shots</th>\n",
              "      <th>hits</th>\n",
              "      <th>pim</th>\n",
              "      <th>powerPlayOpportunities</th>\n",
              "      <th>faceOffWinPercentage</th>\n",
              "      <th>giveaways</th>\n",
              "      <th>takeaways</th>\n",
              "      <th>blocked</th>\n",
              "      <th>season_num</th>\n",
              "      <th>pts_perc_last_szn</th>\n",
              "      <th>L10_pts_perc</th>\n",
              "      <th>rolling_pts%</th>\n",
              "      <th>home</th>\n",
              "      <th>gametime_unix</th>\n",
              "      <th>coach_pts%</th>\n",
              "    </tr>\n",
              "  </thead>\n",
              "  <tbody>\n",
              "    <tr>\n",
              "      <th>34719</th>\n",
              "      <td>2000020121</td>\n",
              "      <td>10</td>\n",
              "      <td>1</td>\n",
              "      <td>29.0</td>\n",
              "      <td>NaN</td>\n",
              "      <td>15.0</td>\n",
              "      <td>5.0</td>\n",
              "      <td>NaN</td>\n",
              "      <td>NaN</td>\n",
              "      <td>NaN</td>\n",
              "      <td>NaN</td>\n",
              "      <td>0</td>\n",
              "      <td>NaN</td>\n",
              "      <td>NaN</td>\n",
              "      <td>0.625000</td>\n",
              "      <td>1</td>\n",
              "      <td>9.725166e+08</td>\n",
              "      <td>0.312500</td>\n",
              "    </tr>\n",
              "    <tr>\n",
              "      <th>25650</th>\n",
              "      <td>2016020278</td>\n",
              "      <td>29</td>\n",
              "      <td>0</td>\n",
              "      <td>42.0</td>\n",
              "      <td>9.0</td>\n",
              "      <td>2.0</td>\n",
              "      <td>1.0</td>\n",
              "      <td>53.1</td>\n",
              "      <td>10.0</td>\n",
              "      <td>9.0</td>\n",
              "      <td>14.0</td>\n",
              "      <td>15</td>\n",
              "      <td>0.463415</td>\n",
              "      <td>0.80</td>\n",
              "      <td>0.676471</td>\n",
              "      <td>1</td>\n",
              "      <td>1.479773e+09</td>\n",
              "      <td>0.238454</td>\n",
              "    </tr>\n",
              "    <tr>\n",
              "      <th>14822</th>\n",
              "      <td>2010020834</td>\n",
              "      <td>27</td>\n",
              "      <td>1</td>\n",
              "      <td>25.0</td>\n",
              "      <td>22.0</td>\n",
              "      <td>8.0</td>\n",
              "      <td>3.0</td>\n",
              "      <td>58.6</td>\n",
              "      <td>2.0</td>\n",
              "      <td>5.0</td>\n",
              "      <td>8.0</td>\n",
              "      <td>9</td>\n",
              "      <td>0.652439</td>\n",
              "      <td>0.60</td>\n",
              "      <td>0.587719</td>\n",
              "      <td>1</td>\n",
              "      <td>1.297559e+09</td>\n",
              "      <td>0.274788</td>\n",
              "    </tr>\n",
              "    <tr>\n",
              "      <th>29360</th>\n",
              "      <td>2011021097</td>\n",
              "      <td>7</td>\n",
              "      <td>1</td>\n",
              "      <td>31.0</td>\n",
              "      <td>9.0</td>\n",
              "      <td>11.0</td>\n",
              "      <td>6.0</td>\n",
              "      <td>51.7</td>\n",
              "      <td>3.0</td>\n",
              "      <td>10.0</td>\n",
              "      <td>11.0</td>\n",
              "      <td>10</td>\n",
              "      <td>0.578652</td>\n",
              "      <td>0.70</td>\n",
              "      <td>0.540541</td>\n",
              "      <td>1</td>\n",
              "      <td>1.332371e+09</td>\n",
              "      <td>0.253052</td>\n",
              "    </tr>\n",
              "    <tr>\n",
              "      <th>37568</th>\n",
              "      <td>2015030415</td>\n",
              "      <td>28</td>\n",
              "      <td>1</td>\n",
              "      <td>22.0</td>\n",
              "      <td>30.0</td>\n",
              "      <td>8.0</td>\n",
              "      <td>2.0</td>\n",
              "      <td>51.4</td>\n",
              "      <td>2.0</td>\n",
              "      <td>5.0</td>\n",
              "      <td>17.0</td>\n",
              "      <td>14</td>\n",
              "      <td>0.542683</td>\n",
              "      <td>0.65</td>\n",
              "      <td>0.619048</td>\n",
              "      <td>0</td>\n",
              "      <td>1.465517e+09</td>\n",
              "      <td>0.233547</td>\n",
              "    </tr>\n",
              "  </tbody>\n",
              "</table>\n",
              "</div>\n",
              "      <button class=\"colab-df-convert\" onclick=\"convertToInteractive('df-9c230915-8147-4141-8d61-ca97b163c4a9')\"\n",
              "              title=\"Convert this dataframe to an interactive table.\"\n",
              "              style=\"display:none;\">\n",
              "        \n",
              "  <svg xmlns=\"http://www.w3.org/2000/svg\" height=\"24px\"viewBox=\"0 0 24 24\"\n",
              "       width=\"24px\">\n",
              "    <path d=\"M0 0h24v24H0V0z\" fill=\"none\"/>\n",
              "    <path d=\"M18.56 5.44l.94 2.06.94-2.06 2.06-.94-2.06-.94-.94-2.06-.94 2.06-2.06.94zm-11 1L8.5 8.5l.94-2.06 2.06-.94-2.06-.94L8.5 2.5l-.94 2.06-2.06.94zm10 10l.94 2.06.94-2.06 2.06-.94-2.06-.94-.94-2.06-.94 2.06-2.06.94z\"/><path d=\"M17.41 7.96l-1.37-1.37c-.4-.4-.92-.59-1.43-.59-.52 0-1.04.2-1.43.59L10.3 9.45l-7.72 7.72c-.78.78-.78 2.05 0 2.83L4 21.41c.39.39.9.59 1.41.59.51 0 1.02-.2 1.41-.59l7.78-7.78 2.81-2.81c.8-.78.8-2.07 0-2.86zM5.41 20L4 18.59l7.72-7.72 1.47 1.35L5.41 20z\"/>\n",
              "  </svg>\n",
              "      </button>\n",
              "      \n",
              "  <style>\n",
              "    .colab-df-container {\n",
              "      display:flex;\n",
              "      flex-wrap:wrap;\n",
              "      gap: 12px;\n",
              "    }\n",
              "\n",
              "    .colab-df-convert {\n",
              "      background-color: #E8F0FE;\n",
              "      border: none;\n",
              "      border-radius: 50%;\n",
              "      cursor: pointer;\n",
              "      display: none;\n",
              "      fill: #1967D2;\n",
              "      height: 32px;\n",
              "      padding: 0 0 0 0;\n",
              "      width: 32px;\n",
              "    }\n",
              "\n",
              "    .colab-df-convert:hover {\n",
              "      background-color: #E2EBFA;\n",
              "      box-shadow: 0px 1px 2px rgba(60, 64, 67, 0.3), 0px 1px 3px 1px rgba(60, 64, 67, 0.15);\n",
              "      fill: #174EA6;\n",
              "    }\n",
              "\n",
              "    [theme=dark] .colab-df-convert {\n",
              "      background-color: #3B4455;\n",
              "      fill: #D2E3FC;\n",
              "    }\n",
              "\n",
              "    [theme=dark] .colab-df-convert:hover {\n",
              "      background-color: #434B5C;\n",
              "      box-shadow: 0px 1px 3px 1px rgba(0, 0, 0, 0.15);\n",
              "      filter: drop-shadow(0px 1px 2px rgba(0, 0, 0, 0.3));\n",
              "      fill: #FFFFFF;\n",
              "    }\n",
              "  </style>\n",
              "\n",
              "      <script>\n",
              "        const buttonEl =\n",
              "          document.querySelector('#df-9c230915-8147-4141-8d61-ca97b163c4a9 button.colab-df-convert');\n",
              "        buttonEl.style.display =\n",
              "          google.colab.kernel.accessAllowed ? 'block' : 'none';\n",
              "\n",
              "        async function convertToInteractive(key) {\n",
              "          const element = document.querySelector('#df-9c230915-8147-4141-8d61-ca97b163c4a9');\n",
              "          const dataTable =\n",
              "            await google.colab.kernel.invokeFunction('convertToInteractive',\n",
              "                                                     [key], {});\n",
              "          if (!dataTable) return;\n",
              "\n",
              "          const docLinkHtml = 'Like what you see? Visit the ' +\n",
              "            '<a target=\"_blank\" href=https://colab.research.google.com/notebooks/data_table.ipynb>data table notebook</a>'\n",
              "            + ' to learn more about interactive tables.';\n",
              "          element.innerHTML = '';\n",
              "          dataTable['output_type'] = 'display_data';\n",
              "          await google.colab.output.renderOutput(dataTable, element);\n",
              "          const docLink = document.createElement('div');\n",
              "          docLink.innerHTML = docLinkHtml;\n",
              "          element.appendChild(docLink);\n",
              "        }\n",
              "      </script>\n",
              "    </div>\n",
              "  </div>\n",
              "  "
            ]
          },
          "metadata": {},
          "execution_count": 82
        }
      ]
    },
    {
      "cell_type": "markdown",
      "source": [
        "## Checking Features"
      ],
      "metadata": {
        "id": "rbI-swdoOYTv"
      }
    },
    {
      "cell_type": "markdown",
      "source": [
        "### Uncommon Features"
      ],
      "metadata": {
        "id": "JCdLlA0XQWRQ"
      }
    },
    {
      "cell_type": "code",
      "source": [
        "## getting common features\n",
        "common_features = np.intersect1d(np.intersect1d(df_train.columns, df_val.columns), df_test.columns)\n",
        "print(common_features)"
      ],
      "metadata": {
        "colab": {
          "base_uri": "https://localhost:8080/"
        },
        "id": "dV3lx0IxOc3-",
        "outputId": "90c1590f-c1d5-493a-e3ee-fe6a80c60a68"
      },
      "execution_count": null,
      "outputs": [
        {
          "output_type": "stream",
          "name": "stdout",
          "text": [
            "['L10_pts_perc' 'blocked' 'coach_pts%' 'faceOffWinPercentage' 'game_id'\n",
            " 'gametime_unix' 'giveaways' 'hits' 'home' 'pim' 'powerPlayOpportunities'\n",
            " 'pts_perc_last_szn' 'rolling_pts%' 'season_num' 'shots' 'takeaways'\n",
            " 'team_id' 'won']\n"
          ]
        }
      ]
    },
    {
      "cell_type": "code",
      "source": [
        "uncommon = np.setdiff1d(df_train.columns, common_features) + np.setdiff1d(df_val.columns, common_features) + np.setdiff1d(df_test.columns, common_features)\n",
        "print(uncommon)"
      ],
      "metadata": {
        "colab": {
          "base_uri": "https://localhost:8080/"
        },
        "id": "N5b8Z3WjPmct",
        "outputId": "4e79fdd8-bcfe-4558-bc06-fd5beb277e43"
      },
      "execution_count": null,
      "outputs": [
        {
          "output_type": "stream",
          "name": "stdout",
          "text": [
            "[]\n"
          ]
        }
      ]
    },
    {
      "cell_type": "markdown",
      "source": [
        "kewl, no uncommon features, probs didn't need this cause we saw they all had the same number of columns, ah well"
      ],
      "metadata": {
        "id": "juVsKtBiQEdC"
      }
    },
    {
      "cell_type": "markdown",
      "source": [
        "### Identifiers"
      ],
      "metadata": {
        "id": "4SKRtosjQS2o"
      }
    },
    {
      "cell_type": "code",
      "source": [
        "id_cols = ['game_id']\n",
        "\n",
        "df_train.drop(columns = id_cols, inplace = True)\n",
        "df_test.drop(columns = id_cols, inplace = True)\n",
        "df_val.drop(columns = id_cols, inplace = True)\n",
        "\n",
        "print('Train shape: ', df_train.shape)\n",
        "print('Test shape: ', df_test.shape)\n",
        "print('Val shape: ', df_val.shape)"
      ],
      "metadata": {
        "colab": {
          "base_uri": "https://localhost:8080/"
        },
        "id": "kA0MTqP9QmuC",
        "outputId": "22cac72b-6648-4bfa-d955-674d7006820b"
      },
      "execution_count": null,
      "outputs": [
        {
          "output_type": "stream",
          "name": "stdout",
          "text": [
            "Train shape:  (30356, 17)\n",
            "Test shape:  (9487, 17)\n",
            "Val shape:  (7589, 17)\n"
          ]
        }
      ]
    },
    {
      "cell_type": "markdown",
      "source": [
        "## Missing Data"
      ],
      "metadata": {
        "id": "qfR0UWzfRg6z"
      }
    },
    {
      "cell_type": "code",
      "source": [
        "import copy\n",
        "# Combine df_train, df_val and df_test\n",
        "df = pd.concat([df_train, df_val, df_test], sort=False)\n",
        "edadf = copy.deepcopy(df)"
      ],
      "metadata": {
        "id": "7B3IibyBQwlr"
      },
      "execution_count": null,
      "outputs": []
    },
    {
      "cell_type": "code",
      "source": [
        "def nan_checker(df):\n",
        "    # JAMES'S CODE !! Just so i can use the func, figure out how to use this later\n",
        "    \"\"\"\n",
        "    The NaN checker\n",
        "\n",
        "    Parameters\n",
        "    ----------\n",
        "    df : the dataframe\n",
        "    \n",
        "    Returns\n",
        "    ----------\n",
        "    The dataframe of variables with NaN, their proportion of NaN and data type\n",
        "    \"\"\"\n",
        "    \n",
        "    # Get the dataframe of variables with NaN, their proportion of NaN and data type\n",
        "    df_nan = pd.DataFrame([[var, df[var].isna().sum() / df.shape[0], df[var].dtype]\n",
        "                           for var in df.columns if df[var].isna().sum() > 0],\n",
        "                          columns=['var', 'proportion', 'dtype'])\n",
        "    \n",
        "    # Sort df_nan in accending order of the proportion of NaN\n",
        "    df_nan = df_nan.sort_values(by='proportion', ascending=False).reset_index(drop=True)\n",
        "    \n",
        "    return df_nan"
      ],
      "metadata": {
        "id": "W-BjCvxUSThY"
      },
      "execution_count": null,
      "outputs": []
    },
    {
      "cell_type": "code",
      "source": [
        "df_miss = nan_checker(df)\n",
        "\n",
        "# Print df_nan\n",
        "df_miss"
      ],
      "metadata": {
        "id": "vjYDMLqpSZsc",
        "outputId": "180ce2cb-2f80-44f5-a717-cb55ee97b902",
        "colab": {
          "base_uri": "https://localhost:8080/",
          "height": 269
        }
      },
      "execution_count": null,
      "outputs": [
        {
          "output_type": "execute_result",
          "data": {
            "text/plain": [
              "                    var  proportion    dtype\n",
              "0  faceOffWinPercentage    0.466773  float64\n",
              "1          L10_pts_perc    0.108724  float64\n",
              "2                  hits    0.103727  float64\n",
              "3             giveaways    0.103727  float64\n",
              "4             takeaways    0.103727  float64\n",
              "5               blocked    0.103727  float64\n",
              "6     pts_perc_last_szn    0.057472  float64"
            ],
            "text/html": [
              "\n",
              "  <div id=\"df-29b20d66-e958-4209-bc5a-33eba2adeee1\">\n",
              "    <div class=\"colab-df-container\">\n",
              "      <div>\n",
              "<style scoped>\n",
              "    .dataframe tbody tr th:only-of-type {\n",
              "        vertical-align: middle;\n",
              "    }\n",
              "\n",
              "    .dataframe tbody tr th {\n",
              "        vertical-align: top;\n",
              "    }\n",
              "\n",
              "    .dataframe thead th {\n",
              "        text-align: right;\n",
              "    }\n",
              "</style>\n",
              "<table border=\"1\" class=\"dataframe\">\n",
              "  <thead>\n",
              "    <tr style=\"text-align: right;\">\n",
              "      <th></th>\n",
              "      <th>var</th>\n",
              "      <th>proportion</th>\n",
              "      <th>dtype</th>\n",
              "    </tr>\n",
              "  </thead>\n",
              "  <tbody>\n",
              "    <tr>\n",
              "      <th>0</th>\n",
              "      <td>faceOffWinPercentage</td>\n",
              "      <td>0.466773</td>\n",
              "      <td>float64</td>\n",
              "    </tr>\n",
              "    <tr>\n",
              "      <th>1</th>\n",
              "      <td>L10_pts_perc</td>\n",
              "      <td>0.108724</td>\n",
              "      <td>float64</td>\n",
              "    </tr>\n",
              "    <tr>\n",
              "      <th>2</th>\n",
              "      <td>hits</td>\n",
              "      <td>0.103727</td>\n",
              "      <td>float64</td>\n",
              "    </tr>\n",
              "    <tr>\n",
              "      <th>3</th>\n",
              "      <td>giveaways</td>\n",
              "      <td>0.103727</td>\n",
              "      <td>float64</td>\n",
              "    </tr>\n",
              "    <tr>\n",
              "      <th>4</th>\n",
              "      <td>takeaways</td>\n",
              "      <td>0.103727</td>\n",
              "      <td>float64</td>\n",
              "    </tr>\n",
              "    <tr>\n",
              "      <th>5</th>\n",
              "      <td>blocked</td>\n",
              "      <td>0.103727</td>\n",
              "      <td>float64</td>\n",
              "    </tr>\n",
              "    <tr>\n",
              "      <th>6</th>\n",
              "      <td>pts_perc_last_szn</td>\n",
              "      <td>0.057472</td>\n",
              "      <td>float64</td>\n",
              "    </tr>\n",
              "  </tbody>\n",
              "</table>\n",
              "</div>\n",
              "      <button class=\"colab-df-convert\" onclick=\"convertToInteractive('df-29b20d66-e958-4209-bc5a-33eba2adeee1')\"\n",
              "              title=\"Convert this dataframe to an interactive table.\"\n",
              "              style=\"display:none;\">\n",
              "        \n",
              "  <svg xmlns=\"http://www.w3.org/2000/svg\" height=\"24px\"viewBox=\"0 0 24 24\"\n",
              "       width=\"24px\">\n",
              "    <path d=\"M0 0h24v24H0V0z\" fill=\"none\"/>\n",
              "    <path d=\"M18.56 5.44l.94 2.06.94-2.06 2.06-.94-2.06-.94-.94-2.06-.94 2.06-2.06.94zm-11 1L8.5 8.5l.94-2.06 2.06-.94-2.06-.94L8.5 2.5l-.94 2.06-2.06.94zm10 10l.94 2.06.94-2.06 2.06-.94-2.06-.94-.94-2.06-.94 2.06-2.06.94z\"/><path d=\"M17.41 7.96l-1.37-1.37c-.4-.4-.92-.59-1.43-.59-.52 0-1.04.2-1.43.59L10.3 9.45l-7.72 7.72c-.78.78-.78 2.05 0 2.83L4 21.41c.39.39.9.59 1.41.59.51 0 1.02-.2 1.41-.59l7.78-7.78 2.81-2.81c.8-.78.8-2.07 0-2.86zM5.41 20L4 18.59l7.72-7.72 1.47 1.35L5.41 20z\"/>\n",
              "  </svg>\n",
              "      </button>\n",
              "      \n",
              "  <style>\n",
              "    .colab-df-container {\n",
              "      display:flex;\n",
              "      flex-wrap:wrap;\n",
              "      gap: 12px;\n",
              "    }\n",
              "\n",
              "    .colab-df-convert {\n",
              "      background-color: #E8F0FE;\n",
              "      border: none;\n",
              "      border-radius: 50%;\n",
              "      cursor: pointer;\n",
              "      display: none;\n",
              "      fill: #1967D2;\n",
              "      height: 32px;\n",
              "      padding: 0 0 0 0;\n",
              "      width: 32px;\n",
              "    }\n",
              "\n",
              "    .colab-df-convert:hover {\n",
              "      background-color: #E2EBFA;\n",
              "      box-shadow: 0px 1px 2px rgba(60, 64, 67, 0.3), 0px 1px 3px 1px rgba(60, 64, 67, 0.15);\n",
              "      fill: #174EA6;\n",
              "    }\n",
              "\n",
              "    [theme=dark] .colab-df-convert {\n",
              "      background-color: #3B4455;\n",
              "      fill: #D2E3FC;\n",
              "    }\n",
              "\n",
              "    [theme=dark] .colab-df-convert:hover {\n",
              "      background-color: #434B5C;\n",
              "      box-shadow: 0px 1px 3px 1px rgba(0, 0, 0, 0.15);\n",
              "      filter: drop-shadow(0px 1px 2px rgba(0, 0, 0, 0.3));\n",
              "      fill: #FFFFFF;\n",
              "    }\n",
              "  </style>\n",
              "\n",
              "      <script>\n",
              "        const buttonEl =\n",
              "          document.querySelector('#df-29b20d66-e958-4209-bc5a-33eba2adeee1 button.colab-df-convert');\n",
              "        buttonEl.style.display =\n",
              "          google.colab.kernel.accessAllowed ? 'block' : 'none';\n",
              "\n",
              "        async function convertToInteractive(key) {\n",
              "          const element = document.querySelector('#df-29b20d66-e958-4209-bc5a-33eba2adeee1');\n",
              "          const dataTable =\n",
              "            await google.colab.kernel.invokeFunction('convertToInteractive',\n",
              "                                                     [key], {});\n",
              "          if (!dataTable) return;\n",
              "\n",
              "          const docLinkHtml = 'Like what you see? Visit the ' +\n",
              "            '<a target=\"_blank\" href=https://colab.research.google.com/notebooks/data_table.ipynb>data table notebook</a>'\n",
              "            + ' to learn more about interactive tables.';\n",
              "          element.innerHTML = '';\n",
              "          dataTable['output_type'] = 'display_data';\n",
              "          await google.colab.output.renderOutput(dataTable, element);\n",
              "          const docLink = document.createElement('div');\n",
              "          docLink.innerHTML = docLinkHtml;\n",
              "          element.appendChild(docLink);\n",
              "        }\n",
              "      </script>\n",
              "    </div>\n",
              "  </div>\n",
              "  "
            ]
          },
          "metadata": {},
          "execution_count": 88
        }
      ]
    },
    {
      "cell_type": "markdown",
      "source": [
        "All the missing data are floats so we can consider them missing and impute them"
      ],
      "metadata": {
        "id": "B2pZWkqRSywJ"
      }
    },
    {
      "cell_type": "code",
      "source": [
        "from sklearn.impute import SimpleImputer\n",
        "\n",
        "# The SimpleImputer\n",
        "si = SimpleImputer(missing_values=np.nan, strategy='most_frequent')\n",
        "\n",
        "# Impute the variables with missing values in df_train, df_val and df_test \n",
        "df_train[df_miss['var']] = si.fit_transform(df_train[df_miss['var']])\n",
        "df_val[df_miss['var']] = si.transform(df_val[df_miss['var']])\n",
        "df_test[df_miss['var']] = si.transform(df_test[df_miss['var']])"
      ],
      "metadata": {
        "id": "ogxf0W4cS34A"
      },
      "execution_count": null,
      "outputs": []
    },
    {
      "cell_type": "markdown",
      "source": [
        "## Encoding"
      ],
      "metadata": {
        "id": "8UFYZbx7TSSu"
      }
    },
    {
      "cell_type": "code",
      "source": [
        "# Combine df_train, df_val and df_test\n",
        "df = pd.concat([df_train, df_val, df_test], sort=False)\n",
        "\n",
        "# Print the unique data type of variables in df\n",
        "pd.DataFrame(df.dtypes.unique(), columns=['dtype'])"
      ],
      "metadata": {
        "id": "u6XCnAm0TTfK",
        "outputId": "b6d6a2ea-de05-4c7a-b217-939df5933c3f",
        "colab": {
          "base_uri": "https://localhost:8080/",
          "height": 112
        }
      },
      "execution_count": null,
      "outputs": [
        {
          "output_type": "execute_result",
          "data": {
            "text/plain": [
              "     dtype\n",
              "0    int64\n",
              "1  float64"
            ],
            "text/html": [
              "\n",
              "  <div id=\"df-e01a1271-0fd1-4ba6-b931-dba058f121b0\">\n",
              "    <div class=\"colab-df-container\">\n",
              "      <div>\n",
              "<style scoped>\n",
              "    .dataframe tbody tr th:only-of-type {\n",
              "        vertical-align: middle;\n",
              "    }\n",
              "\n",
              "    .dataframe tbody tr th {\n",
              "        vertical-align: top;\n",
              "    }\n",
              "\n",
              "    .dataframe thead th {\n",
              "        text-align: right;\n",
              "    }\n",
              "</style>\n",
              "<table border=\"1\" class=\"dataframe\">\n",
              "  <thead>\n",
              "    <tr style=\"text-align: right;\">\n",
              "      <th></th>\n",
              "      <th>dtype</th>\n",
              "    </tr>\n",
              "  </thead>\n",
              "  <tbody>\n",
              "    <tr>\n",
              "      <th>0</th>\n",
              "      <td>int64</td>\n",
              "    </tr>\n",
              "    <tr>\n",
              "      <th>1</th>\n",
              "      <td>float64</td>\n",
              "    </tr>\n",
              "  </tbody>\n",
              "</table>\n",
              "</div>\n",
              "      <button class=\"colab-df-convert\" onclick=\"convertToInteractive('df-e01a1271-0fd1-4ba6-b931-dba058f121b0')\"\n",
              "              title=\"Convert this dataframe to an interactive table.\"\n",
              "              style=\"display:none;\">\n",
              "        \n",
              "  <svg xmlns=\"http://www.w3.org/2000/svg\" height=\"24px\"viewBox=\"0 0 24 24\"\n",
              "       width=\"24px\">\n",
              "    <path d=\"M0 0h24v24H0V0z\" fill=\"none\"/>\n",
              "    <path d=\"M18.56 5.44l.94 2.06.94-2.06 2.06-.94-2.06-.94-.94-2.06-.94 2.06-2.06.94zm-11 1L8.5 8.5l.94-2.06 2.06-.94-2.06-.94L8.5 2.5l-.94 2.06-2.06.94zm10 10l.94 2.06.94-2.06 2.06-.94-2.06-.94-.94-2.06-.94 2.06-2.06.94z\"/><path d=\"M17.41 7.96l-1.37-1.37c-.4-.4-.92-.59-1.43-.59-.52 0-1.04.2-1.43.59L10.3 9.45l-7.72 7.72c-.78.78-.78 2.05 0 2.83L4 21.41c.39.39.9.59 1.41.59.51 0 1.02-.2 1.41-.59l7.78-7.78 2.81-2.81c.8-.78.8-2.07 0-2.86zM5.41 20L4 18.59l7.72-7.72 1.47 1.35L5.41 20z\"/>\n",
              "  </svg>\n",
              "      </button>\n",
              "      \n",
              "  <style>\n",
              "    .colab-df-container {\n",
              "      display:flex;\n",
              "      flex-wrap:wrap;\n",
              "      gap: 12px;\n",
              "    }\n",
              "\n",
              "    .colab-df-convert {\n",
              "      background-color: #E8F0FE;\n",
              "      border: none;\n",
              "      border-radius: 50%;\n",
              "      cursor: pointer;\n",
              "      display: none;\n",
              "      fill: #1967D2;\n",
              "      height: 32px;\n",
              "      padding: 0 0 0 0;\n",
              "      width: 32px;\n",
              "    }\n",
              "\n",
              "    .colab-df-convert:hover {\n",
              "      background-color: #E2EBFA;\n",
              "      box-shadow: 0px 1px 2px rgba(60, 64, 67, 0.3), 0px 1px 3px 1px rgba(60, 64, 67, 0.15);\n",
              "      fill: #174EA6;\n",
              "    }\n",
              "\n",
              "    [theme=dark] .colab-df-convert {\n",
              "      background-color: #3B4455;\n",
              "      fill: #D2E3FC;\n",
              "    }\n",
              "\n",
              "    [theme=dark] .colab-df-convert:hover {\n",
              "      background-color: #434B5C;\n",
              "      box-shadow: 0px 1px 3px 1px rgba(0, 0, 0, 0.15);\n",
              "      filter: drop-shadow(0px 1px 2px rgba(0, 0, 0, 0.3));\n",
              "      fill: #FFFFFF;\n",
              "    }\n",
              "  </style>\n",
              "\n",
              "      <script>\n",
              "        const buttonEl =\n",
              "          document.querySelector('#df-e01a1271-0fd1-4ba6-b931-dba058f121b0 button.colab-df-convert');\n",
              "        buttonEl.style.display =\n",
              "          google.colab.kernel.accessAllowed ? 'block' : 'none';\n",
              "\n",
              "        async function convertToInteractive(key) {\n",
              "          const element = document.querySelector('#df-e01a1271-0fd1-4ba6-b931-dba058f121b0');\n",
              "          const dataTable =\n",
              "            await google.colab.kernel.invokeFunction('convertToInteractive',\n",
              "                                                     [key], {});\n",
              "          if (!dataTable) return;\n",
              "\n",
              "          const docLinkHtml = 'Like what you see? Visit the ' +\n",
              "            '<a target=\"_blank\" href=https://colab.research.google.com/notebooks/data_table.ipynb>data table notebook</a>'\n",
              "            + ' to learn more about interactive tables.';\n",
              "          element.innerHTML = '';\n",
              "          dataTable['output_type'] = 'display_data';\n",
              "          await google.colab.output.renderOutput(dataTable, element);\n",
              "          const docLink = document.createElement('div');\n",
              "          docLink.innerHTML = docLinkHtml;\n",
              "          element.appendChild(docLink);\n",
              "        }\n",
              "      </script>\n",
              "    </div>\n",
              "  </div>\n",
              "  "
            ]
          },
          "metadata": {},
          "execution_count": 90
        }
      ]
    },
    {
      "cell_type": "markdown",
      "source": [
        "No cat variables, woo, no need to encode"
      ],
      "metadata": {
        "id": "R4QqRzxIV_Qb"
      }
    },
    {
      "cell_type": "markdown",
      "source": [
        "## Split Features and Target"
      ],
      "metadata": {
        "id": "cxU8hxNEWICr"
      }
    },
    {
      "cell_type": "code",
      "source": [
        "# Get the feature matrix\n",
        "X_train = df_train[np.setdiff1d(df_train.columns, [target])].values\n",
        "X_val = df_val[np.setdiff1d(df_val.columns, [target])].values\n",
        "X_test = df_test[np.setdiff1d(df_test.columns, [target])].values\n",
        "\n",
        "# Get the target vector\n",
        "y_train = df_train[target].values\n",
        "y_val = df_val[target].values\n",
        "y_test = df_test[target].values"
      ],
      "metadata": {
        "id": "1H1Lp3WOWKAy"
      },
      "execution_count": null,
      "outputs": []
    },
    {
      "cell_type": "markdown",
      "source": [
        "## Scale"
      ],
      "metadata": {
        "id": "yCahqFH9WL02"
      }
    },
    {
      "cell_type": "code",
      "source": [
        "from sklearn.preprocessing import StandardScaler\n",
        "\n",
        "# The StandardScaler\n",
        "ss = StandardScaler()"
      ],
      "metadata": {
        "id": "uZIz29UyWNJ-"
      },
      "execution_count": null,
      "outputs": []
    },
    {
      "cell_type": "code",
      "source": [
        "# Standardize the training data\n",
        "X_train = ss.fit_transform(X_train)\n",
        "\n",
        "# Standardize the validation data\n",
        "X_val = ss.transform(X_val)\n",
        "\n",
        "# Standardize the test data\n",
        "X_test = ss.transform(X_test)"
      ],
      "metadata": {
        "id": "F4sdnBDyWQY3"
      },
      "execution_count": null,
      "outputs": []
    },
    {
      "cell_type": "markdown",
      "source": [
        "# EDA\n",
        "- The version of the dataframe used for EDA is the version right before imputing and scaling. So all the features are correctly formatted and in their original state, but there's no synthetic data."
      ],
      "metadata": {
        "id": "96H2oxh94ts4"
      }
    },
    {
      "cell_type": "code",
      "source": [
        "import seaborn as sns\n",
        "sns.set()\n",
        "edadf = edadf.reset_index()"
      ],
      "metadata": {
        "id": "O6g9Le1H4y5_"
      },
      "execution_count": null,
      "outputs": []
    },
    {
      "cell_type": "code",
      "source": [
        "edadf.columns"
      ],
      "metadata": {
        "id": "woVWXycl477B"
      },
      "execution_count": null,
      "outputs": []
    },
    {
      "cell_type": "code",
      "source": [
        "hist_features = ['shots', 'hits', 'pim', 'powerPlayOpportunities',\n",
        "       'faceOffWinPercentage', 'giveaways', 'takeaways', 'blocked',\n",
        "       'pts_perc_last_szn', 'L10_pts_perc', 'rolling_pts%',\n",
        "       'coach_pts%']\n",
        "\n",
        "nrows, ncols = 3, 4\n",
        "fig, axes = plt.subplots(ncols = ncols, nrows = nrows, figsize = (15,10), constrained_layout = True)\n",
        "count = 0\n",
        "for row in axes:\n",
        "  for ax in row:\n",
        "    sns.histplot(data = edadf, x = hist_features[count], ax = ax, kde = True, bins = 10, kde_kws = {'bw_adjust':2})\n",
        "    ax.set_xlabel(hist_features[count])\n",
        "    count += 1\n",
        "\n",
        "t = fig.suptitle('Numerical Value Distributions')"
      ],
      "metadata": {
        "id": "YwfUCsvf49RU"
      },
      "execution_count": null,
      "outputs": []
    },
    {
      "cell_type": "code",
      "source": [
        "games_won = edadf[edadf.won == 1]\n",
        "g = sns.countplot(data = games_won, x = 'home')\n",
        "g.axes.set_title('Number of Games Won At Home')"
      ],
      "metadata": {
        "id": "HZ_N0pQW4_n_"
      },
      "execution_count": null,
      "outputs": []
    },
    {
      "cell_type": "code",
      "source": [
        "season_17 = edadf[edadf.season_num == 17]\n",
        "last_szn = season_17.groupby('team_id').mean().reset_index()[['team_id', 'pts_perc_last_szn']]\n",
        "top_7 = last_szn.merge(team_info, on = 'team_id').sort_values(by = 'pts_perc_last_szn', ascending = False)[:7]\n",
        "g = sns.barplot(data = top_7, y = 'teamName', x = 'pts_perc_last_szn')\n",
        "g.axes.set_xlim((0.6, 0.7))\n",
        "g.axes.set_title('Top 7 Pts% of the 2018-2019 Season')"
      ],
      "metadata": {
        "id": "-iyXAOMp5CO3"
      },
      "execution_count": null,
      "outputs": []
    },
    {
      "cell_type": "markdown",
      "source": [
        "I think this is a cool plot to include cause the bolts won the cup but the preds had the highest pts%"
      ],
      "metadata": {
        "id": "uYNel5cQ5Hc8"
      }
    },
    {
      "cell_type": "code",
      "source": [
        "g = sns.barplot(data = edadf, x = 'won', y = 'shots')\n",
        "g.axes.set_ylim((25, 32))"
      ],
      "metadata": {
        "id": "z3K1kzLm5D51"
      },
      "execution_count": null,
      "outputs": []
    },
    {
      "cell_type": "code",
      "source": [
        "g = sns.barplot(data = edadf, x = 'won', y = 'hits')\n",
        "g.axes.set_ylim((20,25))"
      ],
      "metadata": {
        "id": "KQf3er6G5KNN"
      },
      "execution_count": null,
      "outputs": []
    },
    {
      "cell_type": "code",
      "source": [
        "g = sns.barplot(data = edadf, x = 'won', y = 'pim')\n",
        "g.axes.set_ylim((10,15))"
      ],
      "metadata": {
        "id": "t2IWafjK5Ltr"
      },
      "execution_count": null,
      "outputs": []
    },
    {
      "cell_type": "markdown",
      "source": [
        "# Training\n",
        "\n",
        "This code was taken from: https://github.com/yuxiaohuang/teaching/blob/master/gwu/machine_learning_I/spring_2022/code/p2_shallow_learning/p2_c2_supervised_learning/p2_c2_s5_tree_based_models/case_study/case_study.ipynb \n",
        "\n",
        "These three models are a culmination of all the models we learned for classification. It has logistic regression, shallow neural networks, and random forest classifier (and als the histgradientboosting one). This was used to classify titanic survival as Yes or No, so it will probably be good for us."
      ],
      "metadata": {
        "id": "1RYCaKJSWxGj"
      }
    },
    {
      "cell_type": "markdown",
      "metadata": {
        "id": "jYCH8GB-e31z"
      },
      "source": [
        "## Creating the dictionary of the models\n",
        "- In the dictionary:\n",
        "    - the key is the acronym of the model\n",
        "    - the value is the model"
      ]
    },
    {
      "cell_type": "code",
      "execution_count": null,
      "metadata": {
        "id": "T5h3IQo9e31z"
      },
      "outputs": [],
      "source": [
        "from sklearn.linear_model import LogisticRegression\n",
        "from sklearn.neural_network import MLPClassifier\n",
        "from sklearn.ensemble import RandomForestClassifier\n",
        "from sklearn.experimental import enable_hist_gradient_boosting\n",
        "from sklearn.ensemble import HistGradientBoostingClassifier\n",
        "\n",
        "models = {'lr': LogisticRegression(class_weight='balanced', random_state=random_seed),\n",
        "          'mlpc': MLPClassifier(early_stopping=True, random_state=random_seed),\n",
        "          'rfc': RandomForestClassifier(class_weight='balanced', random_state=random_seed),\n",
        "          'hgbc': HistGradientBoostingClassifier(random_state=random_seed)}"
      ]
    },
    {
      "cell_type": "markdown",
      "metadata": {
        "id": "Ju9FdEVce310"
      },
      "source": [
        "## Creating the dictionary of the pipelines\n",
        "In the dictionary:\n",
        "- the key is the acronym of the model\n",
        "- the value is the pipeline, which, for now, only includes the model"
      ]
    },
    {
      "cell_type": "code",
      "execution_count": null,
      "metadata": {
        "id": "zc-L-914e310"
      },
      "outputs": [],
      "source": [
        "from sklearn.pipeline import Pipeline\n",
        "\n",
        "pipes = {}\n",
        "\n",
        "for acronym, model in models.items():\n",
        "    pipes[acronym] = Pipeline([('model', model)])"
      ]
    },
    {
      "cell_type": "markdown",
      "metadata": {
        "id": "BgkFbGGKe311"
      },
      "source": [
        "## Getting the predefined split cross-validator\n",
        "\n",
        "Since we literally only use one utilities function, we can probably just create it here."
      ]
    },
    {
      "cell_type": "code",
      "execution_count": null,
      "metadata": {
        "id": "6FAACb8ke311",
        "scrolled": true
      },
      "outputs": [],
      "source": [
        "from sklearn.model_selection import PredefinedSplit\n",
        "\n",
        "# Combine the feature matrix in the training and validation data\n",
        "X_train_val = np.vstack((X_train, X_val))\n",
        "\n",
        "# Combine the target vector in the training and validation data\n",
        "y_train_val = np.vstack((y_train.reshape(-1, 1), y_val.reshape(-1, 1))).reshape(-1)\n",
        "\n",
        "# Get the indices of training and validation data\n",
        "train_val_idxs = np.append(np.full(X_train.shape[0], -1), np.full(X_val.shape[0], 0))\n",
        "\n",
        "# The PredefinedSplit\n",
        "ps = PredefinedSplit(train_val_idxs)"
      ]
    },
    {
      "cell_type": "markdown",
      "metadata": {
        "id": "I3rZoMqZe312"
      },
      "source": [
        "## GridSearchCV"
      ]
    },
    {
      "cell_type": "markdown",
      "metadata": {
        "id": "E08xqUQve313"
      },
      "source": [
        "### Creating the dictionary of the parameter grids\n",
        "- In the dictionary:\n",
        "    - the key is the acronym of the model\n",
        "    - the value is the parameter grid of the model"
      ]
    },
    {
      "cell_type": "code",
      "execution_count": null,
      "metadata": {
        "id": "p3OWujL3e313"
      },
      "outputs": [],
      "source": [
        "param_grids = {}"
      ]
    },
    {
      "cell_type": "markdown",
      "metadata": {
        "id": "9EyKhepjmV6P"
      },
      "source": [
        "#### The parameter grid for LogisticRegression\n",
        "- The hyperparameters we want to fine-tune are:\n",
        "    - tol\n",
        "    - C\n",
        "- See details of the meaning of the hyperparametes in [sklearn.linear_model.LogisticRegression](https://scikit-learn.org/stable/modules/generated/sklearn.linear_model.LogisticRegression.html)"
      ]
    },
    {
      "cell_type": "code",
      "execution_count": null,
      "metadata": {
        "id": "i2Mv1rffnJpN"
      },
      "outputs": [],
      "source": [
        "# The parameter grid of tol\n",
        "tol_grid = [10 ** -5, 10 ** -4, 10 ** -3]\n",
        "\n",
        "# The parameter grid of C\n",
        "C_grid = [0.1, 1, 10]\n",
        "\n",
        "# Update param_grids\n",
        "param_grids['lr'] = [{'model__tol': tol_grid,\n",
        "                      'model__C': C_grid}]"
      ]
    },
    {
      "cell_type": "markdown",
      "metadata": {
        "id": "bco06XPK4APO"
      },
      "source": [
        "#### The parameter grid for MLPClassifier\n",
        "- The hyperparameters we want to fine-tune are:\n",
        "    - alpha\n",
        "    - learning_rate_init\n",
        "\n",
        "- See details of the meaning of the hyperparametes in [sklearn.neural_network.MLPClassifier](https://scikit-learn.org/stable/modules/generated/sklearn.neural_network.MLPClassifier.html)"
      ]
    },
    {
      "cell_type": "code",
      "execution_count": null,
      "metadata": {
        "id": "bEuags7e4APO"
      },
      "outputs": [],
      "source": [
        "# The grids for alpha\n",
        "alpha_grids = [10 ** i for i in range(-5, -2)]\n",
        "\n",
        "# The grids for learning_rate_init\n",
        "learning_rate_init_grids = [10 ** i for i in range(-4, -1)]\n",
        "\n",
        "# Update param_grids\n",
        "param_grids['mlpc'] = [{'model__alpha': alpha_grids,\n",
        "                        'model__learning_rate_init': learning_rate_init_grids}]"
      ]
    },
    {
      "cell_type": "markdown",
      "metadata": {
        "id": "T6Synl8u9cC8"
      },
      "source": [
        "#### The parameter grid for random forest\n",
        "- The hyperparameters we want to fine-tune are:\n",
        "    - min_samples_split\n",
        "    - min_samples_leaf\n",
        "\n",
        "- See details of the meaning of the hyperparametes in [sklearn.ensemble.RandomForestClassifier](https://scikit-learn.org/stable/modules/generated/sklearn.ensemble.RandomForestClassifier.html)"
      ]
    },
    {
      "cell_type": "code",
      "execution_count": null,
      "metadata": {
        "id": "2pIhWeST9cC8"
      },
      "outputs": [],
      "source": [
        "# The grids for min_samples_split\n",
        "min_samples_split_grids = [2, 20, 100]\n",
        "\n",
        "# The grids for min_samples_leaf\n",
        "min_samples_leaf_grids = [1, 20, 100]\n",
        "\n",
        "# Update param_grids\n",
        "param_grids['rfc'] = [{'model__min_samples_split': min_samples_split_grids,\n",
        "                       'model__min_samples_leaf': min_samples_leaf_grids}]"
      ]
    },
    {
      "cell_type": "markdown",
      "metadata": {
        "id": "dmuPjEKN9cC-"
      },
      "source": [
        "#### The parameter grid for histogram-based gradient boosting\n",
        "- The hyperparameters we want to fine-tune are:\n",
        "- learning_rate\n",
        "- min_samples_leaf\n",
        "\n",
        "- See details of the meaning of the hyperparametes in [sklearn.ensemble.HistGradientBoostingClassifier](https://scikit-learn.org/stable/modules/generated/sklearn.ensemble.HistGradientBoostingClassifier.html)"
      ]
    },
    {
      "cell_type": "code",
      "execution_count": null,
      "metadata": {
        "id": "FAj6ezza9cC-"
      },
      "outputs": [],
      "source": [
        "# The grids for learning_rate\n",
        "learning_rate_grids = [10 ** i for i in range(-3, 2)]\n",
        "\n",
        "# The grids for min_samples_leaf\n",
        "min_samples_leaf_grids = [1, 20, 100]\n",
        "\n",
        "# Update param_grids\n",
        "param_grids['hgbc'] = [{'model__learning_rate': learning_rate_grids,\n",
        "                        'model__min_samples_leaf': min_samples_leaf_grids}]"
      ]
    },
    {
      "cell_type": "markdown",
      "metadata": {
        "id": "LRabeGs4WaHX"
      },
      "source": [
        "### Creating the directory for the cv results produced by GridSearchCV"
      ]
    },
    {
      "cell_type": "code",
      "execution_count": null,
      "metadata": {
        "id": "uO7Yd15JWaHY"
      },
      "outputs": [],
      "source": [
        "# Make directory\n",
        "import os\n",
        "\n",
        "directory = os.path.dirname(os.getcwd() + '/results/')\n",
        "if not os.path.exists(directory):\n",
        "    os.makedirs(directory)"
      ]
    },
    {
      "cell_type": "markdown",
      "metadata": {
        "id": "sVIuo08Ze31-"
      },
      "source": [
        "### Tuning the hyperparameters\n",
        "The code below shows how to fine-tune the hyperparameters of SGDRegressor and LinearRegression_MBGD using sklearn GridSearchCV."
      ]
    },
    {
      "cell_type": "code",
      "execution_count": null,
      "metadata": {
        "colab": {
          "base_uri": "https://localhost:8080/",
          "height": 174
        },
        "id": "DwA4WZlFe31-",
        "outputId": "b8f1f3c5-a56b-484e-a204-db52632ed35a",
        "scrolled": true
      },
      "outputs": [
        {
          "output_type": "execute_result",
          "data": {
            "text/plain": [
              "   best_score                                         best_param  \\\n",
              "0    0.690598  {'model__alpha': 1e-05, 'model__learning_rate_...   \n",
              "1    0.689108  {'model__learning_rate': 0.1, 'model__min_samp...   \n",
              "2    0.683033  {'model__min_samples_leaf': 1, 'model__min_sam...   \n",
              "3    0.677906             {'model__C': 0.1, 'model__tol': 1e-05}   \n",
              "\n",
              "                                      best_estimator  \n",
              "0  (MLPClassifier(alpha=1e-05, early_stopping=Tru...  \n",
              "1  (HistGradientBoostingClassifier(random_state=42))  \n",
              "2  ((DecisionTreeClassifier(max_features='auto', ...  \n",
              "3  (LogisticRegression(C=0.1, class_weight='balan...  "
            ],
            "text/html": [
              "\n",
              "  <div id=\"df-02f3b700-c88d-494b-8af9-95fd7f683095\">\n",
              "    <div class=\"colab-df-container\">\n",
              "      <div>\n",
              "<style scoped>\n",
              "    .dataframe tbody tr th:only-of-type {\n",
              "        vertical-align: middle;\n",
              "    }\n",
              "\n",
              "    .dataframe tbody tr th {\n",
              "        vertical-align: top;\n",
              "    }\n",
              "\n",
              "    .dataframe thead th {\n",
              "        text-align: right;\n",
              "    }\n",
              "</style>\n",
              "<table border=\"1\" class=\"dataframe\">\n",
              "  <thead>\n",
              "    <tr style=\"text-align: right;\">\n",
              "      <th></th>\n",
              "      <th>best_score</th>\n",
              "      <th>best_param</th>\n",
              "      <th>best_estimator</th>\n",
              "    </tr>\n",
              "  </thead>\n",
              "  <tbody>\n",
              "    <tr>\n",
              "      <th>0</th>\n",
              "      <td>0.690598</td>\n",
              "      <td>{'model__alpha': 1e-05, 'model__learning_rate_...</td>\n",
              "      <td>(MLPClassifier(alpha=1e-05, early_stopping=Tru...</td>\n",
              "    </tr>\n",
              "    <tr>\n",
              "      <th>1</th>\n",
              "      <td>0.689108</td>\n",
              "      <td>{'model__learning_rate': 0.1, 'model__min_samp...</td>\n",
              "      <td>(HistGradientBoostingClassifier(random_state=42))</td>\n",
              "    </tr>\n",
              "    <tr>\n",
              "      <th>2</th>\n",
              "      <td>0.683033</td>\n",
              "      <td>{'model__min_samples_leaf': 1, 'model__min_sam...</td>\n",
              "      <td>((DecisionTreeClassifier(max_features='auto', ...</td>\n",
              "    </tr>\n",
              "    <tr>\n",
              "      <th>3</th>\n",
              "      <td>0.677906</td>\n",
              "      <td>{'model__C': 0.1, 'model__tol': 1e-05}</td>\n",
              "      <td>(LogisticRegression(C=0.1, class_weight='balan...</td>\n",
              "    </tr>\n",
              "  </tbody>\n",
              "</table>\n",
              "</div>\n",
              "      <button class=\"colab-df-convert\" onclick=\"convertToInteractive('df-02f3b700-c88d-494b-8af9-95fd7f683095')\"\n",
              "              title=\"Convert this dataframe to an interactive table.\"\n",
              "              style=\"display:none;\">\n",
              "        \n",
              "  <svg xmlns=\"http://www.w3.org/2000/svg\" height=\"24px\"viewBox=\"0 0 24 24\"\n",
              "       width=\"24px\">\n",
              "    <path d=\"M0 0h24v24H0V0z\" fill=\"none\"/>\n",
              "    <path d=\"M18.56 5.44l.94 2.06.94-2.06 2.06-.94-2.06-.94-.94-2.06-.94 2.06-2.06.94zm-11 1L8.5 8.5l.94-2.06 2.06-.94-2.06-.94L8.5 2.5l-.94 2.06-2.06.94zm10 10l.94 2.06.94-2.06 2.06-.94-2.06-.94-.94-2.06-.94 2.06-2.06.94z\"/><path d=\"M17.41 7.96l-1.37-1.37c-.4-.4-.92-.59-1.43-.59-.52 0-1.04.2-1.43.59L10.3 9.45l-7.72 7.72c-.78.78-.78 2.05 0 2.83L4 21.41c.39.39.9.59 1.41.59.51 0 1.02-.2 1.41-.59l7.78-7.78 2.81-2.81c.8-.78.8-2.07 0-2.86zM5.41 20L4 18.59l7.72-7.72 1.47 1.35L5.41 20z\"/>\n",
              "  </svg>\n",
              "      </button>\n",
              "      \n",
              "  <style>\n",
              "    .colab-df-container {\n",
              "      display:flex;\n",
              "      flex-wrap:wrap;\n",
              "      gap: 12px;\n",
              "    }\n",
              "\n",
              "    .colab-df-convert {\n",
              "      background-color: #E8F0FE;\n",
              "      border: none;\n",
              "      border-radius: 50%;\n",
              "      cursor: pointer;\n",
              "      display: none;\n",
              "      fill: #1967D2;\n",
              "      height: 32px;\n",
              "      padding: 0 0 0 0;\n",
              "      width: 32px;\n",
              "    }\n",
              "\n",
              "    .colab-df-convert:hover {\n",
              "      background-color: #E2EBFA;\n",
              "      box-shadow: 0px 1px 2px rgba(60, 64, 67, 0.3), 0px 1px 3px 1px rgba(60, 64, 67, 0.15);\n",
              "      fill: #174EA6;\n",
              "    }\n",
              "\n",
              "    [theme=dark] .colab-df-convert {\n",
              "      background-color: #3B4455;\n",
              "      fill: #D2E3FC;\n",
              "    }\n",
              "\n",
              "    [theme=dark] .colab-df-convert:hover {\n",
              "      background-color: #434B5C;\n",
              "      box-shadow: 0px 1px 3px 1px rgba(0, 0, 0, 0.15);\n",
              "      filter: drop-shadow(0px 1px 2px rgba(0, 0, 0, 0.3));\n",
              "      fill: #FFFFFF;\n",
              "    }\n",
              "  </style>\n",
              "\n",
              "      <script>\n",
              "        const buttonEl =\n",
              "          document.querySelector('#df-02f3b700-c88d-494b-8af9-95fd7f683095 button.colab-df-convert');\n",
              "        buttonEl.style.display =\n",
              "          google.colab.kernel.accessAllowed ? 'block' : 'none';\n",
              "\n",
              "        async function convertToInteractive(key) {\n",
              "          const element = document.querySelector('#df-02f3b700-c88d-494b-8af9-95fd7f683095');\n",
              "          const dataTable =\n",
              "            await google.colab.kernel.invokeFunction('convertToInteractive',\n",
              "                                                     [key], {});\n",
              "          if (!dataTable) return;\n",
              "\n",
              "          const docLinkHtml = 'Like what you see? Visit the ' +\n",
              "            '<a target=\"_blank\" href=https://colab.research.google.com/notebooks/data_table.ipynb>data table notebook</a>'\n",
              "            + ' to learn more about interactive tables.';\n",
              "          element.innerHTML = '';\n",
              "          dataTable['output_type'] = 'display_data';\n",
              "          await google.colab.output.renderOutput(dataTable, element);\n",
              "          const docLink = document.createElement('div');\n",
              "          docLink.innerHTML = docLinkHtml;\n",
              "          element.appendChild(docLink);\n",
              "        }\n",
              "      </script>\n",
              "    </div>\n",
              "  </div>\n",
              "  "
            ]
          },
          "metadata": {},
          "execution_count": 103
        }
      ],
      "source": [
        "from sklearn.model_selection import GridSearchCV\n",
        "\n",
        "# The list of [best_score_, best_params_, best_estimator_] obtained by GridSearchCV\n",
        "best_score_params_estimator_gs = []\n",
        "\n",
        "# For each model\n",
        "for acronym in pipes.keys():\n",
        "    # GridSearchCV\n",
        "    gs = GridSearchCV(estimator=pipes[acronym],\n",
        "                      param_grid=param_grids[acronym],\n",
        "                      scoring='f1_macro',\n",
        "                      n_jobs=2,\n",
        "                      cv=ps,\n",
        "                      return_train_score=True)\n",
        "        \n",
        "    # Fit the pipeline\n",
        "    gs = gs.fit(X_train_val, y_train_val)\n",
        "    \n",
        "    # Update best_score_params_estimator_gs\n",
        "    best_score_params_estimator_gs.append([gs.best_score_, gs.best_params_, gs.best_estimator_])\n",
        "    \n",
        "    # Sort cv_results in ascending order of 'rank_test_score' and 'std_test_score'\n",
        "    cv_results = pd.DataFrame.from_dict(gs.cv_results_).sort_values(by=['rank_test_score', 'std_test_score'])\n",
        "    \n",
        "    # Get the important columns in cv_results\n",
        "    important_columns = ['rank_test_score',\n",
        "                         'mean_test_score', \n",
        "                         'std_test_score', \n",
        "                         'mean_train_score', \n",
        "                         'std_train_score',\n",
        "                         'mean_fit_time', \n",
        "                         'std_fit_time',                        \n",
        "                         'mean_score_time', \n",
        "                         'std_score_time']\n",
        "    \n",
        "    # Move the important columns ahead\n",
        "    cv_results = cv_results[important_columns + sorted(list(set(cv_results.columns) - set(important_columns)))]\n",
        "\n",
        "    # Write cv_results file\n",
        "    cv_results.to_csv(path_or_buf=os.getcwd() + '/results/' + acronym + '.csv', index=False)\n",
        "\n",
        "# Sort best_score_params_estimator_gs in descending order of the best_score_\n",
        "best_score_params_estimator_gs = sorted(best_score_params_estimator_gs, key=lambda x : x[0], reverse=True)\n",
        "\n",
        "# Print best_score_params_estimator_gs\n",
        "pd.DataFrame(best_score_params_estimator_gs, columns=['best_score', 'best_param', 'best_estimator'])"
      ]
    },
    {
      "cell_type": "markdown",
      "source": [
        "# Model Evaluation\n",
        "\n"
      ],
      "metadata": {
        "id": "jonCCJgpW1F7"
      }
    },
    {
      "cell_type": "markdown",
      "metadata": {
        "id": "733hk_XD9cDI"
      },
      "source": [
        "## Getting the feature importance detected by random forest"
      ]
    },
    {
      "cell_type": "code",
      "execution_count": null,
      "metadata": {
        "colab": {
          "base_uri": "https://localhost:8080/",
          "height": 206
        },
        "id": "-NLAjG6K9cDJ",
        "outputId": "5f8faa51-1a08-41cc-8725-1451b5d44bca"
      },
      "outputs": [
        {
          "output_type": "execute_result",
          "data": {
            "text/plain": [
              "       Features Importance\n",
              "0  L10_pts_perc   0.243753\n",
              "1  rolling_pts%   0.203336\n",
              "2       blocked   0.103285\n",
              "3    coach_pts%   0.073008\n",
              "4          hits   0.045387"
            ],
            "text/html": [
              "\n",
              "  <div id=\"df-1a3f630e-1465-4d73-bf8f-19f0427c4462\">\n",
              "    <div class=\"colab-df-container\">\n",
              "      <div>\n",
              "<style scoped>\n",
              "    .dataframe tbody tr th:only-of-type {\n",
              "        vertical-align: middle;\n",
              "    }\n",
              "\n",
              "    .dataframe tbody tr th {\n",
              "        vertical-align: top;\n",
              "    }\n",
              "\n",
              "    .dataframe thead th {\n",
              "        text-align: right;\n",
              "    }\n",
              "</style>\n",
              "<table border=\"1\" class=\"dataframe\">\n",
              "  <thead>\n",
              "    <tr style=\"text-align: right;\">\n",
              "      <th></th>\n",
              "      <th>Features</th>\n",
              "      <th>Importance</th>\n",
              "    </tr>\n",
              "  </thead>\n",
              "  <tbody>\n",
              "    <tr>\n",
              "      <th>0</th>\n",
              "      <td>L10_pts_perc</td>\n",
              "      <td>0.243753</td>\n",
              "    </tr>\n",
              "    <tr>\n",
              "      <th>1</th>\n",
              "      <td>rolling_pts%</td>\n",
              "      <td>0.203336</td>\n",
              "    </tr>\n",
              "    <tr>\n",
              "      <th>2</th>\n",
              "      <td>blocked</td>\n",
              "      <td>0.103285</td>\n",
              "    </tr>\n",
              "    <tr>\n",
              "      <th>3</th>\n",
              "      <td>coach_pts%</td>\n",
              "      <td>0.073008</td>\n",
              "    </tr>\n",
              "    <tr>\n",
              "      <th>4</th>\n",
              "      <td>hits</td>\n",
              "      <td>0.045387</td>\n",
              "    </tr>\n",
              "  </tbody>\n",
              "</table>\n",
              "</div>\n",
              "      <button class=\"colab-df-convert\" onclick=\"convertToInteractive('df-1a3f630e-1465-4d73-bf8f-19f0427c4462')\"\n",
              "              title=\"Convert this dataframe to an interactive table.\"\n",
              "              style=\"display:none;\">\n",
              "        \n",
              "  <svg xmlns=\"http://www.w3.org/2000/svg\" height=\"24px\"viewBox=\"0 0 24 24\"\n",
              "       width=\"24px\">\n",
              "    <path d=\"M0 0h24v24H0V0z\" fill=\"none\"/>\n",
              "    <path d=\"M18.56 5.44l.94 2.06.94-2.06 2.06-.94-2.06-.94-.94-2.06-.94 2.06-2.06.94zm-11 1L8.5 8.5l.94-2.06 2.06-.94-2.06-.94L8.5 2.5l-.94 2.06-2.06.94zm10 10l.94 2.06.94-2.06 2.06-.94-2.06-.94-.94-2.06-.94 2.06-2.06.94z\"/><path d=\"M17.41 7.96l-1.37-1.37c-.4-.4-.92-.59-1.43-.59-.52 0-1.04.2-1.43.59L10.3 9.45l-7.72 7.72c-.78.78-.78 2.05 0 2.83L4 21.41c.39.39.9.59 1.41.59.51 0 1.02-.2 1.41-.59l7.78-7.78 2.81-2.81c.8-.78.8-2.07 0-2.86zM5.41 20L4 18.59l7.72-7.72 1.47 1.35L5.41 20z\"/>\n",
              "  </svg>\n",
              "      </button>\n",
              "      \n",
              "  <style>\n",
              "    .colab-df-container {\n",
              "      display:flex;\n",
              "      flex-wrap:wrap;\n",
              "      gap: 12px;\n",
              "    }\n",
              "\n",
              "    .colab-df-convert {\n",
              "      background-color: #E8F0FE;\n",
              "      border: none;\n",
              "      border-radius: 50%;\n",
              "      cursor: pointer;\n",
              "      display: none;\n",
              "      fill: #1967D2;\n",
              "      height: 32px;\n",
              "      padding: 0 0 0 0;\n",
              "      width: 32px;\n",
              "    }\n",
              "\n",
              "    .colab-df-convert:hover {\n",
              "      background-color: #E2EBFA;\n",
              "      box-shadow: 0px 1px 2px rgba(60, 64, 67, 0.3), 0px 1px 3px 1px rgba(60, 64, 67, 0.15);\n",
              "      fill: #174EA6;\n",
              "    }\n",
              "\n",
              "    [theme=dark] .colab-df-convert {\n",
              "      background-color: #3B4455;\n",
              "      fill: #D2E3FC;\n",
              "    }\n",
              "\n",
              "    [theme=dark] .colab-df-convert:hover {\n",
              "      background-color: #434B5C;\n",
              "      box-shadow: 0px 1px 3px 1px rgba(0, 0, 0, 0.15);\n",
              "      filter: drop-shadow(0px 1px 2px rgba(0, 0, 0, 0.3));\n",
              "      fill: #FFFFFF;\n",
              "    }\n",
              "  </style>\n",
              "\n",
              "      <script>\n",
              "        const buttonEl =\n",
              "          document.querySelector('#df-1a3f630e-1465-4d73-bf8f-19f0427c4462 button.colab-df-convert');\n",
              "        buttonEl.style.display =\n",
              "          google.colab.kernel.accessAllowed ? 'block' : 'none';\n",
              "\n",
              "        async function convertToInteractive(key) {\n",
              "          const element = document.querySelector('#df-1a3f630e-1465-4d73-bf8f-19f0427c4462');\n",
              "          const dataTable =\n",
              "            await google.colab.kernel.invokeFunction('convertToInteractive',\n",
              "                                                     [key], {});\n",
              "          if (!dataTable) return;\n",
              "\n",
              "          const docLinkHtml = 'Like what you see? Visit the ' +\n",
              "            '<a target=\"_blank\" href=https://colab.research.google.com/notebooks/data_table.ipynb>data table notebook</a>'\n",
              "            + ' to learn more about interactive tables.';\n",
              "          element.innerHTML = '';\n",
              "          dataTable['output_type'] = 'display_data';\n",
              "          await google.colab.output.renderOutput(dataTable, element);\n",
              "          const docLink = document.createElement('div');\n",
              "          docLink.innerHTML = docLinkHtml;\n",
              "          element.appendChild(docLink);\n",
              "        }\n",
              "      </script>\n",
              "    </div>\n",
              "  </div>\n",
              "  "
            ]
          },
          "metadata": {},
          "execution_count": 104
        }
      ],
      "source": [
        "# Get the best_score, best_param and best_estimator of random forest obtained by GridSearchCV\n",
        "best_score_rfc, best_param_rfc, best_estimator_rfc = best_score_params_estimator_gs[2]\n",
        "\n",
        "# Get the dataframe of feature and importance\n",
        "df_fi_rfc = pd.DataFrame(np.hstack((np.setdiff1d(df.columns, [target]).reshape(-1, 1), best_estimator_rfc.named_steps['model'].feature_importances_.reshape(-1, 1))),\n",
        "                         columns=['Features', 'Importance'])\n",
        "\n",
        "# Sort df_fi_rfc in descending order of the importance\n",
        "df_fi_rfc = df_fi_rfc.sort_values(ascending=False, by='Importance').reset_index(drop=True)\n",
        "\n",
        "# Print the first 5 rows of df_fi_rfc\n",
        "df_fi_rfc.head()"
      ]
    },
    {
      "cell_type": "markdown",
      "metadata": {
        "id": "-Tjfao_xLlPo"
      },
      "source": [
        "## Plotting the Feature Importance"
      ]
    },
    {
      "cell_type": "code",
      "execution_count": null,
      "metadata": {
        "colab": {
          "base_uri": "https://localhost:8080/",
          "height": 347
        },
        "id": "Tdo0imMv9cDK",
        "outputId": "7ade2fcb-4a04-4a49-d90c-e862f86ec1f7",
        "scrolled": true
      },
      "outputs": [
        {
          "output_type": "display_data",
          "data": {
            "text/plain": [
              "<Figure size 720x360 with 1 Axes>"
            ],
            "image/png": "[encoded data removed]"
          },
          "metadata": {
            "needs_background": "light"
          }
        }
      ],
      "source": [
        "# Create a figure\n",
        "fig = plt.figure(figsize=(10, 5))\n",
        "\n",
        "# Implement me\n",
        "# The bar plot of the top 5 feature importance\n",
        "plt.bar(df_fi_rfc['Features'][:5], df_fi_rfc['Importance'][:5], color='green')\n",
        "\n",
        "# Set x-axis\n",
        "plt.xlabel('Features')\n",
        "plt.xticks(rotation=90)\n",
        "\n",
        "# Set y-axis\n",
        "plt.ylabel('Importance')\n",
        "\n",
        "# Save and show the figure\n",
        "plt.tight_layout()\n",
        "plt.show()"
      ]
    },
    {
      "cell_type": "markdown",
      "source": [
        "# Conclusion"
      ],
      "metadata": {
        "id": "0RPVlucLaz8k"
      }
    }
  ]
}