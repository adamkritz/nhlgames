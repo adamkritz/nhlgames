{
  "cells": [
    {
      "cell_type": "markdown",
      "metadata": {
        "id": "yHlDlg9tWeXk"
      },
      "source": [
        "# Introduction"
      ]
    },
    {
      "cell_type": "markdown",
      "metadata": {
        "id": "Yt7V84DEaHHL"
      },
      "source": [
        "## Motivation and Background"
      ]
    },
    {
      "cell_type": "markdown",
      "metadata": {
        "id": "uxw9vFfRlugF"
      },
      "source": [
        "Hockey predictions have become a hot topic in recent years. Hockey fans praise hockey's unpredictability, citing how exciting it is to know that any team has a chance. This is usually contrasted with sports like basketball, where it is rare for underdogs to win. [Here is a video](https://www.youtube.com/watch?v=c4fFOu8nyeM) of former NBA star and current NBA commentator Charles Barkley talking about why he enjoys hockey playoffs, saying that \"you have no idea who is going to win.\" Vox put out [a video](https://www.youtube.com/watch?v=HNlgISa9Giw) on this phenomenon as well, claiming that the reason that hockey underdogs do better than basketball is due to a higher luck element in hockey. \n",
        "\n",
        "But is hockey really so difficult to predict? Compared to other sports, hockey analytics are minimal. The few hockey betting sites that exist use extremely simple algorithms to predict which team will win, and often get it wrong. There is very little other published work about hockey analysis, mostly results from other projects with varying success. Either teams and other groups are not using complex analytics, or they do not want to publish their work publicly. \n",
        "\n",
        "Aside from leveraging models to aid in sports betting and playoff predictions, having an accurate prediction tool can be useful for teams in post-game analysis. Models can highlight patterns of success or failure that might not be obvious when looking at raw statistics.\n",
        "\n",
        "Our project will attempt to answer whether hockey is a difficult sport to predict. We will use multiple modeling techniques and select the best model to predict the result of hockey games given both pre-game statistics and in-game events.\n"
      ]
    },
    {
      "cell_type": "markdown",
      "metadata": {
        "id": "wLVN9jN0Z3yf"
      },
      "source": [
        "## Data Source and Description"
      ]
    },
    {
      "cell_type": "markdown",
      "metadata": {
        "id": "9GSXurLZjzsu"
      },
      "source": [
        "Our data comes from the [NHL Game Dataset](https://www.kaggle.com/datasets/martinellis/nhl-game-data) on Kaggle. The dataset was uploaded by Martin Ellis and most recently updated a year ago. The dataset contains data pulled from NHL.com from the 2000-2001 season until the 2019-2020 season. \n",
        "\n",
        "The dataset is incredibly robust and contains multiple .csv files of data on players, coaches, teams, and games. For our project, we will only be using three of these files, games.csv, game_teams_stats.csv, and team_info.csv. Games.csv contains information about the games that happened, game_teams_stats.csv contains information about the teams that played in those games, and team_info.csv is the connecting set for these two files. \n",
        "\n",
        "Our final data set contains data from 23716 games, with an entry for each team, for a final size of 47432 rows. We decided to combine the data from each game into a single row to allow our model to have a full view of the game so our final dataframe is 23716 samples.\n",
        "\n"
      ]
    },
    {
      "cell_type": "markdown",
      "metadata": {
        "id": "r7oMg0ZKZzrE"
      },
      "source": [
        "## NHL and Hockey Terms"
      ]
    },
    {
      "cell_type": "markdown",
      "metadata": {
        "id": "fRuow2MgjzMa"
      },
      "source": [
        "The NHL has 32 teams in the US and Canada, though our project will only include data on 31 of these teams, as the Seattle Kraken only joined the league in the 2021-2022 season. It is also important to note that some of these teams have moved, disbanded, or been created throughout the years. For example, the Atlanta Thrashers moved to Winnipeg and became the Jets in 2011. Teams that moved to a new location are treated as different teams. \n",
        "\n",
        "NHL teams play 82 games in the regular season, barring any lockouts, COVID-related delays, or other issues. 16 teams qualify for the playoffs and play in a four-round, single elimination bracket. Our analysis will include both playoff and regular season games, and will not differentiate between the two. \n",
        "\n",
        "Our analysis will use many variables to help predict the outcome of games. Some hockey terms that are helpful to know include the following:\n",
        "\n",
        "- Shots - Shots in hockey are defined as shots on goal that the goalie saves.\n",
        "\n",
        "- Hits - A hit is when a player removes an opposing player from the puck, usually by running into them.\n",
        "\n",
        "- PIM - Stands for penalties in minutes. Players who receive a penalty go to the penalty box for a designated period of time depending on the severity of the penalty.\n",
        "\n",
        "- Powerplay - When one team gets a penalty the other team will get to play with more players on the ice than them. This is called a powerplay. \n",
        "\n",
        "- Faceoff - When the referee drops the puck to start a play, and two players compete to win possession of it. \n",
        "\n",
        "- Giveaway - When a player's own actions result in the loss of the puck\n",
        "\n",
        "- Takeaway - When a player's actions on the team without the puck result in them taking the puck from a player on the team with it. \n",
        "\n",
        "- Points - A hockey team earns 2 points for a win, 0 points for a loss, and 1 point for a loss in overtime or a shootout.\n",
        "\n",
        "- Point Percentage - Points/(Games Played * 2)"
      ]
    },
    {
      "cell_type": "markdown",
      "metadata": {
        "id": "A1pK3tboXJ3s"
      },
      "source": [
        "## Project Goal"
      ]
    },
    {
      "cell_type": "markdown",
      "metadata": {
        "id": "qQtN9phoj0MS"
      },
      "source": [
        "The goal of this project is to create a model that can successfully predict the winner of NHL games, given the events that occurred in those games, statistically better than roughly 52.5% accuracy, which is about the best possible accuracy for the random model. This project will reveal to hockey analysts and teams what factors are important to win games, and what factors are potentially overrated."
      ]
    },
    {
      "cell_type": "markdown",
      "metadata": {
        "id": "tX1i8YVHWimM"
      },
      "source": [
        "# Notebook Configuration"
      ]
    },
    {
      "cell_type": "markdown",
      "metadata": {
        "id": "bYZhU1Wqgmqx"
      },
      "source": [
        "## Warning"
      ]
    },
    {
      "cell_type": "code",
      "execution_count": 1,
      "metadata": {
        "id": "MUl4k83e4ANR"
      },
      "outputs": [],
      "source": [
        "import warnings\n",
        "\n",
        "# Ignore warnings\n",
        "warnings.filterwarnings('ignore')"
      ]
    },
    {
      "cell_type": "markdown",
      "metadata": {
        "id": "40FN3UNfO2Z7"
      },
      "source": [
        "## Random seed"
      ]
    },
    {
      "cell_type": "code",
      "execution_count": 2,
      "metadata": {
        "id": "uSADk0hJP71d"
      },
      "outputs": [],
      "source": [
        "# The random seed\n",
        "random_seed = 42\n",
        "\n",
        "# Set random seed in numpy\n",
        "import numpy as np\n",
        "np.random.seed(random_seed)"
      ]
    },
    {
      "cell_type": "markdown",
      "metadata": {
        "id": "6SVhEj43qTQG"
      },
      "source": [
        "## Functions and Citations\n",
        "\n",
        "The following functions can be found [here](https://github.com/yuxiaohuang/teaching/blob/master/gwu/machine_learning_I/spring_2022/code/utilities/p2_shallow_learning/pmlm_utilities_shallow.ipynb). They were written by Professor Huang of George Washington University (Full github: https://github.com/yuxiaohuang).\n",
        "\n",
        "We decided to copy the functions so this file can be run independently of a utility file import."
      ]
    },
    {
      "cell_type": "code",
      "execution_count": 3,
      "metadata": {
        "id": "bcvW7KZ2qSHg"
      },
      "outputs": [],
      "source": [
        "# NOT OUR CODE\n",
        "def nan_checker(df):\n",
        "    \"\"\"\n",
        "    The NaN checker\n",
        "\n",
        "    Parameters\n",
        "    ----------\n",
        "    df : the dataframe\n",
        "    \n",
        "    Returns\n",
        "    ----------\n",
        "    The dataframe of variables with NaN, their proportion of NaN and data type\n",
        "    \"\"\"\n",
        "    \n",
        "    # Get the dataframe of variables with NaN, their proportion of NaN and data type\n",
        "    df_nan = pd.DataFrame([[var, df[var].isna().sum() / df.shape[0], df[var].dtype]\n",
        "                           for var in df.columns if df[var].isna().sum() > 0],\n",
        "                          columns=['var', 'proportion', 'dtype'])\n",
        "    \n",
        "    # Sort df_nan in accending order of the proportion of NaN\n",
        "    df_nan = df_nan.sort_values(by='proportion', ascending=False).reset_index(drop=True)\n",
        "    \n",
        "    return df_nan"
      ]
    },
    {
      "cell_type": "code",
      "source": [
        "from sklearn.model_selection import PredefinedSplit\n",
        "\n",
        "def get_train_val_ps(X_train, y_train, X_val, y_val):\n",
        "    \"\"\"\n",
        "    Get the:\n",
        "    feature matrix and target velctor in the combined training and validation data\n",
        "    target vector in the combined training and validation data\n",
        "    PredefinedSplit\n",
        "    \n",
        "    Parameters\n",
        "    ----------\n",
        "    X_train : the feature matrix in the training data\n",
        "    y_train : the target vector in the training data\n",
        "    X_val : the feature matrix in the validation data\n",
        "    y_val : the target vector in the validation data  \n",
        "\n",
        "    Return\n",
        "    ----------\n",
        "    The feature matrix in the combined training and validation data\n",
        "    The target vector in the combined training and validation data\n",
        "    PredefinedSplit\n",
        "    \"\"\"  \n",
        "\n",
        "    # Combine the feature matrix in the training and validation data\n",
        "    X_train_val = np.vstack((X_train, X_val))\n",
        "\n",
        "    # Combine the target vector in the training and validation data\n",
        "    y_train_val = np.vstack((y_train.reshape(-1, 1), y_val.reshape(-1, 1))).reshape(-1)\n",
        "\n",
        "    # Get the indices of training and validation data\n",
        "    train_val_idxs = np.append(np.full(X_train.shape[0], -1), np.full(X_val.shape[0], 0))\n",
        "\n",
        "    # The PredefinedSplit\n",
        "    ps = PredefinedSplit(train_val_idxs)\n",
        "\n",
        "    return X_train_val, y_train_val, ps"
      ],
      "metadata": {
        "id": "AR_Vy8Ko5AKG"
      },
      "execution_count": 4,
      "outputs": []
    },
    {
      "cell_type": "markdown",
      "metadata": {
        "id": "FdLHdRNRWveb"
      },
      "source": [
        "# Data Preprocessing"
      ]
    },
    {
      "cell_type": "markdown",
      "metadata": {
        "id": "bsAAp_-U4gLz"
      },
      "source": [
        "## Importing"
      ]
    },
    {
      "cell_type": "markdown",
      "metadata": {
        "id": "TANgdsE8YfUm"
      },
      "source": [
        "We took the data initially hosted on Kaggle and moved it to Github to make it easier to import."
      ]
    },
    {
      "cell_type": "code",
      "execution_count": 5,
      "metadata": {
        "id": "VZlqqcD9e2YV"
      },
      "outputs": [],
      "source": [
        "import pandas as pd\n",
        "\n",
        "game = pd.read_csv('https://raw.githubusercontent.com/adamkritz/nhlgames/main/Data/game.csv')\n",
        "team_stats = pd.read_csv('https://raw.githubusercontent.com/adamkritz/nhlgames/main/Data/game_teams_stats.csv')\n",
        "team_info = pd.read_csv('https://raw.githubusercontent.com/adamkritz/nhlgames/main/Data/team_info.csv')"
      ]
    },
    {
      "cell_type": "markdown",
      "metadata": {
        "id": "4msPvSMWvYmZ"
      },
      "source": [
        "## Initial Feature Selection and Cleaning\n",
        "\n",
        "Games were included only if they were official games (Regular Season or Playoffs) and if they had an official outcome (settled in Regulation or Overtime)."
      ]
    },
    {
      "cell_type": "code",
      "execution_count": 6,
      "metadata": {
        "id": "4B7kBpT0vi5s"
      },
      "outputs": [],
      "source": [
        "game = game[game['type'].isin(['R','P'])]\n",
        "team_stats = team_stats[team_stats['settled_in'].isin(['REG', 'OT'])]\n",
        "datgame = game[['game_id', 'season', 'date_time_GMT']]\n",
        "datteam = team_stats[['game_id', 'team_id', 'HoA', 'won', 'settled_in', 'head_coach', 'shots', 'hits', 'pim', 'powerPlayOpportunities', 'faceOffWinPercentage', 'giveaways', 'takeaways', 'blocked']]\n",
        "\n",
        "dat = datteam.merge(datgame, on = 'game_id', how = 'inner')\n",
        "dat = dat.drop_duplicates(subset = ['game_id', 'team_id'])\n",
        "\n",
        "dat = dat.sort_values(by = ['team_id', 'date_time_GMT'])\n",
        "dat['date_time_GMT'] = pd.to_datetime(dat['date_time_GMT'])"
      ]
    },
    {
      "cell_type": "markdown",
      "metadata": {
        "id": "cg_KHUXUwItH"
      },
      "source": [
        "## Feature Engineering\n",
        "\n",
        "**Created Features**:\n",
        "- *points*: The points recieved by the team for this game. 2 for a win, 1 for a loss in overtime, and 0 for a regulation loss (This feature was removed before modeling since it's equivalent to the target).\n",
        "- *last season points percentage*: The points percentage (revieved points / total possible points) of the previous season.\n",
        "- *running points percentage*: The points percentage of the team up to that point in the season, before going into the game in question.\n",
        "- *last 10 points percentage*: The points percentage of the last 10 games of the current season."
      ]
    },
    {
      "cell_type": "code",
      "execution_count": 7,
      "metadata": {
        "id": "FCppK_wJw3Co"
      },
      "outputs": [],
      "source": [
        "dat['pts'] = dat.apply(lambda x: 2 if x.won else 1 if not x.won and x.settled_in == 'OT' else 0, axis = 1)"
      ]
    },
    {
      "cell_type": "code",
      "execution_count": 8,
      "metadata": {
        "id": "3yvgNqgIxWBG"
      },
      "outputs": [],
      "source": [
        "seasonsorted = sorted(dat['season'].unique())\n",
        "dat['season_num'] = dat['season'].apply(lambda x: seasonsorted.index(x))\n",
        "grouped = dat.groupby(['team_id', 'season_num']).agg({'game_id':'count', 'pts':'sum'})\n",
        "grouped = grouped.reset_index()\n",
        "grouped['pts_perc_last_szn'] = grouped['pts']/(grouped['game_id']*2)\n",
        "grouped['season_num'] = grouped['season_num']+1\n",
        "\n",
        "to_merge = grouped[['team_id', 'season_num', 'pts_perc_last_szn']]\n",
        "dat = dat.merge(to_merge, on = ['season_num', 'team_id'], how = 'left')"
      ]
    },
    {
      "cell_type": "code",
      "execution_count": 9,
      "metadata": {
        "id": "W689im9XxaUK"
      },
      "outputs": [],
      "source": [
        "dat['L10_pts_perc'] = dat.groupby(['team_id', 'season_num'])['pts'].transform(lambda x: x.rolling(10,10).sum()/20)\n",
        "dat['rolling_pts%'] = dat.groupby(['team_id', 'season_num']).apply(lambda x: x.pts.expanding().sum()/(x.pts.expanding().count()*2)).values"
      ]
    },
    {
      "cell_type": "markdown",
      "metadata": {
        "id": "uOKW-ecpx1Aq"
      },
      "source": [
        "## Transformations\n",
        "\n",
        "- The 'home' value was transformed from 'H' (home) and 'A' (away) to a binary value where 1 is home and 0 is away.\n",
        "- The time stamp of the game was transformed into total seconds (unix time)\n",
        "- The head coach column became the running points percentage of the coach until that point, spanning their entire career and all teams coached.\n",
        "- 'Won' column was moved from a boolean to an int (0 and 1)."
      ]
    },
    {
      "cell_type": "code",
      "execution_count": 10,
      "metadata": {
        "id": "Av5HoZ4Xx3Ds"
      },
      "outputs": [],
      "source": [
        "dat['home'] = dat['HoA'].apply(lambda x: 1 if x=='home' else 0)"
      ]
    },
    {
      "cell_type": "code",
      "execution_count": 11,
      "metadata": {
        "id": "Dp3kUdCOyklU"
      },
      "outputs": [],
      "source": [
        "dat['gametime_unix'] = dat['date_time_GMT'].apply(lambda x: x.timestamp())"
      ]
    },
    {
      "cell_type": "code",
      "execution_count": 12,
      "metadata": {
        "id": "0e7kxSTL9J8T"
      },
      "outputs": [],
      "source": [
        "coach_group = dat.groupby(['head_coach']).apply(lambda x: x.won.expanding().sum()/(x.won.expanding().count()*2))\n",
        "coach_flat = coach_group.reset_index().rename(columns = {'won':'coach_pts%'})\n",
        "dat = dat.merge(coach_flat, left_index=True, right_on = 'level_1')\n"
      ]
    },
    {
      "cell_type": "code",
      "execution_count": 13,
      "metadata": {
        "id": "AWRTSQHHTljT"
      },
      "outputs": [],
      "source": [
        "dat['won'] = dat['won'].astype(int)"
      ]
    },
    {
      "cell_type": "markdown",
      "metadata": {
        "id": "BPrZFCo09TmT"
      },
      "source": [
        "## Remove Unnecessary Columns"
      ]
    },
    {
      "cell_type": "code",
      "execution_count": 14,
      "metadata": {
        "id": "rzgzLBui9WxN"
      },
      "outputs": [],
      "source": [
        "df = dat.drop(['HoA', 'head_coach_x', 'date_time_GMT', 'season', 'head_coach_y', 'level_1', 'settled_in', 'pts'], axis = 1)"
      ]
    },
    {
      "cell_type": "code",
      "execution_count": 15,
      "metadata": {
        "id": "Xg9APWqzcS7N"
      },
      "outputs": [],
      "source": [
        "import copy\n",
        "# saving this version of the data frame for EDA purposes\n",
        "edadf = copy.deepcopy(df)"
      ]
    },
    {
      "cell_type": "code",
      "source": [
        "df.head()"
      ],
      "metadata": {
        "colab": {
          "base_uri": "https://localhost:8080/",
          "height": 270
        },
        "id": "c-UDFb6nVrTj",
        "outputId": "dc813dcf-6b3a-44c9-95f3-c62d1398339c"
      },
      "execution_count": 16,
      "outputs": [
        {
          "output_type": "execute_result",
          "data": {
            "text/plain": [
              "          game_id  team_id  won  shots  hits   pim  powerPlayOpportunities  \\\n",
              "28296  2000020007        1    1   34.0   NaN  26.0                     4.0   \n",
              "28297  2000020046        1    0   31.0   NaN  14.0                     4.0   \n",
              "28298  2000020055        1    1   31.0   NaN   9.0                     5.0   \n",
              "28299  2000020075        1    0   37.0   NaN   8.0                     3.0   \n",
              "28300  2000020088        1    0   36.0   NaN  16.0                     4.0   \n",
              "\n",
              "       faceOffWinPercentage  giveaways  takeaways  blocked  season_num  \\\n",
              "28296                   NaN        NaN        NaN      NaN           0   \n",
              "28297                   NaN        NaN        NaN      NaN           0   \n",
              "28298                   NaN        NaN        NaN      NaN           0   \n",
              "28299                   NaN        NaN        NaN      NaN           0   \n",
              "28300                   NaN        NaN        NaN      NaN           0   \n",
              "\n",
              "       pts_perc_last_szn  L10_pts_perc  rolling_pts%  home  gametime_unix  \\\n",
              "28296                NaN           NaN      1.000000     1    970873200.0   \n",
              "28297                NaN           NaN      0.500000     0    971478000.0   \n",
              "28298                NaN           NaN      0.666667     1    971566200.0   \n",
              "28299                NaN           NaN      0.625000     0    971825400.0   \n",
              "28300                NaN           NaN      0.500000     0    971996400.0   \n",
              "\n",
              "       coach_pts%  \n",
              "28296    0.500000  \n",
              "28297    0.250000  \n",
              "28298    0.333333  \n",
              "28299    0.250000  \n",
              "28300    0.200000  "
            ],
            "text/html": [
              "\n",
              "  <div id=\"df-e265608c-a45b-4196-8d33-44a2ba98eac6\">\n",
              "    <div class=\"colab-df-container\">\n",
              "      <div>\n",
              "<style scoped>\n",
              "    .dataframe tbody tr th:only-of-type {\n",
              "        vertical-align: middle;\n",
              "    }\n",
              "\n",
              "    .dataframe tbody tr th {\n",
              "        vertical-align: top;\n",
              "    }\n",
              "\n",
              "    .dataframe thead th {\n",
              "        text-align: right;\n",
              "    }\n",
              "</style>\n",
              "<table border=\"1\" class=\"dataframe\">\n",
              "  <thead>\n",
              "    <tr style=\"text-align: right;\">\n",
              "      <th></th>\n",
              "      <th>game_id</th>\n",
              "      <th>team_id</th>\n",
              "      <th>won</th>\n",
              "      <th>shots</th>\n",
              "      <th>hits</th>\n",
              "      <th>pim</th>\n",
              "      <th>powerPlayOpportunities</th>\n",
              "      <th>faceOffWinPercentage</th>\n",
              "      <th>giveaways</th>\n",
              "      <th>takeaways</th>\n",
              "      <th>blocked</th>\n",
              "      <th>season_num</th>\n",
              "      <th>pts_perc_last_szn</th>\n",
              "      <th>L10_pts_perc</th>\n",
              "      <th>rolling_pts%</th>\n",
              "      <th>home</th>\n",
              "      <th>gametime_unix</th>\n",
              "      <th>coach_pts%</th>\n",
              "    </tr>\n",
              "  </thead>\n",
              "  <tbody>\n",
              "    <tr>\n",
              "      <th>28296</th>\n",
              "      <td>2000020007</td>\n",
              "      <td>1</td>\n",
              "      <td>1</td>\n",
              "      <td>34.0</td>\n",
              "      <td>NaN</td>\n",
              "      <td>26.0</td>\n",
              "      <td>4.0</td>\n",
              "      <td>NaN</td>\n",
              "      <td>NaN</td>\n",
              "      <td>NaN</td>\n",
              "      <td>NaN</td>\n",
              "      <td>0</td>\n",
              "      <td>NaN</td>\n",
              "      <td>NaN</td>\n",
              "      <td>1.000000</td>\n",
              "      <td>1</td>\n",
              "      <td>970873200.0</td>\n",
              "      <td>0.500000</td>\n",
              "    </tr>\n",
              "    <tr>\n",
              "      <th>28297</th>\n",
              "      <td>2000020046</td>\n",
              "      <td>1</td>\n",
              "      <td>0</td>\n",
              "      <td>31.0</td>\n",
              "      <td>NaN</td>\n",
              "      <td>14.0</td>\n",
              "      <td>4.0</td>\n",
              "      <td>NaN</td>\n",
              "      <td>NaN</td>\n",
              "      <td>NaN</td>\n",
              "      <td>NaN</td>\n",
              "      <td>0</td>\n",
              "      <td>NaN</td>\n",
              "      <td>NaN</td>\n",
              "      <td>0.500000</td>\n",
              "      <td>0</td>\n",
              "      <td>971478000.0</td>\n",
              "      <td>0.250000</td>\n",
              "    </tr>\n",
              "    <tr>\n",
              "      <th>28298</th>\n",
              "      <td>2000020055</td>\n",
              "      <td>1</td>\n",
              "      <td>1</td>\n",
              "      <td>31.0</td>\n",
              "      <td>NaN</td>\n",
              "      <td>9.0</td>\n",
              "      <td>5.0</td>\n",
              "      <td>NaN</td>\n",
              "      <td>NaN</td>\n",
              "      <td>NaN</td>\n",
              "      <td>NaN</td>\n",
              "      <td>0</td>\n",
              "      <td>NaN</td>\n",
              "      <td>NaN</td>\n",
              "      <td>0.666667</td>\n",
              "      <td>1</td>\n",
              "      <td>971566200.0</td>\n",
              "      <td>0.333333</td>\n",
              "    </tr>\n",
              "    <tr>\n",
              "      <th>28299</th>\n",
              "      <td>2000020075</td>\n",
              "      <td>1</td>\n",
              "      <td>0</td>\n",
              "      <td>37.0</td>\n",
              "      <td>NaN</td>\n",
              "      <td>8.0</td>\n",
              "      <td>3.0</td>\n",
              "      <td>NaN</td>\n",
              "      <td>NaN</td>\n",
              "      <td>NaN</td>\n",
              "      <td>NaN</td>\n",
              "      <td>0</td>\n",
              "      <td>NaN</td>\n",
              "      <td>NaN</td>\n",
              "      <td>0.625000</td>\n",
              "      <td>0</td>\n",
              "      <td>971825400.0</td>\n",
              "      <td>0.250000</td>\n",
              "    </tr>\n",
              "    <tr>\n",
              "      <th>28300</th>\n",
              "      <td>2000020088</td>\n",
              "      <td>1</td>\n",
              "      <td>0</td>\n",
              "      <td>36.0</td>\n",
              "      <td>NaN</td>\n",
              "      <td>16.0</td>\n",
              "      <td>4.0</td>\n",
              "      <td>NaN</td>\n",
              "      <td>NaN</td>\n",
              "      <td>NaN</td>\n",
              "      <td>NaN</td>\n",
              "      <td>0</td>\n",
              "      <td>NaN</td>\n",
              "      <td>NaN</td>\n",
              "      <td>0.500000</td>\n",
              "      <td>0</td>\n",
              "      <td>971996400.0</td>\n",
              "      <td>0.200000</td>\n",
              "    </tr>\n",
              "  </tbody>\n",
              "</table>\n",
              "</div>\n",
              "      <button class=\"colab-df-convert\" onclick=\"convertToInteractive('df-e265608c-a45b-4196-8d33-44a2ba98eac6')\"\n",
              "              title=\"Convert this dataframe to an interactive table.\"\n",
              "              style=\"display:none;\">\n",
              "        \n",
              "  <svg xmlns=\"http://www.w3.org/2000/svg\" height=\"24px\"viewBox=\"0 0 24 24\"\n",
              "       width=\"24px\">\n",
              "    <path d=\"M0 0h24v24H0V0z\" fill=\"none\"/>\n",
              "    <path d=\"M18.56 5.44l.94 2.06.94-2.06 2.06-.94-2.06-.94-.94-2.06-.94 2.06-2.06.94zm-11 1L8.5 8.5l.94-2.06 2.06-.94-2.06-.94L8.5 2.5l-.94 2.06-2.06.94zm10 10l.94 2.06.94-2.06 2.06-.94-2.06-.94-.94-2.06-.94 2.06-2.06.94z\"/><path d=\"M17.41 7.96l-1.37-1.37c-.4-.4-.92-.59-1.43-.59-.52 0-1.04.2-1.43.59L10.3 9.45l-7.72 7.72c-.78.78-.78 2.05 0 2.83L4 21.41c.39.39.9.59 1.41.59.51 0 1.02-.2 1.41-.59l7.78-7.78 2.81-2.81c.8-.78.8-2.07 0-2.86zM5.41 20L4 18.59l7.72-7.72 1.47 1.35L5.41 20z\"/>\n",
              "  </svg>\n",
              "      </button>\n",
              "      \n",
              "  <style>\n",
              "    .colab-df-container {\n",
              "      display:flex;\n",
              "      flex-wrap:wrap;\n",
              "      gap: 12px;\n",
              "    }\n",
              "\n",
              "    .colab-df-convert {\n",
              "      background-color: #E8F0FE;\n",
              "      border: none;\n",
              "      border-radius: 50%;\n",
              "      cursor: pointer;\n",
              "      display: none;\n",
              "      fill: #1967D2;\n",
              "      height: 32px;\n",
              "      padding: 0 0 0 0;\n",
              "      width: 32px;\n",
              "    }\n",
              "\n",
              "    .colab-df-convert:hover {\n",
              "      background-color: #E2EBFA;\n",
              "      box-shadow: 0px 1px 2px rgba(60, 64, 67, 0.3), 0px 1px 3px 1px rgba(60, 64, 67, 0.15);\n",
              "      fill: #174EA6;\n",
              "    }\n",
              "\n",
              "    [theme=dark] .colab-df-convert {\n",
              "      background-color: #3B4455;\n",
              "      fill: #D2E3FC;\n",
              "    }\n",
              "\n",
              "    [theme=dark] .colab-df-convert:hover {\n",
              "      background-color: #434B5C;\n",
              "      box-shadow: 0px 1px 3px 1px rgba(0, 0, 0, 0.15);\n",
              "      filter: drop-shadow(0px 1px 2px rgba(0, 0, 0, 0.3));\n",
              "      fill: #FFFFFF;\n",
              "    }\n",
              "  </style>\n",
              "\n",
              "      <script>\n",
              "        const buttonEl =\n",
              "          document.querySelector('#df-e265608c-a45b-4196-8d33-44a2ba98eac6 button.colab-df-convert');\n",
              "        buttonEl.style.display =\n",
              "          google.colab.kernel.accessAllowed ? 'block' : 'none';\n",
              "\n",
              "        async function convertToInteractive(key) {\n",
              "          const element = document.querySelector('#df-e265608c-a45b-4196-8d33-44a2ba98eac6');\n",
              "          const dataTable =\n",
              "            await google.colab.kernel.invokeFunction('convertToInteractive',\n",
              "                                                     [key], {});\n",
              "          if (!dataTable) return;\n",
              "\n",
              "          const docLinkHtml = 'Like what you see? Visit the ' +\n",
              "            '<a target=\"_blank\" href=https://colab.research.google.com/notebooks/data_table.ipynb>data table notebook</a>'\n",
              "            + ' to learn more about interactive tables.';\n",
              "          element.innerHTML = '';\n",
              "          dataTable['output_type'] = 'display_data';\n",
              "          await google.colab.output.renderOutput(dataTable, element);\n",
              "          const docLink = document.createElement('div');\n",
              "          docLink.innerHTML = docLinkHtml;\n",
              "          element.appendChild(docLink);\n",
              "        }\n",
              "      </script>\n",
              "    </div>\n",
              "  </div>\n",
              "  "
            ]
          },
          "metadata": {},
          "execution_count": 16
        }
      ]
    },
    {
      "cell_type": "markdown",
      "metadata": {
        "id": "RUbiV_EBSne9"
      },
      "source": [
        "## DataFrame Reformat\n",
        "It makes logical sense that the model should recieve data about both teams before predicting an outcome of a game. Therefore we decided to transform our dataframe from 1 entry per team per game, to 1 entry per game with statistics about each team (separated into *_home and *_away). This almost doubled the number of total features and halved the number of samples. \n",
        "\n",
        "This reformatting also prevented the model from training on a game, and being tested on the same game from the opposing team perspective."
      ]
    },
    {
      "cell_type": "code",
      "execution_count": 17,
      "metadata": {
        "id": "oNOr8DthStHm",
        "colab": {
          "base_uri": "https://localhost:8080/"
        },
        "outputId": "9519b4d0-5b5c-43d2-e2e9-a1fc9c963227"
      },
      "outputs": [
        {
          "output_type": "stream",
          "name": "stdout",
          "text": [
            "Final DataFrame Shape:  (23716, 35)\n"
          ]
        }
      ],
      "source": [
        "home_games = df[df.home == True]\n",
        "away_games = df[df.home == False]\n",
        "df = home_games.merge(away_games, on = 'game_id', suffixes = ('_home', '_away'))\n",
        "\n",
        "print(\"Final DataFrame Shape: \", df.shape)"
      ]
    },
    {
      "cell_type": "code",
      "execution_count": 18,
      "metadata": {
        "id": "o-0lFhhpUHBA"
      },
      "outputs": [],
      "source": [
        "df['winner'] = df.apply(lambda x: 0 if x.won_home else 1, axis = 1)\n",
        "df.rename(columns = {'gametime_unix_home':'gametime_unix'}, inplace = True)\n",
        "df = df.drop(['won_home', 'won_away', 'gametime_unix_away'], axis = 1)"
      ]
    },
    {
      "cell_type": "code",
      "source": [
        "df.head()"
      ],
      "metadata": {
        "colab": {
          "base_uri": "https://localhost:8080/",
          "height": 299
        },
        "id": "n7bkT5R1V8sV",
        "outputId": "8ab2894c-a888-4c8d-fbaa-ae423db7fde4"
      },
      "execution_count": 19,
      "outputs": [
        {
          "output_type": "execute_result",
          "data": {
            "text/plain": [
              "      game_id  team_id_home  shots_home  hits_home  pim_home  \\\n",
              "0  2000020007             1        34.0        NaN      26.0   \n",
              "1  2000020055             1        31.0        NaN       9.0   \n",
              "2  2000020100             1        44.0        NaN      14.0   \n",
              "3  2000020034             1        26.0        NaN      13.0   \n",
              "4  2000020169             1        33.0        NaN       2.0   \n",
              "\n",
              "   powerPlayOpportunities_home  faceOffWinPercentage_home  giveaways_home  \\\n",
              "0                          4.0                        NaN             NaN   \n",
              "1                          5.0                        NaN             NaN   \n",
              "2                          6.0                        NaN             NaN   \n",
              "3                          5.0                        NaN             NaN   \n",
              "4                          1.0                        NaN             NaN   \n",
              "\n",
              "   takeaways_home  blocked_home  ...  giveaways_away  takeaways_away  \\\n",
              "0             NaN           NaN  ...             NaN             NaN   \n",
              "1             NaN           NaN  ...             NaN             NaN   \n",
              "2             NaN           NaN  ...             NaN             NaN   \n",
              "3             NaN           NaN  ...             NaN             NaN   \n",
              "4             NaN           NaN  ...             NaN             NaN   \n",
              "\n",
              "   blocked_away  season_num_away  pts_perc_last_szn_away  L10_pts_perc_away  \\\n",
              "0           NaN                0                     NaN                NaN   \n",
              "1           NaN                0                     NaN                NaN   \n",
              "2           NaN                0                     NaN                NaN   \n",
              "3           NaN                0                     NaN                0.4   \n",
              "4           NaN                0                     NaN                0.4   \n",
              "\n",
              "   rolling_pts%_away  home_away  coach_pts%_away  winner  \n",
              "0           0.000000          0         0.276481       0  \n",
              "1           0.375000          0         0.173077       0  \n",
              "2           0.250000          0         0.083333       0  \n",
              "3           0.400000          0         0.050000       0  \n",
              "4           0.416667          0         0.125000       1  \n",
              "\n",
              "[5 rows x 33 columns]"
            ],
            "text/html": [
              "\n",
              "  <div id=\"df-f1eb0cc8-646d-4030-b304-c3f52f220bc8\">\n",
              "    <div class=\"colab-df-container\">\n",
              "      <div>\n",
              "<style scoped>\n",
              "    .dataframe tbody tr th:only-of-type {\n",
              "        vertical-align: middle;\n",
              "    }\n",
              "\n",
              "    .dataframe tbody tr th {\n",
              "        vertical-align: top;\n",
              "    }\n",
              "\n",
              "    .dataframe thead th {\n",
              "        text-align: right;\n",
              "    }\n",
              "</style>\n",
              "<table border=\"1\" class=\"dataframe\">\n",
              "  <thead>\n",
              "    <tr style=\"text-align: right;\">\n",
              "      <th></th>\n",
              "      <th>game_id</th>\n",
              "      <th>team_id_home</th>\n",
              "      <th>shots_home</th>\n",
              "      <th>hits_home</th>\n",
              "      <th>pim_home</th>\n",
              "      <th>powerPlayOpportunities_home</th>\n",
              "      <th>faceOffWinPercentage_home</th>\n",
              "      <th>giveaways_home</th>\n",
              "      <th>takeaways_home</th>\n",
              "      <th>blocked_home</th>\n",
              "      <th>...</th>\n",
              "      <th>giveaways_away</th>\n",
              "      <th>takeaways_away</th>\n",
              "      <th>blocked_away</th>\n",
              "      <th>season_num_away</th>\n",
              "      <th>pts_perc_last_szn_away</th>\n",
              "      <th>L10_pts_perc_away</th>\n",
              "      <th>rolling_pts%_away</th>\n",
              "      <th>home_away</th>\n",
              "      <th>coach_pts%_away</th>\n",
              "      <th>winner</th>\n",
              "    </tr>\n",
              "  </thead>\n",
              "  <tbody>\n",
              "    <tr>\n",
              "      <th>0</th>\n",
              "      <td>2000020007</td>\n",
              "      <td>1</td>\n",
              "      <td>34.0</td>\n",
              "      <td>NaN</td>\n",
              "      <td>26.0</td>\n",
              "      <td>4.0</td>\n",
              "      <td>NaN</td>\n",
              "      <td>NaN</td>\n",
              "      <td>NaN</td>\n",
              "      <td>NaN</td>\n",
              "      <td>...</td>\n",
              "      <td>NaN</td>\n",
              "      <td>NaN</td>\n",
              "      <td>NaN</td>\n",
              "      <td>0</td>\n",
              "      <td>NaN</td>\n",
              "      <td>NaN</td>\n",
              "      <td>0.000000</td>\n",
              "      <td>0</td>\n",
              "      <td>0.276481</td>\n",
              "      <td>0</td>\n",
              "    </tr>\n",
              "    <tr>\n",
              "      <th>1</th>\n",
              "      <td>2000020055</td>\n",
              "      <td>1</td>\n",
              "      <td>31.0</td>\n",
              "      <td>NaN</td>\n",
              "      <td>9.0</td>\n",
              "      <td>5.0</td>\n",
              "      <td>NaN</td>\n",
              "      <td>NaN</td>\n",
              "      <td>NaN</td>\n",
              "      <td>NaN</td>\n",
              "      <td>...</td>\n",
              "      <td>NaN</td>\n",
              "      <td>NaN</td>\n",
              "      <td>NaN</td>\n",
              "      <td>0</td>\n",
              "      <td>NaN</td>\n",
              "      <td>NaN</td>\n",
              "      <td>0.375000</td>\n",
              "      <td>0</td>\n",
              "      <td>0.173077</td>\n",
              "      <td>0</td>\n",
              "    </tr>\n",
              "    <tr>\n",
              "      <th>2</th>\n",
              "      <td>2000020100</td>\n",
              "      <td>1</td>\n",
              "      <td>44.0</td>\n",
              "      <td>NaN</td>\n",
              "      <td>14.0</td>\n",
              "      <td>6.0</td>\n",
              "      <td>NaN</td>\n",
              "      <td>NaN</td>\n",
              "      <td>NaN</td>\n",
              "      <td>NaN</td>\n",
              "      <td>...</td>\n",
              "      <td>NaN</td>\n",
              "      <td>NaN</td>\n",
              "      <td>NaN</td>\n",
              "      <td>0</td>\n",
              "      <td>NaN</td>\n",
              "      <td>NaN</td>\n",
              "      <td>0.250000</td>\n",
              "      <td>0</td>\n",
              "      <td>0.083333</td>\n",
              "      <td>0</td>\n",
              "    </tr>\n",
              "    <tr>\n",
              "      <th>3</th>\n",
              "      <td>2000020034</td>\n",
              "      <td>1</td>\n",
              "      <td>26.0</td>\n",
              "      <td>NaN</td>\n",
              "      <td>13.0</td>\n",
              "      <td>5.0</td>\n",
              "      <td>NaN</td>\n",
              "      <td>NaN</td>\n",
              "      <td>NaN</td>\n",
              "      <td>NaN</td>\n",
              "      <td>...</td>\n",
              "      <td>NaN</td>\n",
              "      <td>NaN</td>\n",
              "      <td>NaN</td>\n",
              "      <td>0</td>\n",
              "      <td>NaN</td>\n",
              "      <td>0.4</td>\n",
              "      <td>0.400000</td>\n",
              "      <td>0</td>\n",
              "      <td>0.050000</td>\n",
              "      <td>0</td>\n",
              "    </tr>\n",
              "    <tr>\n",
              "      <th>4</th>\n",
              "      <td>2000020169</td>\n",
              "      <td>1</td>\n",
              "      <td>33.0</td>\n",
              "      <td>NaN</td>\n",
              "      <td>2.0</td>\n",
              "      <td>1.0</td>\n",
              "      <td>NaN</td>\n",
              "      <td>NaN</td>\n",
              "      <td>NaN</td>\n",
              "      <td>NaN</td>\n",
              "      <td>...</td>\n",
              "      <td>NaN</td>\n",
              "      <td>NaN</td>\n",
              "      <td>NaN</td>\n",
              "      <td>0</td>\n",
              "      <td>NaN</td>\n",
              "      <td>0.4</td>\n",
              "      <td>0.416667</td>\n",
              "      <td>0</td>\n",
              "      <td>0.125000</td>\n",
              "      <td>1</td>\n",
              "    </tr>\n",
              "  </tbody>\n",
              "</table>\n",
              "<p>5 rows × 33 columns</p>\n",
              "</div>\n",
              "      <button class=\"colab-df-convert\" onclick=\"convertToInteractive('df-f1eb0cc8-646d-4030-b304-c3f52f220bc8')\"\n",
              "              title=\"Convert this dataframe to an interactive table.\"\n",
              "              style=\"display:none;\">\n",
              "        \n",
              "  <svg xmlns=\"http://www.w3.org/2000/svg\" height=\"24px\"viewBox=\"0 0 24 24\"\n",
              "       width=\"24px\">\n",
              "    <path d=\"M0 0h24v24H0V0z\" fill=\"none\"/>\n",
              "    <path d=\"M18.56 5.44l.94 2.06.94-2.06 2.06-.94-2.06-.94-.94-2.06-.94 2.06-2.06.94zm-11 1L8.5 8.5l.94-2.06 2.06-.94-2.06-.94L8.5 2.5l-.94 2.06-2.06.94zm10 10l.94 2.06.94-2.06 2.06-.94-2.06-.94-.94-2.06-.94 2.06-2.06.94z\"/><path d=\"M17.41 7.96l-1.37-1.37c-.4-.4-.92-.59-1.43-.59-.52 0-1.04.2-1.43.59L10.3 9.45l-7.72 7.72c-.78.78-.78 2.05 0 2.83L4 21.41c.39.39.9.59 1.41.59.51 0 1.02-.2 1.41-.59l7.78-7.78 2.81-2.81c.8-.78.8-2.07 0-2.86zM5.41 20L4 18.59l7.72-7.72 1.47 1.35L5.41 20z\"/>\n",
              "  </svg>\n",
              "      </button>\n",
              "      \n",
              "  <style>\n",
              "    .colab-df-container {\n",
              "      display:flex;\n",
              "      flex-wrap:wrap;\n",
              "      gap: 12px;\n",
              "    }\n",
              "\n",
              "    .colab-df-convert {\n",
              "      background-color: #E8F0FE;\n",
              "      border: none;\n",
              "      border-radius: 50%;\n",
              "      cursor: pointer;\n",
              "      display: none;\n",
              "      fill: #1967D2;\n",
              "      height: 32px;\n",
              "      padding: 0 0 0 0;\n",
              "      width: 32px;\n",
              "    }\n",
              "\n",
              "    .colab-df-convert:hover {\n",
              "      background-color: #E2EBFA;\n",
              "      box-shadow: 0px 1px 2px rgba(60, 64, 67, 0.3), 0px 1px 3px 1px rgba(60, 64, 67, 0.15);\n",
              "      fill: #174EA6;\n",
              "    }\n",
              "\n",
              "    [theme=dark] .colab-df-convert {\n",
              "      background-color: #3B4455;\n",
              "      fill: #D2E3FC;\n",
              "    }\n",
              "\n",
              "    [theme=dark] .colab-df-convert:hover {\n",
              "      background-color: #434B5C;\n",
              "      box-shadow: 0px 1px 3px 1px rgba(0, 0, 0, 0.15);\n",
              "      filter: drop-shadow(0px 1px 2px rgba(0, 0, 0, 0.3));\n",
              "      fill: #FFFFFF;\n",
              "    }\n",
              "  </style>\n",
              "\n",
              "      <script>\n",
              "        const buttonEl =\n",
              "          document.querySelector('#df-f1eb0cc8-646d-4030-b304-c3f52f220bc8 button.colab-df-convert');\n",
              "        buttonEl.style.display =\n",
              "          google.colab.kernel.accessAllowed ? 'block' : 'none';\n",
              "\n",
              "        async function convertToInteractive(key) {\n",
              "          const element = document.querySelector('#df-f1eb0cc8-646d-4030-b304-c3f52f220bc8');\n",
              "          const dataTable =\n",
              "            await google.colab.kernel.invokeFunction('convertToInteractive',\n",
              "                                                     [key], {});\n",
              "          if (!dataTable) return;\n",
              "\n",
              "          const docLinkHtml = 'Like what you see? Visit the ' +\n",
              "            '<a target=\"_blank\" href=https://colab.research.google.com/notebooks/data_table.ipynb>data table notebook</a>'\n",
              "            + ' to learn more about interactive tables.';\n",
              "          element.innerHTML = '';\n",
              "          dataTable['output_type'] = 'display_data';\n",
              "          await google.colab.output.renderOutput(dataTable, element);\n",
              "          const docLink = document.createElement('div');\n",
              "          docLink.innerHTML = docLinkHtml;\n",
              "          element.appendChild(docLink);\n",
              "        }\n",
              "      </script>\n",
              "    </div>\n",
              "  </div>\n",
              "  "
            ]
          },
          "metadata": {},
          "execution_count": 19
        }
      ]
    },
    {
      "cell_type": "markdown",
      "metadata": {
        "id": "K9IjdaOuNXhx"
      },
      "source": [
        "## Removing Unimpactful Features"
      ]
    },
    {
      "cell_type": "markdown",
      "source": [
        "Here we removed a few features that were not impactful in the random forest feature importance. These features were the most important ones and resulted in the best model."
      ],
      "metadata": {
        "id": "jpyaaA77pmaO"
      }
    },
    {
      "cell_type": "code",
      "execution_count": 20,
      "metadata": {
        "id": "XWj0wHllNXBj",
        "colab": {
          "base_uri": "https://localhost:8080/"
        },
        "outputId": "228075ab-6743-4bd2-8096-ba14b05a9471"
      },
      "outputs": [
        {
          "output_type": "execute_result",
          "data": {
            "text/plain": [
              "Index(['game_id', 'team_id_home', 'shots_home', 'hits_home', 'pim_home',\n",
              "       'powerPlayOpportunities_home', 'faceOffWinPercentage_home',\n",
              "       'giveaways_home', 'takeaways_home', 'blocked_home', 'season_num_home',\n",
              "       'pts_perc_last_szn_home', 'L10_pts_perc_home', 'rolling_pts%_home',\n",
              "       'home_home', 'gametime_unix', 'coach_pts%_home', 'team_id_away',\n",
              "       'shots_away', 'hits_away', 'pim_away', 'powerPlayOpportunities_away',\n",
              "       'faceOffWinPercentage_away', 'giveaways_away', 'takeaways_away',\n",
              "       'blocked_away', 'season_num_away', 'pts_perc_last_szn_away',\n",
              "       'L10_pts_perc_away', 'rolling_pts%_away', 'home_away',\n",
              "       'coach_pts%_away', 'winner'],\n",
              "      dtype='object')"
            ]
          },
          "metadata": {},
          "execution_count": 20
        }
      ],
      "source": [
        "df.columns"
      ]
    },
    {
      "cell_type": "code",
      "execution_count": 21,
      "metadata": {
        "id": "5zs9isxlakyf"
      },
      "outputs": [],
      "source": [
        "df = df[['game_id', 'shots_home', 'hits_home', 'pim_home',  \n",
        "     'giveaways_home', 'takeaways_home', 'blocked_home', \n",
        "     'pts_perc_last_szn_home', 'L10_pts_perc_home', 'rolling_pts%_home',\n",
        "     'gametime_unix', 'coach_pts%_home',\n",
        "     'shots_away', 'hits_away', 'pim_away', 'giveaways_away', 'takeaways_away',\n",
        "     'blocked_away',  'pts_perc_last_szn_away',\n",
        "     'L10_pts_perc_away', 'rolling_pts%_away', 'coach_pts%_away', 'winner']]"
      ]
    },
    {
      "cell_type": "markdown",
      "metadata": {
        "id": "7wLzuwcHNalm"
      },
      "source": [
        "## Splitting Data"
      ]
    },
    {
      "cell_type": "code",
      "execution_count": 22,
      "metadata": {
        "id": "CrTuqqv6NcEi"
      },
      "outputs": [],
      "source": [
        "from sklearn.model_selection import train_test_split\n",
        "\n",
        "target = 'winner'\n",
        "\n",
        "df_train, df_test = train_test_split(df, train_size = 0.8, random_state = random_seed)\n",
        "\n",
        "# Divide the training data into training (80%) and validation (20%)\n",
        "df_train, df_val = train_test_split(df_train, train_size=0.8, random_state=random_seed)\n",
        "\n",
        "# Reset the index\n",
        "df_train, df_val = df_train.reset_index(drop=True), df_val.reset_index(drop=True)\n"
      ]
    },
    {
      "cell_type": "code",
      "execution_count": 23,
      "metadata": {
        "id": "HGEV-D2IOToP",
        "colab": {
          "base_uri": "https://localhost:8080/"
        },
        "outputId": "cb7acda2-5bb1-4441-d279-aa57863d3f44"
      },
      "outputs": [
        {
          "output_type": "stream",
          "name": "stdout",
          "text": [
            "Train shape:  (15177, 23)\n",
            "Test shape:  (4744, 23)\n",
            "Val shape:  (3795, 23)\n"
          ]
        }
      ],
      "source": [
        "# getting the shape of the data\n",
        "\n",
        "print('Train shape: ', df_train.shape)\n",
        "print('Test shape: ', df_test.shape)\n",
        "print('Val shape: ', df_val.shape)"
      ]
    },
    {
      "cell_type": "code",
      "execution_count": 24,
      "metadata": {
        "id": "-fipZxRo1A5C",
        "colab": {
          "base_uri": "https://localhost:8080/",
          "height": 299
        },
        "outputId": "70db84fa-9a29-4c8e-adad-7c8a34ed81de"
      },
      "outputs": [
        {
          "output_type": "execute_result",
          "data": {
            "text/plain": [
              "      game_id  shots_home  hits_home  pim_home  giveaways_home  \\\n",
              "0  2005020849        27.0       12.0      13.0            26.0   \n",
              "1  2000020485        29.0        NaN      14.0             NaN   \n",
              "2  2016020744        28.0       21.0      10.0            26.0   \n",
              "3  2005020949        46.0       12.0       8.0            11.0   \n",
              "4  2011030132        24.0       50.0       4.0             2.0   \n",
              "\n",
              "   takeaways_home  blocked_home  pts_perc_last_szn_home  L10_pts_perc_home  \\\n",
              "0             5.0          13.0                0.609756               0.55   \n",
              "1             NaN           NaN                     NaN               0.40   \n",
              "2            14.0           9.0                0.524390               0.50   \n",
              "3            12.0           9.0                0.664634               0.80   \n",
              "4             5.0          18.0                0.439024               0.50   \n",
              "\n",
              "   rolling_pts%_home  ...  hits_away  pim_away  giveaways_away  \\\n",
              "0           0.568966  ...       12.0      13.0            18.0   \n",
              "1           0.406250  ...        NaN      16.0             NaN   \n",
              "2           0.520408  ...       26.0      14.0            14.0   \n",
              "3           0.722222  ...       22.0      20.0             7.0   \n",
              "4           0.571429  ...       52.0       8.0             0.0   \n",
              "\n",
              "   takeaways_away  blocked_away  pts_perc_last_szn_away  L10_pts_perc_away  \\\n",
              "0            11.0          14.0                0.554878               0.60   \n",
              "1             NaN           NaN                     NaN               0.45   \n",
              "2             8.0          20.0                0.568182               0.45   \n",
              "3             6.0          18.0                0.359756               0.40   \n",
              "4             3.0          12.0                0.493902               0.75   \n",
              "\n",
              "   rolling_pts%_away  coach_pts%_away  winner  \n",
              "0           0.482143         0.250000       1  \n",
              "1           0.467742         0.225641       0  \n",
              "2           0.549020         0.244604       0  \n",
              "3           0.388889         0.158730       0  \n",
              "4           0.619048         0.291667       0  \n",
              "\n",
              "[5 rows x 23 columns]"
            ],
            "text/html": [
              "\n",
              "  <div id=\"df-74d663b0-3387-4633-81ab-42f3fd896a71\">\n",
              "    <div class=\"colab-df-container\">\n",
              "      <div>\n",
              "<style scoped>\n",
              "    .dataframe tbody tr th:only-of-type {\n",
              "        vertical-align: middle;\n",
              "    }\n",
              "\n",
              "    .dataframe tbody tr th {\n",
              "        vertical-align: top;\n",
              "    }\n",
              "\n",
              "    .dataframe thead th {\n",
              "        text-align: right;\n",
              "    }\n",
              "</style>\n",
              "<table border=\"1\" class=\"dataframe\">\n",
              "  <thead>\n",
              "    <tr style=\"text-align: right;\">\n",
              "      <th></th>\n",
              "      <th>game_id</th>\n",
              "      <th>shots_home</th>\n",
              "      <th>hits_home</th>\n",
              "      <th>pim_home</th>\n",
              "      <th>giveaways_home</th>\n",
              "      <th>takeaways_home</th>\n",
              "      <th>blocked_home</th>\n",
              "      <th>pts_perc_last_szn_home</th>\n",
              "      <th>L10_pts_perc_home</th>\n",
              "      <th>rolling_pts%_home</th>\n",
              "      <th>...</th>\n",
              "      <th>hits_away</th>\n",
              "      <th>pim_away</th>\n",
              "      <th>giveaways_away</th>\n",
              "      <th>takeaways_away</th>\n",
              "      <th>blocked_away</th>\n",
              "      <th>pts_perc_last_szn_away</th>\n",
              "      <th>L10_pts_perc_away</th>\n",
              "      <th>rolling_pts%_away</th>\n",
              "      <th>coach_pts%_away</th>\n",
              "      <th>winner</th>\n",
              "    </tr>\n",
              "  </thead>\n",
              "  <tbody>\n",
              "    <tr>\n",
              "      <th>0</th>\n",
              "      <td>2005020849</td>\n",
              "      <td>27.0</td>\n",
              "      <td>12.0</td>\n",
              "      <td>13.0</td>\n",
              "      <td>26.0</td>\n",
              "      <td>5.0</td>\n",
              "      <td>13.0</td>\n",
              "      <td>0.609756</td>\n",
              "      <td>0.55</td>\n",
              "      <td>0.568966</td>\n",
              "      <td>...</td>\n",
              "      <td>12.0</td>\n",
              "      <td>13.0</td>\n",
              "      <td>18.0</td>\n",
              "      <td>11.0</td>\n",
              "      <td>14.0</td>\n",
              "      <td>0.554878</td>\n",
              "      <td>0.60</td>\n",
              "      <td>0.482143</td>\n",
              "      <td>0.250000</td>\n",
              "      <td>1</td>\n",
              "    </tr>\n",
              "    <tr>\n",
              "      <th>1</th>\n",
              "      <td>2000020485</td>\n",
              "      <td>29.0</td>\n",
              "      <td>NaN</td>\n",
              "      <td>14.0</td>\n",
              "      <td>NaN</td>\n",
              "      <td>NaN</td>\n",
              "      <td>NaN</td>\n",
              "      <td>NaN</td>\n",
              "      <td>0.40</td>\n",
              "      <td>0.406250</td>\n",
              "      <td>...</td>\n",
              "      <td>NaN</td>\n",
              "      <td>16.0</td>\n",
              "      <td>NaN</td>\n",
              "      <td>NaN</td>\n",
              "      <td>NaN</td>\n",
              "      <td>NaN</td>\n",
              "      <td>0.45</td>\n",
              "      <td>0.467742</td>\n",
              "      <td>0.225641</td>\n",
              "      <td>0</td>\n",
              "    </tr>\n",
              "    <tr>\n",
              "      <th>2</th>\n",
              "      <td>2016020744</td>\n",
              "      <td>28.0</td>\n",
              "      <td>21.0</td>\n",
              "      <td>10.0</td>\n",
              "      <td>26.0</td>\n",
              "      <td>14.0</td>\n",
              "      <td>9.0</td>\n",
              "      <td>0.524390</td>\n",
              "      <td>0.50</td>\n",
              "      <td>0.520408</td>\n",
              "      <td>...</td>\n",
              "      <td>26.0</td>\n",
              "      <td>14.0</td>\n",
              "      <td>14.0</td>\n",
              "      <td>8.0</td>\n",
              "      <td>20.0</td>\n",
              "      <td>0.568182</td>\n",
              "      <td>0.45</td>\n",
              "      <td>0.549020</td>\n",
              "      <td>0.244604</td>\n",
              "      <td>0</td>\n",
              "    </tr>\n",
              "    <tr>\n",
              "      <th>3</th>\n",
              "      <td>2005020949</td>\n",
              "      <td>46.0</td>\n",
              "      <td>12.0</td>\n",
              "      <td>8.0</td>\n",
              "      <td>11.0</td>\n",
              "      <td>12.0</td>\n",
              "      <td>9.0</td>\n",
              "      <td>0.664634</td>\n",
              "      <td>0.80</td>\n",
              "      <td>0.722222</td>\n",
              "      <td>...</td>\n",
              "      <td>22.0</td>\n",
              "      <td>20.0</td>\n",
              "      <td>7.0</td>\n",
              "      <td>6.0</td>\n",
              "      <td>18.0</td>\n",
              "      <td>0.359756</td>\n",
              "      <td>0.40</td>\n",
              "      <td>0.388889</td>\n",
              "      <td>0.158730</td>\n",
              "      <td>0</td>\n",
              "    </tr>\n",
              "    <tr>\n",
              "      <th>4</th>\n",
              "      <td>2011030132</td>\n",
              "      <td>24.0</td>\n",
              "      <td>50.0</td>\n",
              "      <td>4.0</td>\n",
              "      <td>2.0</td>\n",
              "      <td>5.0</td>\n",
              "      <td>18.0</td>\n",
              "      <td>0.439024</td>\n",
              "      <td>0.50</td>\n",
              "      <td>0.571429</td>\n",
              "      <td>...</td>\n",
              "      <td>52.0</td>\n",
              "      <td>8.0</td>\n",
              "      <td>0.0</td>\n",
              "      <td>3.0</td>\n",
              "      <td>12.0</td>\n",
              "      <td>0.493902</td>\n",
              "      <td>0.75</td>\n",
              "      <td>0.619048</td>\n",
              "      <td>0.291667</td>\n",
              "      <td>0</td>\n",
              "    </tr>\n",
              "  </tbody>\n",
              "</table>\n",
              "<p>5 rows × 23 columns</p>\n",
              "</div>\n",
              "      <button class=\"colab-df-convert\" onclick=\"convertToInteractive('df-74d663b0-3387-4633-81ab-42f3fd896a71')\"\n",
              "              title=\"Convert this dataframe to an interactive table.\"\n",
              "              style=\"display:none;\">\n",
              "        \n",
              "  <svg xmlns=\"http://www.w3.org/2000/svg\" height=\"24px\"viewBox=\"0 0 24 24\"\n",
              "       width=\"24px\">\n",
              "    <path d=\"M0 0h24v24H0V0z\" fill=\"none\"/>\n",
              "    <path d=\"M18.56 5.44l.94 2.06.94-2.06 2.06-.94-2.06-.94-.94-2.06-.94 2.06-2.06.94zm-11 1L8.5 8.5l.94-2.06 2.06-.94-2.06-.94L8.5 2.5l-.94 2.06-2.06.94zm10 10l.94 2.06.94-2.06 2.06-.94-2.06-.94-.94-2.06-.94 2.06-2.06.94z\"/><path d=\"M17.41 7.96l-1.37-1.37c-.4-.4-.92-.59-1.43-.59-.52 0-1.04.2-1.43.59L10.3 9.45l-7.72 7.72c-.78.78-.78 2.05 0 2.83L4 21.41c.39.39.9.59 1.41.59.51 0 1.02-.2 1.41-.59l7.78-7.78 2.81-2.81c.8-.78.8-2.07 0-2.86zM5.41 20L4 18.59l7.72-7.72 1.47 1.35L5.41 20z\"/>\n",
              "  </svg>\n",
              "      </button>\n",
              "      \n",
              "  <style>\n",
              "    .colab-df-container {\n",
              "      display:flex;\n",
              "      flex-wrap:wrap;\n",
              "      gap: 12px;\n",
              "    }\n",
              "\n",
              "    .colab-df-convert {\n",
              "      background-color: #E8F0FE;\n",
              "      border: none;\n",
              "      border-radius: 50%;\n",
              "      cursor: pointer;\n",
              "      display: none;\n",
              "      fill: #1967D2;\n",
              "      height: 32px;\n",
              "      padding: 0 0 0 0;\n",
              "      width: 32px;\n",
              "    }\n",
              "\n",
              "    .colab-df-convert:hover {\n",
              "      background-color: #E2EBFA;\n",
              "      box-shadow: 0px 1px 2px rgba(60, 64, 67, 0.3), 0px 1px 3px 1px rgba(60, 64, 67, 0.15);\n",
              "      fill: #174EA6;\n",
              "    }\n",
              "\n",
              "    [theme=dark] .colab-df-convert {\n",
              "      background-color: #3B4455;\n",
              "      fill: #D2E3FC;\n",
              "    }\n",
              "\n",
              "    [theme=dark] .colab-df-convert:hover {\n",
              "      background-color: #434B5C;\n",
              "      box-shadow: 0px 1px 3px 1px rgba(0, 0, 0, 0.15);\n",
              "      filter: drop-shadow(0px 1px 2px rgba(0, 0, 0, 0.3));\n",
              "      fill: #FFFFFF;\n",
              "    }\n",
              "  </style>\n",
              "\n",
              "      <script>\n",
              "        const buttonEl =\n",
              "          document.querySelector('#df-74d663b0-3387-4633-81ab-42f3fd896a71 button.colab-df-convert');\n",
              "        buttonEl.style.display =\n",
              "          google.colab.kernel.accessAllowed ? 'block' : 'none';\n",
              "\n",
              "        async function convertToInteractive(key) {\n",
              "          const element = document.querySelector('#df-74d663b0-3387-4633-81ab-42f3fd896a71');\n",
              "          const dataTable =\n",
              "            await google.colab.kernel.invokeFunction('convertToInteractive',\n",
              "                                                     [key], {});\n",
              "          if (!dataTable) return;\n",
              "\n",
              "          const docLinkHtml = 'Like what you see? Visit the ' +\n",
              "            '<a target=\"_blank\" href=https://colab.research.google.com/notebooks/data_table.ipynb>data table notebook</a>'\n",
              "            + ' to learn more about interactive tables.';\n",
              "          element.innerHTML = '';\n",
              "          dataTable['output_type'] = 'display_data';\n",
              "          await google.colab.output.renderOutput(dataTable, element);\n",
              "          const docLink = document.createElement('div');\n",
              "          docLink.innerHTML = docLinkHtml;\n",
              "          element.appendChild(docLink);\n",
              "        }\n",
              "      </script>\n",
              "    </div>\n",
              "  </div>\n",
              "  "
            ]
          },
          "metadata": {},
          "execution_count": 24
        }
      ],
      "source": [
        "df_train.head()"
      ]
    },
    {
      "cell_type": "code",
      "execution_count": 25,
      "metadata": {
        "id": "eugd-mxv1bZU",
        "colab": {
          "base_uri": "https://localhost:8080/",
          "height": 299
        },
        "outputId": "f598c441-6969-4ba5-a04d-c4f629c315bc"
      },
      "outputs": [
        {
          "output_type": "execute_result",
          "data": {
            "text/plain": [
              "          game_id  shots_home  hits_home  pim_home  giveaways_home  \\\n",
              "1512   2019020225        32.0       27.0      18.0            16.0   \n",
              "8816   2014020655        28.0       22.0       4.0            17.0   \n",
              "18494  2019020947        26.0       31.0       2.0            13.0   \n",
              "17516  2015020539        27.0       15.0      20.0             8.0   \n",
              "23164  2016020191        31.0       23.0      42.0            15.0   \n",
              "\n",
              "       takeaways_home  blocked_home  pts_perc_last_szn_home  \\\n",
              "1512              6.0          10.0                0.622222   \n",
              "8816              9.0          12.0                0.506098   \n",
              "18494             5.0          21.0                0.487805   \n",
              "17516             1.0          14.0                0.596591   \n",
              "23164             9.0          16.0                0.475610   \n",
              "\n",
              "       L10_pts_perc_home  rolling_pts%_home  ...  hits_away  pim_away  \\\n",
              "1512                1.00           0.785714  ...       27.0       4.0   \n",
              "8816                0.45           0.375000  ...       30.0       6.0   \n",
              "18494               0.50           0.450820  ...       28.0       4.0   \n",
              "17516               0.55           0.486842  ...       14.0      22.0   \n",
              "23164               0.45           0.464286  ...       18.0      52.0   \n",
              "\n",
              "       giveaways_away  takeaways_away  blocked_away  pts_perc_last_szn_away  \\\n",
              "1512             14.0             6.0          16.0                0.390244   \n",
              "8816             15.0            11.0          14.0                0.506098   \n",
              "18494            10.0             4.0           9.0                0.553191   \n",
              "17516             3.0             7.0          10.0                0.579268   \n",
              "23164            10.0             5.0          19.0                0.657895   \n",
              "\n",
              "       L10_pts_perc_away  rolling_pts%_away  coach_pts%_away  winner  \n",
              "1512                0.35           0.321429         0.142857       0  \n",
              "8816                0.55           0.616279         0.290698       1  \n",
              "18494               0.75           0.641667         0.226852       1  \n",
              "17516               0.65           0.657143         0.270175       1  \n",
              "23164               0.35           0.423077         0.253322       0  \n",
              "\n",
              "[5 rows x 23 columns]"
            ],
            "text/html": [
              "\n",
              "  <div id=\"df-a235f55a-619a-4297-ab86-e51a514d7281\">\n",
              "    <div class=\"colab-df-container\">\n",
              "      <div>\n",
              "<style scoped>\n",
              "    .dataframe tbody tr th:only-of-type {\n",
              "        vertical-align: middle;\n",
              "    }\n",
              "\n",
              "    .dataframe tbody tr th {\n",
              "        vertical-align: top;\n",
              "    }\n",
              "\n",
              "    .dataframe thead th {\n",
              "        text-align: right;\n",
              "    }\n",
              "</style>\n",
              "<table border=\"1\" class=\"dataframe\">\n",
              "  <thead>\n",
              "    <tr style=\"text-align: right;\">\n",
              "      <th></th>\n",
              "      <th>game_id</th>\n",
              "      <th>shots_home</th>\n",
              "      <th>hits_home</th>\n",
              "      <th>pim_home</th>\n",
              "      <th>giveaways_home</th>\n",
              "      <th>takeaways_home</th>\n",
              "      <th>blocked_home</th>\n",
              "      <th>pts_perc_last_szn_home</th>\n",
              "      <th>L10_pts_perc_home</th>\n",
              "      <th>rolling_pts%_home</th>\n",
              "      <th>...</th>\n",
              "      <th>hits_away</th>\n",
              "      <th>pim_away</th>\n",
              "      <th>giveaways_away</th>\n",
              "      <th>takeaways_away</th>\n",
              "      <th>blocked_away</th>\n",
              "      <th>pts_perc_last_szn_away</th>\n",
              "      <th>L10_pts_perc_away</th>\n",
              "      <th>rolling_pts%_away</th>\n",
              "      <th>coach_pts%_away</th>\n",
              "      <th>winner</th>\n",
              "    </tr>\n",
              "  </thead>\n",
              "  <tbody>\n",
              "    <tr>\n",
              "      <th>1512</th>\n",
              "      <td>2019020225</td>\n",
              "      <td>32.0</td>\n",
              "      <td>27.0</td>\n",
              "      <td>18.0</td>\n",
              "      <td>16.0</td>\n",
              "      <td>6.0</td>\n",
              "      <td>10.0</td>\n",
              "      <td>0.622222</td>\n",
              "      <td>1.00</td>\n",
              "      <td>0.785714</td>\n",
              "      <td>...</td>\n",
              "      <td>27.0</td>\n",
              "      <td>4.0</td>\n",
              "      <td>14.0</td>\n",
              "      <td>6.0</td>\n",
              "      <td>16.0</td>\n",
              "      <td>0.390244</td>\n",
              "      <td>0.35</td>\n",
              "      <td>0.321429</td>\n",
              "      <td>0.142857</td>\n",
              "      <td>0</td>\n",
              "    </tr>\n",
              "    <tr>\n",
              "      <th>8816</th>\n",
              "      <td>2014020655</td>\n",
              "      <td>28.0</td>\n",
              "      <td>22.0</td>\n",
              "      <td>4.0</td>\n",
              "      <td>17.0</td>\n",
              "      <td>9.0</td>\n",
              "      <td>12.0</td>\n",
              "      <td>0.506098</td>\n",
              "      <td>0.45</td>\n",
              "      <td>0.375000</td>\n",
              "      <td>...</td>\n",
              "      <td>30.0</td>\n",
              "      <td>6.0</td>\n",
              "      <td>15.0</td>\n",
              "      <td>11.0</td>\n",
              "      <td>14.0</td>\n",
              "      <td>0.506098</td>\n",
              "      <td>0.55</td>\n",
              "      <td>0.616279</td>\n",
              "      <td>0.290698</td>\n",
              "      <td>1</td>\n",
              "    </tr>\n",
              "    <tr>\n",
              "      <th>18494</th>\n",
              "      <td>2019020947</td>\n",
              "      <td>26.0</td>\n",
              "      <td>31.0</td>\n",
              "      <td>2.0</td>\n",
              "      <td>13.0</td>\n",
              "      <td>5.0</td>\n",
              "      <td>21.0</td>\n",
              "      <td>0.487805</td>\n",
              "      <td>0.50</td>\n",
              "      <td>0.450820</td>\n",
              "      <td>...</td>\n",
              "      <td>28.0</td>\n",
              "      <td>4.0</td>\n",
              "      <td>10.0</td>\n",
              "      <td>4.0</td>\n",
              "      <td>9.0</td>\n",
              "      <td>0.553191</td>\n",
              "      <td>0.75</td>\n",
              "      <td>0.641667</td>\n",
              "      <td>0.226852</td>\n",
              "      <td>1</td>\n",
              "    </tr>\n",
              "    <tr>\n",
              "      <th>17516</th>\n",
              "      <td>2015020539</td>\n",
              "      <td>27.0</td>\n",
              "      <td>15.0</td>\n",
              "      <td>20.0</td>\n",
              "      <td>8.0</td>\n",
              "      <td>1.0</td>\n",
              "      <td>14.0</td>\n",
              "      <td>0.596591</td>\n",
              "      <td>0.55</td>\n",
              "      <td>0.486842</td>\n",
              "      <td>...</td>\n",
              "      <td>14.0</td>\n",
              "      <td>22.0</td>\n",
              "      <td>3.0</td>\n",
              "      <td>7.0</td>\n",
              "      <td>10.0</td>\n",
              "      <td>0.579268</td>\n",
              "      <td>0.65</td>\n",
              "      <td>0.657143</td>\n",
              "      <td>0.270175</td>\n",
              "      <td>1</td>\n",
              "    </tr>\n",
              "    <tr>\n",
              "      <th>23164</th>\n",
              "      <td>2016020191</td>\n",
              "      <td>31.0</td>\n",
              "      <td>23.0</td>\n",
              "      <td>42.0</td>\n",
              "      <td>15.0</td>\n",
              "      <td>9.0</td>\n",
              "      <td>16.0</td>\n",
              "      <td>0.475610</td>\n",
              "      <td>0.45</td>\n",
              "      <td>0.464286</td>\n",
              "      <td>...</td>\n",
              "      <td>18.0</td>\n",
              "      <td>52.0</td>\n",
              "      <td>10.0</td>\n",
              "      <td>5.0</td>\n",
              "      <td>19.0</td>\n",
              "      <td>0.657895</td>\n",
              "      <td>0.35</td>\n",
              "      <td>0.423077</td>\n",
              "      <td>0.253322</td>\n",
              "      <td>0</td>\n",
              "    </tr>\n",
              "  </tbody>\n",
              "</table>\n",
              "<p>5 rows × 23 columns</p>\n",
              "</div>\n",
              "      <button class=\"colab-df-convert\" onclick=\"convertToInteractive('df-a235f55a-619a-4297-ab86-e51a514d7281')\"\n",
              "              title=\"Convert this dataframe to an interactive table.\"\n",
              "              style=\"display:none;\">\n",
              "        \n",
              "  <svg xmlns=\"http://www.w3.org/2000/svg\" height=\"24px\"viewBox=\"0 0 24 24\"\n",
              "       width=\"24px\">\n",
              "    <path d=\"M0 0h24v24H0V0z\" fill=\"none\"/>\n",
              "    <path d=\"M18.56 5.44l.94 2.06.94-2.06 2.06-.94-2.06-.94-.94-2.06-.94 2.06-2.06.94zm-11 1L8.5 8.5l.94-2.06 2.06-.94-2.06-.94L8.5 2.5l-.94 2.06-2.06.94zm10 10l.94 2.06.94-2.06 2.06-.94-2.06-.94-.94-2.06-.94 2.06-2.06.94z\"/><path d=\"M17.41 7.96l-1.37-1.37c-.4-.4-.92-.59-1.43-.59-.52 0-1.04.2-1.43.59L10.3 9.45l-7.72 7.72c-.78.78-.78 2.05 0 2.83L4 21.41c.39.39.9.59 1.41.59.51 0 1.02-.2 1.41-.59l7.78-7.78 2.81-2.81c.8-.78.8-2.07 0-2.86zM5.41 20L4 18.59l7.72-7.72 1.47 1.35L5.41 20z\"/>\n",
              "  </svg>\n",
              "      </button>\n",
              "      \n",
              "  <style>\n",
              "    .colab-df-container {\n",
              "      display:flex;\n",
              "      flex-wrap:wrap;\n",
              "      gap: 12px;\n",
              "    }\n",
              "\n",
              "    .colab-df-convert {\n",
              "      background-color: #E8F0FE;\n",
              "      border: none;\n",
              "      border-radius: 50%;\n",
              "      cursor: pointer;\n",
              "      display: none;\n",
              "      fill: #1967D2;\n",
              "      height: 32px;\n",
              "      padding: 0 0 0 0;\n",
              "      width: 32px;\n",
              "    }\n",
              "\n",
              "    .colab-df-convert:hover {\n",
              "      background-color: #E2EBFA;\n",
              "      box-shadow: 0px 1px 2px rgba(60, 64, 67, 0.3), 0px 1px 3px 1px rgba(60, 64, 67, 0.15);\n",
              "      fill: #174EA6;\n",
              "    }\n",
              "\n",
              "    [theme=dark] .colab-df-convert {\n",
              "      background-color: #3B4455;\n",
              "      fill: #D2E3FC;\n",
              "    }\n",
              "\n",
              "    [theme=dark] .colab-df-convert:hover {\n",
              "      background-color: #434B5C;\n",
              "      box-shadow: 0px 1px 3px 1px rgba(0, 0, 0, 0.15);\n",
              "      filter: drop-shadow(0px 1px 2px rgba(0, 0, 0, 0.3));\n",
              "      fill: #FFFFFF;\n",
              "    }\n",
              "  </style>\n",
              "\n",
              "      <script>\n",
              "        const buttonEl =\n",
              "          document.querySelector('#df-a235f55a-619a-4297-ab86-e51a514d7281 button.colab-df-convert');\n",
              "        buttonEl.style.display =\n",
              "          google.colab.kernel.accessAllowed ? 'block' : 'none';\n",
              "\n",
              "        async function convertToInteractive(key) {\n",
              "          const element = document.querySelector('#df-a235f55a-619a-4297-ab86-e51a514d7281');\n",
              "          const dataTable =\n",
              "            await google.colab.kernel.invokeFunction('convertToInteractive',\n",
              "                                                     [key], {});\n",
              "          if (!dataTable) return;\n",
              "\n",
              "          const docLinkHtml = 'Like what you see? Visit the ' +\n",
              "            '<a target=\"_blank\" href=https://colab.research.google.com/notebooks/data_table.ipynb>data table notebook</a>'\n",
              "            + ' to learn more about interactive tables.';\n",
              "          element.innerHTML = '';\n",
              "          dataTable['output_type'] = 'display_data';\n",
              "          await google.colab.output.renderOutput(dataTable, element);\n",
              "          const docLink = document.createElement('div');\n",
              "          docLink.innerHTML = docLinkHtml;\n",
              "          element.appendChild(docLink);\n",
              "        }\n",
              "      </script>\n",
              "    </div>\n",
              "  </div>\n",
              "  "
            ]
          },
          "metadata": {},
          "execution_count": 25
        }
      ],
      "source": [
        "df_test.head()"
      ]
    },
    {
      "cell_type": "markdown",
      "metadata": {
        "id": "rbI-swdoOYTv"
      },
      "source": [
        "## Checking Features"
      ]
    },
    {
      "cell_type": "markdown",
      "metadata": {
        "id": "JCdLlA0XQWRQ"
      },
      "source": [
        "### Uncommon Features"
      ]
    },
    {
      "cell_type": "code",
      "execution_count": 26,
      "metadata": {
        "id": "dV3lx0IxOc3-",
        "colab": {
          "base_uri": "https://localhost:8080/",
          "height": 770
        },
        "outputId": "1f1230d2-0a93-4cae-c4f1-83ee22da4696"
      },
      "outputs": [
        {
          "output_type": "execute_result",
          "data": {
            "text/plain": [
              "           Common Features\n",
              "0        L10_pts_perc_away\n",
              "1        L10_pts_perc_home\n",
              "2             blocked_away\n",
              "3             blocked_home\n",
              "4          coach_pts%_away\n",
              "5          coach_pts%_home\n",
              "6                  game_id\n",
              "7            gametime_unix\n",
              "8           giveaways_away\n",
              "9           giveaways_home\n",
              "10               hits_away\n",
              "11               hits_home\n",
              "12                pim_away\n",
              "13                pim_home\n",
              "14  pts_perc_last_szn_away\n",
              "15  pts_perc_last_szn_home\n",
              "16       rolling_pts%_away\n",
              "17       rolling_pts%_home\n",
              "18              shots_away\n",
              "19              shots_home\n",
              "20          takeaways_away\n",
              "21          takeaways_home\n",
              "22                  winner"
            ],
            "text/html": [
              "\n",
              "  <div id=\"df-a9176179-9b83-46f6-a550-333859558ba8\">\n",
              "    <div class=\"colab-df-container\">\n",
              "      <div>\n",
              "<style scoped>\n",
              "    .dataframe tbody tr th:only-of-type {\n",
              "        vertical-align: middle;\n",
              "    }\n",
              "\n",
              "    .dataframe tbody tr th {\n",
              "        vertical-align: top;\n",
              "    }\n",
              "\n",
              "    .dataframe thead th {\n",
              "        text-align: right;\n",
              "    }\n",
              "</style>\n",
              "<table border=\"1\" class=\"dataframe\">\n",
              "  <thead>\n",
              "    <tr style=\"text-align: right;\">\n",
              "      <th></th>\n",
              "      <th>Common Features</th>\n",
              "    </tr>\n",
              "  </thead>\n",
              "  <tbody>\n",
              "    <tr>\n",
              "      <th>0</th>\n",
              "      <td>L10_pts_perc_away</td>\n",
              "    </tr>\n",
              "    <tr>\n",
              "      <th>1</th>\n",
              "      <td>L10_pts_perc_home</td>\n",
              "    </tr>\n",
              "    <tr>\n",
              "      <th>2</th>\n",
              "      <td>blocked_away</td>\n",
              "    </tr>\n",
              "    <tr>\n",
              "      <th>3</th>\n",
              "      <td>blocked_home</td>\n",
              "    </tr>\n",
              "    <tr>\n",
              "      <th>4</th>\n",
              "      <td>coach_pts%_away</td>\n",
              "    </tr>\n",
              "    <tr>\n",
              "      <th>5</th>\n",
              "      <td>coach_pts%_home</td>\n",
              "    </tr>\n",
              "    <tr>\n",
              "      <th>6</th>\n",
              "      <td>game_id</td>\n",
              "    </tr>\n",
              "    <tr>\n",
              "      <th>7</th>\n",
              "      <td>gametime_unix</td>\n",
              "    </tr>\n",
              "    <tr>\n",
              "      <th>8</th>\n",
              "      <td>giveaways_away</td>\n",
              "    </tr>\n",
              "    <tr>\n",
              "      <th>9</th>\n",
              "      <td>giveaways_home</td>\n",
              "    </tr>\n",
              "    <tr>\n",
              "      <th>10</th>\n",
              "      <td>hits_away</td>\n",
              "    </tr>\n",
              "    <tr>\n",
              "      <th>11</th>\n",
              "      <td>hits_home</td>\n",
              "    </tr>\n",
              "    <tr>\n",
              "      <th>12</th>\n",
              "      <td>pim_away</td>\n",
              "    </tr>\n",
              "    <tr>\n",
              "      <th>13</th>\n",
              "      <td>pim_home</td>\n",
              "    </tr>\n",
              "    <tr>\n",
              "      <th>14</th>\n",
              "      <td>pts_perc_last_szn_away</td>\n",
              "    </tr>\n",
              "    <tr>\n",
              "      <th>15</th>\n",
              "      <td>pts_perc_last_szn_home</td>\n",
              "    </tr>\n",
              "    <tr>\n",
              "      <th>16</th>\n",
              "      <td>rolling_pts%_away</td>\n",
              "    </tr>\n",
              "    <tr>\n",
              "      <th>17</th>\n",
              "      <td>rolling_pts%_home</td>\n",
              "    </tr>\n",
              "    <tr>\n",
              "      <th>18</th>\n",
              "      <td>shots_away</td>\n",
              "    </tr>\n",
              "    <tr>\n",
              "      <th>19</th>\n",
              "      <td>shots_home</td>\n",
              "    </tr>\n",
              "    <tr>\n",
              "      <th>20</th>\n",
              "      <td>takeaways_away</td>\n",
              "    </tr>\n",
              "    <tr>\n",
              "      <th>21</th>\n",
              "      <td>takeaways_home</td>\n",
              "    </tr>\n",
              "    <tr>\n",
              "      <th>22</th>\n",
              "      <td>winner</td>\n",
              "    </tr>\n",
              "  </tbody>\n",
              "</table>\n",
              "</div>\n",
              "      <button class=\"colab-df-convert\" onclick=\"convertToInteractive('df-a9176179-9b83-46f6-a550-333859558ba8')\"\n",
              "              title=\"Convert this dataframe to an interactive table.\"\n",
              "              style=\"display:none;\">\n",
              "        \n",
              "  <svg xmlns=\"http://www.w3.org/2000/svg\" height=\"24px\"viewBox=\"0 0 24 24\"\n",
              "       width=\"24px\">\n",
              "    <path d=\"M0 0h24v24H0V0z\" fill=\"none\"/>\n",
              "    <path d=\"M18.56 5.44l.94 2.06.94-2.06 2.06-.94-2.06-.94-.94-2.06-.94 2.06-2.06.94zm-11 1L8.5 8.5l.94-2.06 2.06-.94-2.06-.94L8.5 2.5l-.94 2.06-2.06.94zm10 10l.94 2.06.94-2.06 2.06-.94-2.06-.94-.94-2.06-.94 2.06-2.06.94z\"/><path d=\"M17.41 7.96l-1.37-1.37c-.4-.4-.92-.59-1.43-.59-.52 0-1.04.2-1.43.59L10.3 9.45l-7.72 7.72c-.78.78-.78 2.05 0 2.83L4 21.41c.39.39.9.59 1.41.59.51 0 1.02-.2 1.41-.59l7.78-7.78 2.81-2.81c.8-.78.8-2.07 0-2.86zM5.41 20L4 18.59l7.72-7.72 1.47 1.35L5.41 20z\"/>\n",
              "  </svg>\n",
              "      </button>\n",
              "      \n",
              "  <style>\n",
              "    .colab-df-container {\n",
              "      display:flex;\n",
              "      flex-wrap:wrap;\n",
              "      gap: 12px;\n",
              "    }\n",
              "\n",
              "    .colab-df-convert {\n",
              "      background-color: #E8F0FE;\n",
              "      border: none;\n",
              "      border-radius: 50%;\n",
              "      cursor: pointer;\n",
              "      display: none;\n",
              "      fill: #1967D2;\n",
              "      height: 32px;\n",
              "      padding: 0 0 0 0;\n",
              "      width: 32px;\n",
              "    }\n",
              "\n",
              "    .colab-df-convert:hover {\n",
              "      background-color: #E2EBFA;\n",
              "      box-shadow: 0px 1px 2px rgba(60, 64, 67, 0.3), 0px 1px 3px 1px rgba(60, 64, 67, 0.15);\n",
              "      fill: #174EA6;\n",
              "    }\n",
              "\n",
              "    [theme=dark] .colab-df-convert {\n",
              "      background-color: #3B4455;\n",
              "      fill: #D2E3FC;\n",
              "    }\n",
              "\n",
              "    [theme=dark] .colab-df-convert:hover {\n",
              "      background-color: #434B5C;\n",
              "      box-shadow: 0px 1px 3px 1px rgba(0, 0, 0, 0.15);\n",
              "      filter: drop-shadow(0px 1px 2px rgba(0, 0, 0, 0.3));\n",
              "      fill: #FFFFFF;\n",
              "    }\n",
              "  </style>\n",
              "\n",
              "      <script>\n",
              "        const buttonEl =\n",
              "          document.querySelector('#df-a9176179-9b83-46f6-a550-333859558ba8 button.colab-df-convert');\n",
              "        buttonEl.style.display =\n",
              "          google.colab.kernel.accessAllowed ? 'block' : 'none';\n",
              "\n",
              "        async function convertToInteractive(key) {\n",
              "          const element = document.querySelector('#df-a9176179-9b83-46f6-a550-333859558ba8');\n",
              "          const dataTable =\n",
              "            await google.colab.kernel.invokeFunction('convertToInteractive',\n",
              "                                                     [key], {});\n",
              "          if (!dataTable) return;\n",
              "\n",
              "          const docLinkHtml = 'Like what you see? Visit the ' +\n",
              "            '<a target=\"_blank\" href=https://colab.research.google.com/notebooks/data_table.ipynb>data table notebook</a>'\n",
              "            + ' to learn more about interactive tables.';\n",
              "          element.innerHTML = '';\n",
              "          dataTable['output_type'] = 'display_data';\n",
              "          await google.colab.output.renderOutput(dataTable, element);\n",
              "          const docLink = document.createElement('div');\n",
              "          docLink.innerHTML = docLinkHtml;\n",
              "          element.appendChild(docLink);\n",
              "        }\n",
              "      </script>\n",
              "    </div>\n",
              "  </div>\n",
              "  "
            ]
          },
          "metadata": {},
          "execution_count": 26
        }
      ],
      "source": [
        "## getting common features\n",
        "common_features = np.intersect1d(np.intersect1d(df_train.columns, df_val.columns), df_test.columns)\n",
        "commondf = pd.DataFrame(columns = ['Common Features'], data = common_features)\n",
        "commondf"
      ]
    },
    {
      "cell_type": "code",
      "execution_count": 27,
      "metadata": {
        "id": "N5b8Z3WjPmct",
        "colab": {
          "base_uri": "https://localhost:8080/"
        },
        "outputId": "7f0da17f-5006-471d-8aff-dd06e220d32b"
      },
      "outputs": [
        {
          "output_type": "stream",
          "name": "stdout",
          "text": [
            "Uncommon Features:  []\n"
          ]
        }
      ],
      "source": [
        "uncommon = np.setdiff1d(df_train.columns, common_features) + np.setdiff1d(df_val.columns, common_features) + np.setdiff1d(df_test.columns, common_features)\n",
        "print('Uncommon Features: ', uncommon)"
      ]
    },
    {
      "cell_type": "markdown",
      "metadata": {
        "id": "juVsKtBiQEdC"
      },
      "source": [
        "There are no uncommon features in our dataset so there are no columns to remove."
      ]
    },
    {
      "cell_type": "markdown",
      "metadata": {
        "id": "4SKRtosjQS2o"
      },
      "source": [
        "### Identifiers\n",
        "The only identifying column is the \"game_id\" column which we will remove from the train, validation, and test data sets. Because there are so many games per hockey season, there are usually multiple games happening at the same time every day, thus the \"gametime_unix\" feature is not an identifier and can remain a feature in the data set."
      ]
    },
    {
      "cell_type": "code",
      "execution_count": 28,
      "metadata": {
        "id": "kA0MTqP9QmuC",
        "colab": {
          "base_uri": "https://localhost:8080/"
        },
        "outputId": "0113b79e-e0b0-489f-b07d-93afb3ce5929"
      },
      "outputs": [
        {
          "output_type": "stream",
          "name": "stdout",
          "text": [
            "Train shape:  (15177, 22)\n",
            "Test shape:  (4744, 22)\n",
            "Val shape:  (3795, 22)\n"
          ]
        }
      ],
      "source": [
        "id_cols = ['game_id']\n",
        "\n",
        "df_train.drop(columns = id_cols, inplace = True)\n",
        "df_test.drop(columns = id_cols, inplace = True)\n",
        "df_val.drop(columns = id_cols, inplace = True)\n",
        "\n",
        "print('Train shape: ', df_train.shape)\n",
        "print('Test shape: ', df_test.shape)\n",
        "print('Val shape: ', df_val.shape)"
      ]
    },
    {
      "cell_type": "markdown",
      "metadata": {
        "id": "qfR0UWzfRg6z"
      },
      "source": [
        "## Missing Data"
      ]
    },
    {
      "cell_type": "code",
      "execution_count": 29,
      "metadata": {
        "id": "7B3IibyBQwlr"
      },
      "outputs": [],
      "source": [
        "# Combine df_train, df_val and df_test\n",
        "df = pd.concat([df_train, df_val, df_test], sort=False)"
      ]
    },
    {
      "cell_type": "code",
      "execution_count": 30,
      "metadata": {
        "id": "vjYDMLqpSZsc",
        "colab": {
          "base_uri": "https://localhost:8080/",
          "height": 426
        },
        "outputId": "644b1fb0-36b4-4df7-b898-e1244f16626a"
      },
      "outputs": [
        {
          "output_type": "execute_result",
          "data": {
            "text/plain": [
              "                       var  proportion    dtype\n",
              "0        L10_pts_perc_home    0.109631  float64\n",
              "1        L10_pts_perc_away    0.107818  float64\n",
              "2                hits_home    0.103727  float64\n",
              "3           giveaways_home    0.103727  float64\n",
              "4           takeaways_home    0.103727  float64\n",
              "5             blocked_home    0.103727  float64\n",
              "6                hits_away    0.103727  float64\n",
              "7           giveaways_away    0.103727  float64\n",
              "8           takeaways_away    0.103727  float64\n",
              "9             blocked_away    0.103727  float64\n",
              "10  pts_perc_last_szn_home    0.057472  float64\n",
              "11  pts_perc_last_szn_away    0.057472  float64"
            ],
            "text/html": [
              "\n",
              "  <div id=\"df-47c23dd7-2222-4885-bbae-2a2144f527c3\">\n",
              "    <div class=\"colab-df-container\">\n",
              "      <div>\n",
              "<style scoped>\n",
              "    .dataframe tbody tr th:only-of-type {\n",
              "        vertical-align: middle;\n",
              "    }\n",
              "\n",
              "    .dataframe tbody tr th {\n",
              "        vertical-align: top;\n",
              "    }\n",
              "\n",
              "    .dataframe thead th {\n",
              "        text-align: right;\n",
              "    }\n",
              "</style>\n",
              "<table border=\"1\" class=\"dataframe\">\n",
              "  <thead>\n",
              "    <tr style=\"text-align: right;\">\n",
              "      <th></th>\n",
              "      <th>var</th>\n",
              "      <th>proportion</th>\n",
              "      <th>dtype</th>\n",
              "    </tr>\n",
              "  </thead>\n",
              "  <tbody>\n",
              "    <tr>\n",
              "      <th>0</th>\n",
              "      <td>L10_pts_perc_home</td>\n",
              "      <td>0.109631</td>\n",
              "      <td>float64</td>\n",
              "    </tr>\n",
              "    <tr>\n",
              "      <th>1</th>\n",
              "      <td>L10_pts_perc_away</td>\n",
              "      <td>0.107818</td>\n",
              "      <td>float64</td>\n",
              "    </tr>\n",
              "    <tr>\n",
              "      <th>2</th>\n",
              "      <td>hits_home</td>\n",
              "      <td>0.103727</td>\n",
              "      <td>float64</td>\n",
              "    </tr>\n",
              "    <tr>\n",
              "      <th>3</th>\n",
              "      <td>giveaways_home</td>\n",
              "      <td>0.103727</td>\n",
              "      <td>float64</td>\n",
              "    </tr>\n",
              "    <tr>\n",
              "      <th>4</th>\n",
              "      <td>takeaways_home</td>\n",
              "      <td>0.103727</td>\n",
              "      <td>float64</td>\n",
              "    </tr>\n",
              "    <tr>\n",
              "      <th>5</th>\n",
              "      <td>blocked_home</td>\n",
              "      <td>0.103727</td>\n",
              "      <td>float64</td>\n",
              "    </tr>\n",
              "    <tr>\n",
              "      <th>6</th>\n",
              "      <td>hits_away</td>\n",
              "      <td>0.103727</td>\n",
              "      <td>float64</td>\n",
              "    </tr>\n",
              "    <tr>\n",
              "      <th>7</th>\n",
              "      <td>giveaways_away</td>\n",
              "      <td>0.103727</td>\n",
              "      <td>float64</td>\n",
              "    </tr>\n",
              "    <tr>\n",
              "      <th>8</th>\n",
              "      <td>takeaways_away</td>\n",
              "      <td>0.103727</td>\n",
              "      <td>float64</td>\n",
              "    </tr>\n",
              "    <tr>\n",
              "      <th>9</th>\n",
              "      <td>blocked_away</td>\n",
              "      <td>0.103727</td>\n",
              "      <td>float64</td>\n",
              "    </tr>\n",
              "    <tr>\n",
              "      <th>10</th>\n",
              "      <td>pts_perc_last_szn_home</td>\n",
              "      <td>0.057472</td>\n",
              "      <td>float64</td>\n",
              "    </tr>\n",
              "    <tr>\n",
              "      <th>11</th>\n",
              "      <td>pts_perc_last_szn_away</td>\n",
              "      <td>0.057472</td>\n",
              "      <td>float64</td>\n",
              "    </tr>\n",
              "  </tbody>\n",
              "</table>\n",
              "</div>\n",
              "      <button class=\"colab-df-convert\" onclick=\"convertToInteractive('df-47c23dd7-2222-4885-bbae-2a2144f527c3')\"\n",
              "              title=\"Convert this dataframe to an interactive table.\"\n",
              "              style=\"display:none;\">\n",
              "        \n",
              "  <svg xmlns=\"http://www.w3.org/2000/svg\" height=\"24px\"viewBox=\"0 0 24 24\"\n",
              "       width=\"24px\">\n",
              "    <path d=\"M0 0h24v24H0V0z\" fill=\"none\"/>\n",
              "    <path d=\"M18.56 5.44l.94 2.06.94-2.06 2.06-.94-2.06-.94-.94-2.06-.94 2.06-2.06.94zm-11 1L8.5 8.5l.94-2.06 2.06-.94-2.06-.94L8.5 2.5l-.94 2.06-2.06.94zm10 10l.94 2.06.94-2.06 2.06-.94-2.06-.94-.94-2.06-.94 2.06-2.06.94z\"/><path d=\"M17.41 7.96l-1.37-1.37c-.4-.4-.92-.59-1.43-.59-.52 0-1.04.2-1.43.59L10.3 9.45l-7.72 7.72c-.78.78-.78 2.05 0 2.83L4 21.41c.39.39.9.59 1.41.59.51 0 1.02-.2 1.41-.59l7.78-7.78 2.81-2.81c.8-.78.8-2.07 0-2.86zM5.41 20L4 18.59l7.72-7.72 1.47 1.35L5.41 20z\"/>\n",
              "  </svg>\n",
              "      </button>\n",
              "      \n",
              "  <style>\n",
              "    .colab-df-container {\n",
              "      display:flex;\n",
              "      flex-wrap:wrap;\n",
              "      gap: 12px;\n",
              "    }\n",
              "\n",
              "    .colab-df-convert {\n",
              "      background-color: #E8F0FE;\n",
              "      border: none;\n",
              "      border-radius: 50%;\n",
              "      cursor: pointer;\n",
              "      display: none;\n",
              "      fill: #1967D2;\n",
              "      height: 32px;\n",
              "      padding: 0 0 0 0;\n",
              "      width: 32px;\n",
              "    }\n",
              "\n",
              "    .colab-df-convert:hover {\n",
              "      background-color: #E2EBFA;\n",
              "      box-shadow: 0px 1px 2px rgba(60, 64, 67, 0.3), 0px 1px 3px 1px rgba(60, 64, 67, 0.15);\n",
              "      fill: #174EA6;\n",
              "    }\n",
              "\n",
              "    [theme=dark] .colab-df-convert {\n",
              "      background-color: #3B4455;\n",
              "      fill: #D2E3FC;\n",
              "    }\n",
              "\n",
              "    [theme=dark] .colab-df-convert:hover {\n",
              "      background-color: #434B5C;\n",
              "      box-shadow: 0px 1px 3px 1px rgba(0, 0, 0, 0.15);\n",
              "      filter: drop-shadow(0px 1px 2px rgba(0, 0, 0, 0.3));\n",
              "      fill: #FFFFFF;\n",
              "    }\n",
              "  </style>\n",
              "\n",
              "      <script>\n",
              "        const buttonEl =\n",
              "          document.querySelector('#df-47c23dd7-2222-4885-bbae-2a2144f527c3 button.colab-df-convert');\n",
              "        buttonEl.style.display =\n",
              "          google.colab.kernel.accessAllowed ? 'block' : 'none';\n",
              "\n",
              "        async function convertToInteractive(key) {\n",
              "          const element = document.querySelector('#df-47c23dd7-2222-4885-bbae-2a2144f527c3');\n",
              "          const dataTable =\n",
              "            await google.colab.kernel.invokeFunction('convertToInteractive',\n",
              "                                                     [key], {});\n",
              "          if (!dataTable) return;\n",
              "\n",
              "          const docLinkHtml = 'Like what you see? Visit the ' +\n",
              "            '<a target=\"_blank\" href=https://colab.research.google.com/notebooks/data_table.ipynb>data table notebook</a>'\n",
              "            + ' to learn more about interactive tables.';\n",
              "          element.innerHTML = '';\n",
              "          dataTable['output_type'] = 'display_data';\n",
              "          await google.colab.output.renderOutput(dataTable, element);\n",
              "          const docLink = document.createElement('div');\n",
              "          docLink.innerHTML = docLinkHtml;\n",
              "          element.appendChild(docLink);\n",
              "        }\n",
              "      </script>\n",
              "    </div>\n",
              "  </div>\n",
              "  "
            ]
          },
          "metadata": {},
          "execution_count": 30
        }
      ],
      "source": [
        "df_miss = nan_checker(df)\n",
        "\n",
        "# Print df_nan\n",
        "df_miss"
      ]
    },
    {
      "cell_type": "markdown",
      "metadata": {
        "id": "B2pZWkqRSywJ"
      },
      "source": [
        "All the missing data are floats so we can consider them missing and impute them."
      ]
    },
    {
      "cell_type": "code",
      "execution_count": 31,
      "metadata": {
        "id": "ogxf0W4cS34A"
      },
      "outputs": [],
      "source": [
        "from sklearn.impute import SimpleImputer\n",
        "\n",
        "# The SimpleImputer\n",
        "si = SimpleImputer(missing_values=np.nan, strategy='most_frequent')\n",
        "\n",
        "# Impute the variables with missing values in df_train, df_val and df_test \n",
        "df_train[df_miss['var']] = si.fit_transform(df_train[df_miss['var']])\n",
        "df_val[df_miss['var']] = si.transform(df_val[df_miss['var']])\n",
        "df_test[df_miss['var']] = si.transform(df_test[df_miss['var']])"
      ]
    },
    {
      "cell_type": "markdown",
      "metadata": {
        "id": "8UFYZbx7TSSu"
      },
      "source": [
        "## Encoding"
      ]
    },
    {
      "cell_type": "code",
      "execution_count": 32,
      "metadata": {
        "id": "u6XCnAm0TTfK",
        "colab": {
          "base_uri": "https://localhost:8080/",
          "height": 112
        },
        "outputId": "ad078eef-e941-4324-a757-3d32b65f356b"
      },
      "outputs": [
        {
          "output_type": "execute_result",
          "data": {
            "text/plain": [
              "     dtype\n",
              "0  float64\n",
              "1    int64"
            ],
            "text/html": [
              "\n",
              "  <div id=\"df-36e979f0-8a40-4b2c-a4ea-a99bdea00e8d\">\n",
              "    <div class=\"colab-df-container\">\n",
              "      <div>\n",
              "<style scoped>\n",
              "    .dataframe tbody tr th:only-of-type {\n",
              "        vertical-align: middle;\n",
              "    }\n",
              "\n",
              "    .dataframe tbody tr th {\n",
              "        vertical-align: top;\n",
              "    }\n",
              "\n",
              "    .dataframe thead th {\n",
              "        text-align: right;\n",
              "    }\n",
              "</style>\n",
              "<table border=\"1\" class=\"dataframe\">\n",
              "  <thead>\n",
              "    <tr style=\"text-align: right;\">\n",
              "      <th></th>\n",
              "      <th>dtype</th>\n",
              "    </tr>\n",
              "  </thead>\n",
              "  <tbody>\n",
              "    <tr>\n",
              "      <th>0</th>\n",
              "      <td>float64</td>\n",
              "    </tr>\n",
              "    <tr>\n",
              "      <th>1</th>\n",
              "      <td>int64</td>\n",
              "    </tr>\n",
              "  </tbody>\n",
              "</table>\n",
              "</div>\n",
              "      <button class=\"colab-df-convert\" onclick=\"convertToInteractive('df-36e979f0-8a40-4b2c-a4ea-a99bdea00e8d')\"\n",
              "              title=\"Convert this dataframe to an interactive table.\"\n",
              "              style=\"display:none;\">\n",
              "        \n",
              "  <svg xmlns=\"http://www.w3.org/2000/svg\" height=\"24px\"viewBox=\"0 0 24 24\"\n",
              "       width=\"24px\">\n",
              "    <path d=\"M0 0h24v24H0V0z\" fill=\"none\"/>\n",
              "    <path d=\"M18.56 5.44l.94 2.06.94-2.06 2.06-.94-2.06-.94-.94-2.06-.94 2.06-2.06.94zm-11 1L8.5 8.5l.94-2.06 2.06-.94-2.06-.94L8.5 2.5l-.94 2.06-2.06.94zm10 10l.94 2.06.94-2.06 2.06-.94-2.06-.94-.94-2.06-.94 2.06-2.06.94z\"/><path d=\"M17.41 7.96l-1.37-1.37c-.4-.4-.92-.59-1.43-.59-.52 0-1.04.2-1.43.59L10.3 9.45l-7.72 7.72c-.78.78-.78 2.05 0 2.83L4 21.41c.39.39.9.59 1.41.59.51 0 1.02-.2 1.41-.59l7.78-7.78 2.81-2.81c.8-.78.8-2.07 0-2.86zM5.41 20L4 18.59l7.72-7.72 1.47 1.35L5.41 20z\"/>\n",
              "  </svg>\n",
              "      </button>\n",
              "      \n",
              "  <style>\n",
              "    .colab-df-container {\n",
              "      display:flex;\n",
              "      flex-wrap:wrap;\n",
              "      gap: 12px;\n",
              "    }\n",
              "\n",
              "    .colab-df-convert {\n",
              "      background-color: #E8F0FE;\n",
              "      border: none;\n",
              "      border-radius: 50%;\n",
              "      cursor: pointer;\n",
              "      display: none;\n",
              "      fill: #1967D2;\n",
              "      height: 32px;\n",
              "      padding: 0 0 0 0;\n",
              "      width: 32px;\n",
              "    }\n",
              "\n",
              "    .colab-df-convert:hover {\n",
              "      background-color: #E2EBFA;\n",
              "      box-shadow: 0px 1px 2px rgba(60, 64, 67, 0.3), 0px 1px 3px 1px rgba(60, 64, 67, 0.15);\n",
              "      fill: #174EA6;\n",
              "    }\n",
              "\n",
              "    [theme=dark] .colab-df-convert {\n",
              "      background-color: #3B4455;\n",
              "      fill: #D2E3FC;\n",
              "    }\n",
              "\n",
              "    [theme=dark] .colab-df-convert:hover {\n",
              "      background-color: #434B5C;\n",
              "      box-shadow: 0px 1px 3px 1px rgba(0, 0, 0, 0.15);\n",
              "      filter: drop-shadow(0px 1px 2px rgba(0, 0, 0, 0.3));\n",
              "      fill: #FFFFFF;\n",
              "    }\n",
              "  </style>\n",
              "\n",
              "      <script>\n",
              "        const buttonEl =\n",
              "          document.querySelector('#df-36e979f0-8a40-4b2c-a4ea-a99bdea00e8d button.colab-df-convert');\n",
              "        buttonEl.style.display =\n",
              "          google.colab.kernel.accessAllowed ? 'block' : 'none';\n",
              "\n",
              "        async function convertToInteractive(key) {\n",
              "          const element = document.querySelector('#df-36e979f0-8a40-4b2c-a4ea-a99bdea00e8d');\n",
              "          const dataTable =\n",
              "            await google.colab.kernel.invokeFunction('convertToInteractive',\n",
              "                                                     [key], {});\n",
              "          if (!dataTable) return;\n",
              "\n",
              "          const docLinkHtml = 'Like what you see? Visit the ' +\n",
              "            '<a target=\"_blank\" href=https://colab.research.google.com/notebooks/data_table.ipynb>data table notebook</a>'\n",
              "            + ' to learn more about interactive tables.';\n",
              "          element.innerHTML = '';\n",
              "          dataTable['output_type'] = 'display_data';\n",
              "          await google.colab.output.renderOutput(dataTable, element);\n",
              "          const docLink = document.createElement('div');\n",
              "          docLink.innerHTML = docLinkHtml;\n",
              "          element.appendChild(docLink);\n",
              "        }\n",
              "      </script>\n",
              "    </div>\n",
              "  </div>\n",
              "  "
            ]
          },
          "metadata": {},
          "execution_count": 32
        }
      ],
      "source": [
        "# Combine df_train, df_val and df_test\n",
        "df = pd.concat([df_train, df_val, df_test], sort=False)\n",
        "\n",
        "# Print the unique data type of variables in df\n",
        "pd.DataFrame(df.dtypes.unique(), columns=['dtype'])"
      ]
    },
    {
      "cell_type": "markdown",
      "metadata": {
        "id": "R4QqRzxIV_Qb"
      },
      "source": [
        "We don't have any categorical variables so we do not need to worry about encoding any features."
      ]
    },
    {
      "cell_type": "code",
      "source": [
        "df_test"
      ],
      "metadata": {
        "colab": {
          "base_uri": "https://localhost:8080/",
          "height": 487
        },
        "id": "9fBg49Ocbcab",
        "outputId": "883f0de0-0aca-4bad-a83f-0ca142e877a1"
      },
      "execution_count": 33,
      "outputs": [
        {
          "output_type": "execute_result",
          "data": {
            "text/plain": [
              "       shots_home  hits_home  pim_home  giveaways_home  takeaways_home  \\\n",
              "1512         32.0       27.0      18.0            16.0             6.0   \n",
              "8816         28.0       22.0       4.0            17.0             9.0   \n",
              "18494        26.0       31.0       2.0            13.0             5.0   \n",
              "17516        27.0       15.0      20.0             8.0             1.0   \n",
              "23164        31.0       23.0      42.0            15.0             9.0   \n",
              "...           ...        ...       ...             ...             ...   \n",
              "8306         33.0       19.0      10.0             8.0             7.0   \n",
              "20688        26.0        8.0       6.0             0.0             0.0   \n",
              "20724        24.0       17.0      10.0            11.0             9.0   \n",
              "23179        29.0       14.0       8.0             7.0             5.0   \n",
              "4153         30.0       12.0      10.0             5.0             6.0   \n",
              "\n",
              "       blocked_home  pts_perc_last_szn_home  L10_pts_perc_home  \\\n",
              "1512           10.0                0.622222               1.00   \n",
              "8816           12.0                0.506098               0.45   \n",
              "18494          21.0                0.487805               0.50   \n",
              "17516          14.0                0.596591               0.55   \n",
              "23164          16.0                0.475610               0.45   \n",
              "...             ...                     ...                ...   \n",
              "8306           13.0                0.579268               0.50   \n",
              "20688           0.0                0.603659               0.60   \n",
              "20724          17.0                0.603659               0.45   \n",
              "23179           9.0                0.475610               0.55   \n",
              "4153            9.0                0.634146               0.25   \n",
              "\n",
              "       rolling_pts%_home  gametime_unix  ...  hits_away  pim_away  \\\n",
              "1512            0.785714   1.572998e+09  ...       27.0       4.0   \n",
              "8816            0.375000   1.421453e+09  ...       30.0       6.0   \n",
              "18494           0.450820   1.582340e+09  ...       28.0       4.0   \n",
              "17516           0.486842   1.451358e+09  ...       14.0      22.0   \n",
              "23164           0.464286   1.478653e+09  ...       18.0      52.0   \n",
              "...                  ...            ...  ...        ...       ...   \n",
              "8306            0.517857   9.823680e+08  ...       18.0      24.0   \n",
              "20688           0.000000   1.034303e+09  ...        2.0      14.0   \n",
              "20724           0.453333   1.048390e+09  ...       10.0       8.0   \n",
              "23179           0.489796   1.485029e+09  ...       15.0      10.0   \n",
              "4153            0.470149   1.142554e+09  ...       14.0      16.0   \n",
              "\n",
              "       giveaways_away  takeaways_away  blocked_away  pts_perc_last_szn_away  \\\n",
              "1512             14.0             6.0          16.0                0.390244   \n",
              "8816             15.0            11.0          14.0                0.506098   \n",
              "18494            10.0             4.0           9.0                0.553191   \n",
              "17516             3.0             7.0          10.0                0.579268   \n",
              "23164            10.0             5.0          19.0                0.657895   \n",
              "...               ...             ...           ...                     ...   \n",
              "8306              5.0             4.0          14.0                0.536585   \n",
              "20688             0.0             0.0           0.0                0.707317   \n",
              "20724            11.0             4.0           8.0                0.420732   \n",
              "23179             8.0             6.0          11.0                0.632353   \n",
              "4153              5.0             4.0           9.0                0.621951   \n",
              "\n",
              "       L10_pts_perc_away  rolling_pts%_away  coach_pts%_away  winner  \n",
              "1512                0.35           0.321429         0.142857       0  \n",
              "8816                0.55           0.616279         0.290698       1  \n",
              "18494               0.75           0.641667         0.226852       1  \n",
              "17516               0.65           0.657143         0.270175       1  \n",
              "23164               0.35           0.423077         0.253322       0  \n",
              "...                  ...                ...              ...     ...  \n",
              "8306                0.50           0.586207         0.232759       1  \n",
              "20688               0.60           1.000000         0.216867       1  \n",
              "20724               0.70           0.571429         0.272335       1  \n",
              "23179               0.40           0.542553         0.279887       0  \n",
              "4153                0.85           0.723077         0.338462       0  \n",
              "\n",
              "[4744 rows x 22 columns]"
            ],
            "text/html": [
              "\n",
              "  <div id=\"df-0a074812-a4c7-4810-a628-86f4f25eb85c\">\n",
              "    <div class=\"colab-df-container\">\n",
              "      <div>\n",
              "<style scoped>\n",
              "    .dataframe tbody tr th:only-of-type {\n",
              "        vertical-align: middle;\n",
              "    }\n",
              "\n",
              "    .dataframe tbody tr th {\n",
              "        vertical-align: top;\n",
              "    }\n",
              "\n",
              "    .dataframe thead th {\n",
              "        text-align: right;\n",
              "    }\n",
              "</style>\n",
              "<table border=\"1\" class=\"dataframe\">\n",
              "  <thead>\n",
              "    <tr style=\"text-align: right;\">\n",
              "      <th></th>\n",
              "      <th>shots_home</th>\n",
              "      <th>hits_home</th>\n",
              "      <th>pim_home</th>\n",
              "      <th>giveaways_home</th>\n",
              "      <th>takeaways_home</th>\n",
              "      <th>blocked_home</th>\n",
              "      <th>pts_perc_last_szn_home</th>\n",
              "      <th>L10_pts_perc_home</th>\n",
              "      <th>rolling_pts%_home</th>\n",
              "      <th>gametime_unix</th>\n",
              "      <th>...</th>\n",
              "      <th>hits_away</th>\n",
              "      <th>pim_away</th>\n",
              "      <th>giveaways_away</th>\n",
              "      <th>takeaways_away</th>\n",
              "      <th>blocked_away</th>\n",
              "      <th>pts_perc_last_szn_away</th>\n",
              "      <th>L10_pts_perc_away</th>\n",
              "      <th>rolling_pts%_away</th>\n",
              "      <th>coach_pts%_away</th>\n",
              "      <th>winner</th>\n",
              "    </tr>\n",
              "  </thead>\n",
              "  <tbody>\n",
              "    <tr>\n",
              "      <th>1512</th>\n",
              "      <td>32.0</td>\n",
              "      <td>27.0</td>\n",
              "      <td>18.0</td>\n",
              "      <td>16.0</td>\n",
              "      <td>6.0</td>\n",
              "      <td>10.0</td>\n",
              "      <td>0.622222</td>\n",
              "      <td>1.00</td>\n",
              "      <td>0.785714</td>\n",
              "      <td>1.572998e+09</td>\n",
              "      <td>...</td>\n",
              "      <td>27.0</td>\n",
              "      <td>4.0</td>\n",
              "      <td>14.0</td>\n",
              "      <td>6.0</td>\n",
              "      <td>16.0</td>\n",
              "      <td>0.390244</td>\n",
              "      <td>0.35</td>\n",
              "      <td>0.321429</td>\n",
              "      <td>0.142857</td>\n",
              "      <td>0</td>\n",
              "    </tr>\n",
              "    <tr>\n",
              "      <th>8816</th>\n",
              "      <td>28.0</td>\n",
              "      <td>22.0</td>\n",
              "      <td>4.0</td>\n",
              "      <td>17.0</td>\n",
              "      <td>9.0</td>\n",
              "      <td>12.0</td>\n",
              "      <td>0.506098</td>\n",
              "      <td>0.45</td>\n",
              "      <td>0.375000</td>\n",
              "      <td>1.421453e+09</td>\n",
              "      <td>...</td>\n",
              "      <td>30.0</td>\n",
              "      <td>6.0</td>\n",
              "      <td>15.0</td>\n",
              "      <td>11.0</td>\n",
              "      <td>14.0</td>\n",
              "      <td>0.506098</td>\n",
              "      <td>0.55</td>\n",
              "      <td>0.616279</td>\n",
              "      <td>0.290698</td>\n",
              "      <td>1</td>\n",
              "    </tr>\n",
              "    <tr>\n",
              "      <th>18494</th>\n",
              "      <td>26.0</td>\n",
              "      <td>31.0</td>\n",
              "      <td>2.0</td>\n",
              "      <td>13.0</td>\n",
              "      <td>5.0</td>\n",
              "      <td>21.0</td>\n",
              "      <td>0.487805</td>\n",
              "      <td>0.50</td>\n",
              "      <td>0.450820</td>\n",
              "      <td>1.582340e+09</td>\n",
              "      <td>...</td>\n",
              "      <td>28.0</td>\n",
              "      <td>4.0</td>\n",
              "      <td>10.0</td>\n",
              "      <td>4.0</td>\n",
              "      <td>9.0</td>\n",
              "      <td>0.553191</td>\n",
              "      <td>0.75</td>\n",
              "      <td>0.641667</td>\n",
              "      <td>0.226852</td>\n",
              "      <td>1</td>\n",
              "    </tr>\n",
              "    <tr>\n",
              "      <th>17516</th>\n",
              "      <td>27.0</td>\n",
              "      <td>15.0</td>\n",
              "      <td>20.0</td>\n",
              "      <td>8.0</td>\n",
              "      <td>1.0</td>\n",
              "      <td>14.0</td>\n",
              "      <td>0.596591</td>\n",
              "      <td>0.55</td>\n",
              "      <td>0.486842</td>\n",
              "      <td>1.451358e+09</td>\n",
              "      <td>...</td>\n",
              "      <td>14.0</td>\n",
              "      <td>22.0</td>\n",
              "      <td>3.0</td>\n",
              "      <td>7.0</td>\n",
              "      <td>10.0</td>\n",
              "      <td>0.579268</td>\n",
              "      <td>0.65</td>\n",
              "      <td>0.657143</td>\n",
              "      <td>0.270175</td>\n",
              "      <td>1</td>\n",
              "    </tr>\n",
              "    <tr>\n",
              "      <th>23164</th>\n",
              "      <td>31.0</td>\n",
              "      <td>23.0</td>\n",
              "      <td>42.0</td>\n",
              "      <td>15.0</td>\n",
              "      <td>9.0</td>\n",
              "      <td>16.0</td>\n",
              "      <td>0.475610</td>\n",
              "      <td>0.45</td>\n",
              "      <td>0.464286</td>\n",
              "      <td>1.478653e+09</td>\n",
              "      <td>...</td>\n",
              "      <td>18.0</td>\n",
              "      <td>52.0</td>\n",
              "      <td>10.0</td>\n",
              "      <td>5.0</td>\n",
              "      <td>19.0</td>\n",
              "      <td>0.657895</td>\n",
              "      <td>0.35</td>\n",
              "      <td>0.423077</td>\n",
              "      <td>0.253322</td>\n",
              "      <td>0</td>\n",
              "    </tr>\n",
              "    <tr>\n",
              "      <th>...</th>\n",
              "      <td>...</td>\n",
              "      <td>...</td>\n",
              "      <td>...</td>\n",
              "      <td>...</td>\n",
              "      <td>...</td>\n",
              "      <td>...</td>\n",
              "      <td>...</td>\n",
              "      <td>...</td>\n",
              "      <td>...</td>\n",
              "      <td>...</td>\n",
              "      <td>...</td>\n",
              "      <td>...</td>\n",
              "      <td>...</td>\n",
              "      <td>...</td>\n",
              "      <td>...</td>\n",
              "      <td>...</td>\n",
              "      <td>...</td>\n",
              "      <td>...</td>\n",
              "      <td>...</td>\n",
              "      <td>...</td>\n",
              "      <td>...</td>\n",
              "    </tr>\n",
              "    <tr>\n",
              "      <th>8306</th>\n",
              "      <td>33.0</td>\n",
              "      <td>19.0</td>\n",
              "      <td>10.0</td>\n",
              "      <td>8.0</td>\n",
              "      <td>7.0</td>\n",
              "      <td>13.0</td>\n",
              "      <td>0.579268</td>\n",
              "      <td>0.50</td>\n",
              "      <td>0.517857</td>\n",
              "      <td>9.823680e+08</td>\n",
              "      <td>...</td>\n",
              "      <td>18.0</td>\n",
              "      <td>24.0</td>\n",
              "      <td>5.0</td>\n",
              "      <td>4.0</td>\n",
              "      <td>14.0</td>\n",
              "      <td>0.536585</td>\n",
              "      <td>0.50</td>\n",
              "      <td>0.586207</td>\n",
              "      <td>0.232759</td>\n",
              "      <td>1</td>\n",
              "    </tr>\n",
              "    <tr>\n",
              "      <th>20688</th>\n",
              "      <td>26.0</td>\n",
              "      <td>8.0</td>\n",
              "      <td>6.0</td>\n",
              "      <td>0.0</td>\n",
              "      <td>0.0</td>\n",
              "      <td>0.0</td>\n",
              "      <td>0.603659</td>\n",
              "      <td>0.60</td>\n",
              "      <td>0.000000</td>\n",
              "      <td>1.034303e+09</td>\n",
              "      <td>...</td>\n",
              "      <td>2.0</td>\n",
              "      <td>14.0</td>\n",
              "      <td>0.0</td>\n",
              "      <td>0.0</td>\n",
              "      <td>0.0</td>\n",
              "      <td>0.707317</td>\n",
              "      <td>0.60</td>\n",
              "      <td>1.000000</td>\n",
              "      <td>0.216867</td>\n",
              "      <td>1</td>\n",
              "    </tr>\n",
              "    <tr>\n",
              "      <th>20724</th>\n",
              "      <td>24.0</td>\n",
              "      <td>17.0</td>\n",
              "      <td>10.0</td>\n",
              "      <td>11.0</td>\n",
              "      <td>9.0</td>\n",
              "      <td>17.0</td>\n",
              "      <td>0.603659</td>\n",
              "      <td>0.45</td>\n",
              "      <td>0.453333</td>\n",
              "      <td>1.048390e+09</td>\n",
              "      <td>...</td>\n",
              "      <td>10.0</td>\n",
              "      <td>8.0</td>\n",
              "      <td>11.0</td>\n",
              "      <td>4.0</td>\n",
              "      <td>8.0</td>\n",
              "      <td>0.420732</td>\n",
              "      <td>0.70</td>\n",
              "      <td>0.571429</td>\n",
              "      <td>0.272335</td>\n",
              "      <td>1</td>\n",
              "    </tr>\n",
              "    <tr>\n",
              "      <th>23179</th>\n",
              "      <td>29.0</td>\n",
              "      <td>14.0</td>\n",
              "      <td>8.0</td>\n",
              "      <td>7.0</td>\n",
              "      <td>5.0</td>\n",
              "      <td>9.0</td>\n",
              "      <td>0.475610</td>\n",
              "      <td>0.55</td>\n",
              "      <td>0.489796</td>\n",
              "      <td>1.485029e+09</td>\n",
              "      <td>...</td>\n",
              "      <td>15.0</td>\n",
              "      <td>10.0</td>\n",
              "      <td>8.0</td>\n",
              "      <td>6.0</td>\n",
              "      <td>11.0</td>\n",
              "      <td>0.632353</td>\n",
              "      <td>0.40</td>\n",
              "      <td>0.542553</td>\n",
              "      <td>0.279887</td>\n",
              "      <td>0</td>\n",
              "    </tr>\n",
              "    <tr>\n",
              "      <th>4153</th>\n",
              "      <td>30.0</td>\n",
              "      <td>12.0</td>\n",
              "      <td>10.0</td>\n",
              "      <td>5.0</td>\n",
              "      <td>6.0</td>\n",
              "      <td>9.0</td>\n",
              "      <td>0.634146</td>\n",
              "      <td>0.25</td>\n",
              "      <td>0.470149</td>\n",
              "      <td>1.142554e+09</td>\n",
              "      <td>...</td>\n",
              "      <td>14.0</td>\n",
              "      <td>16.0</td>\n",
              "      <td>5.0</td>\n",
              "      <td>4.0</td>\n",
              "      <td>9.0</td>\n",
              "      <td>0.621951</td>\n",
              "      <td>0.85</td>\n",
              "      <td>0.723077</td>\n",
              "      <td>0.338462</td>\n",
              "      <td>0</td>\n",
              "    </tr>\n",
              "  </tbody>\n",
              "</table>\n",
              "<p>4744 rows × 22 columns</p>\n",
              "</div>\n",
              "      <button class=\"colab-df-convert\" onclick=\"convertToInteractive('df-0a074812-a4c7-4810-a628-86f4f25eb85c')\"\n",
              "              title=\"Convert this dataframe to an interactive table.\"\n",
              "              style=\"display:none;\">\n",
              "        \n",
              "  <svg xmlns=\"http://www.w3.org/2000/svg\" height=\"24px\"viewBox=\"0 0 24 24\"\n",
              "       width=\"24px\">\n",
              "    <path d=\"M0 0h24v24H0V0z\" fill=\"none\"/>\n",
              "    <path d=\"M18.56 5.44l.94 2.06.94-2.06 2.06-.94-2.06-.94-.94-2.06-.94 2.06-2.06.94zm-11 1L8.5 8.5l.94-2.06 2.06-.94-2.06-.94L8.5 2.5l-.94 2.06-2.06.94zm10 10l.94 2.06.94-2.06 2.06-.94-2.06-.94-.94-2.06-.94 2.06-2.06.94z\"/><path d=\"M17.41 7.96l-1.37-1.37c-.4-.4-.92-.59-1.43-.59-.52 0-1.04.2-1.43.59L10.3 9.45l-7.72 7.72c-.78.78-.78 2.05 0 2.83L4 21.41c.39.39.9.59 1.41.59.51 0 1.02-.2 1.41-.59l7.78-7.78 2.81-2.81c.8-.78.8-2.07 0-2.86zM5.41 20L4 18.59l7.72-7.72 1.47 1.35L5.41 20z\"/>\n",
              "  </svg>\n",
              "      </button>\n",
              "      \n",
              "  <style>\n",
              "    .colab-df-container {\n",
              "      display:flex;\n",
              "      flex-wrap:wrap;\n",
              "      gap: 12px;\n",
              "    }\n",
              "\n",
              "    .colab-df-convert {\n",
              "      background-color: #E8F0FE;\n",
              "      border: none;\n",
              "      border-radius: 50%;\n",
              "      cursor: pointer;\n",
              "      display: none;\n",
              "      fill: #1967D2;\n",
              "      height: 32px;\n",
              "      padding: 0 0 0 0;\n",
              "      width: 32px;\n",
              "    }\n",
              "\n",
              "    .colab-df-convert:hover {\n",
              "      background-color: #E2EBFA;\n",
              "      box-shadow: 0px 1px 2px rgba(60, 64, 67, 0.3), 0px 1px 3px 1px rgba(60, 64, 67, 0.15);\n",
              "      fill: #174EA6;\n",
              "    }\n",
              "\n",
              "    [theme=dark] .colab-df-convert {\n",
              "      background-color: #3B4455;\n",
              "      fill: #D2E3FC;\n",
              "    }\n",
              "\n",
              "    [theme=dark] .colab-df-convert:hover {\n",
              "      background-color: #434B5C;\n",
              "      box-shadow: 0px 1px 3px 1px rgba(0, 0, 0, 0.15);\n",
              "      filter: drop-shadow(0px 1px 2px rgba(0, 0, 0, 0.3));\n",
              "      fill: #FFFFFF;\n",
              "    }\n",
              "  </style>\n",
              "\n",
              "      <script>\n",
              "        const buttonEl =\n",
              "          document.querySelector('#df-0a074812-a4c7-4810-a628-86f4f25eb85c button.colab-df-convert');\n",
              "        buttonEl.style.display =\n",
              "          google.colab.kernel.accessAllowed ? 'block' : 'none';\n",
              "\n",
              "        async function convertToInteractive(key) {\n",
              "          const element = document.querySelector('#df-0a074812-a4c7-4810-a628-86f4f25eb85c');\n",
              "          const dataTable =\n",
              "            await google.colab.kernel.invokeFunction('convertToInteractive',\n",
              "                                                     [key], {});\n",
              "          if (!dataTable) return;\n",
              "\n",
              "          const docLinkHtml = 'Like what you see? Visit the ' +\n",
              "            '<a target=\"_blank\" href=https://colab.research.google.com/notebooks/data_table.ipynb>data table notebook</a>'\n",
              "            + ' to learn more about interactive tables.';\n",
              "          element.innerHTML = '';\n",
              "          dataTable['output_type'] = 'display_data';\n",
              "          await google.colab.output.renderOutput(dataTable, element);\n",
              "          const docLink = document.createElement('div');\n",
              "          docLink.innerHTML = docLinkHtml;\n",
              "          element.appendChild(docLink);\n",
              "        }\n",
              "      </script>\n",
              "    </div>\n",
              "  </div>\n",
              "  "
            ]
          },
          "metadata": {},
          "execution_count": 33
        }
      ]
    },
    {
      "cell_type": "markdown",
      "metadata": {
        "id": "cxU8hxNEWICr"
      },
      "source": [
        "## Split Features and Target"
      ]
    },
    {
      "cell_type": "code",
      "execution_count": 34,
      "metadata": {
        "id": "1H1Lp3WOWKAy"
      },
      "outputs": [],
      "source": [
        "# Get the feature matrix\n",
        "X_train = df_train[np.setdiff1d(df_train.columns, [target])].values\n",
        "X_val = df_val[np.setdiff1d(df_val.columns, [target])].values\n",
        "X_test = df_test[np.setdiff1d(df_test.columns, [target])].values\n",
        "\n",
        "# Get the target vector\n",
        "y_train = df_train[target].values\n",
        "y_val = df_val[target].values\n",
        "y_test = df_test[target].values"
      ]
    },
    {
      "cell_type": "markdown",
      "metadata": {
        "id": "yCahqFH9WL02"
      },
      "source": [
        "## Scale"
      ]
    },
    {
      "cell_type": "code",
      "execution_count": 35,
      "metadata": {
        "id": "uZIz29UyWNJ-"
      },
      "outputs": [],
      "source": [
        "from sklearn.preprocessing import StandardScaler\n",
        "\n",
        "# The StandardScaler\n",
        "ss = StandardScaler()"
      ]
    },
    {
      "cell_type": "code",
      "execution_count": 36,
      "metadata": {
        "id": "F4sdnBDyWQY3"
      },
      "outputs": [],
      "source": [
        "# Standardize the training data\n",
        "X_train = ss.fit_transform(X_train)\n",
        "\n",
        "# Standardize the validation data\n",
        "X_val = ss.transform(X_val)\n",
        "\n",
        "# Standardize the test data\n",
        "X_test = ss.transform(X_test)"
      ]
    },
    {
      "cell_type": "markdown",
      "metadata": {
        "id": "2UxMGWwGnBez"
      },
      "source": [
        "# EDA\n",
        "In order to display our data cleanly, we used the split version of our DataFrame with 2 entries per game. The version of dataframe we used for visualization was saved before any scaling or imputing, so the features are in their correct format with no synthetic data."
      ]
    },
    {
      "cell_type": "code",
      "execution_count": 37,
      "metadata": {
        "id": "ou2Zn74Op0Q0"
      },
      "outputs": [],
      "source": [
        "import seaborn as sns\n",
        "sns.set()\n",
        "edadf = edadf.reset_index()"
      ]
    },
    {
      "cell_type": "code",
      "execution_count": 38,
      "metadata": {
        "id": "36vPXa6qnjbV",
        "colab": {
          "base_uri": "https://localhost:8080/",
          "height": 745
        },
        "outputId": "20f54d8d-37b2-484e-e0ca-3f5258350fd9"
      },
      "outputs": [
        {
          "output_type": "display_data",
          "data": {
            "text/plain": [
              "<Figure size 1080x720 with 12 Axes>"
            ],
            "image/png": "[encoded data removed]"
          },
          "metadata": {}
        }
      ],
      "source": [
        "import matplotlib.pyplot as plt\n",
        "\n",
        "hist_features = ['shots', 'hits', 'pim', 'powerPlayOpportunities',\n",
        "       'faceOffWinPercentage', 'giveaways', 'takeaways', 'blocked',\n",
        "       'pts_perc_last_szn', 'L10_pts_perc', 'rolling_pts%',\n",
        "       'coach_pts%']\n",
        "\n",
        "hist_features_pretty = ['Shots', 'Hits', 'PIM', 'Power Play Opportunities', 'Face Off Win %',\n",
        "                        'Giveaways', 'Takeaways', 'Blocked Shots', 'Last Season Points %', 'Last 10 Games Points %', \n",
        "                        'Current Season Rolling Points %', 'Head Coach Rolling Points %']\n",
        "\n",
        "nrows, ncols = 3, 4\n",
        "fig, axes = plt.subplots(ncols = ncols, nrows = nrows, figsize = (15,10), constrained_layout = True)\n",
        "count = 0\n",
        "for row in axes:\n",
        "  for ax in row:\n",
        "    sns.histplot(data = edadf, x = hist_features[count], ax = ax, kde = True, bins = 10, kde_kws = {'bw_adjust':2}, color = '#041E42')\n",
        "    ax.lines[0].set_color('#C8102E')\n",
        "    ax.set_xlabel(hist_features_pretty[count])\n",
        "    count += 1\n",
        "\n",
        "t = fig.suptitle('Numerical Variable Distributions')"
      ]
    },
    {
      "cell_type": "markdown",
      "metadata": {
        "id": "cPoue6sxKFzM"
      },
      "source": [
        "This plot highlights the normal structure of all the numeric features in our data set, an encouraging aspect of our data going into the model training."
      ]
    },
    {
      "cell_type": "code",
      "execution_count": 39,
      "metadata": {
        "id": "osI-nlW4t422",
        "colab": {
          "base_uri": "https://localhost:8080/",
          "height": 393
        },
        "outputId": "89f689bc-386d-459a-bb3d-4e55e23e01b2"
      },
      "outputs": [
        {
          "output_type": "display_data",
          "data": {
            "text/plain": [
              "<Figure size 576x432 with 1 Axes>"
            ],
            "image/png": "[encoded data removed]"
          },
          "metadata": {}
        }
      ],
      "source": [
        "games_won = edadf[edadf.won == 1]\n",
        "games_won['home'] = games_won['home'].apply(lambda x: 'Home' if x == 1 else 'Away')\n",
        "\n",
        "fig, ax = plt.subplots(nrows = 1, ncols = 1, figsize = (8,6))\n",
        "\n",
        "g = sns.countplot(data = games_won, x = 'home', palette = {'Home': '#041E42', 'Away': '#C8102E'}, ax = ax, saturation = 0.7)\n",
        "g.axes.set_title('Number of Games Won At Home vs Away')\n",
        "t = g.axes.set_xlabel('')\n",
        "t = g.axes.set_ylabel('Win Count')\n",
        "a = g.axes.set_ylim((10000, 13000))"
      ]
    },
    {
      "cell_type": "markdown",
      "metadata": {
        "id": "6TcxS6SzKYAd"
      },
      "source": [
        "Being the \"Home Team\" is commonly considered an advantage across sports and is one of the reason why some championship games (The SuperBowl for example) are held in a thrid city separate from the two competing teams. This plot demonstrates that this is in fact a valid finding and suggests that the \"Home\" feature could be important to a model attempting to predict an outcome."
      ]
    },
    {
      "cell_type": "code",
      "execution_count": 40,
      "metadata": {
        "id": "M1NlKiVqwH4M",
        "colab": {
          "base_uri": "https://localhost:8080/",
          "height": 518
        },
        "outputId": "26dcd2d2-a7b6-414a-86f9-37c1f7bd9b12"
      },
      "outputs": [
        {
          "output_type": "display_data",
          "data": {
            "text/plain": [
              "<Figure size 720x576 with 1 Axes>"
            ],
            "image/png": "[encoded data removed]"
          },
          "metadata": {}
        }
      ],
      "source": [
        "team_palette = {\n",
        "    'Predators':'#FFB81C',\n",
        "    'Lightning': '#002868',\n",
        "    'Jets': '#8E9090',\n",
        "    'Golden Knights': '#B4975A',\n",
        "    'Capitals': '#C8102E',\n",
        "    'Bruins': '#FFB81C',\n",
        "    'Maple Leafs': '#00205B'\n",
        "}\n",
        "edge_palette = {\n",
        "    'Predators':'#041E42',\n",
        "    'Lightning': '#FFFFFF',\n",
        "    'Jets': '#041E42',\n",
        "    'Golden Knights': '#333F42',\n",
        "    'Capitals': '#041E42',\n",
        "    'Bruins': '#000000',\n",
        "    'Maple Leafs': '#FFFFFF'\n",
        "}\n",
        "season_17 = edadf[edadf.season_num == 17]\n",
        "last_szn = season_17.groupby('team_id').mean().reset_index()[['team_id', 'pts_perc_last_szn']]\n",
        "top_7 = last_szn.merge(team_info, on = 'team_id').sort_values(by = 'pts_perc_last_szn', ascending = False)[:7]\n",
        "\n",
        "fig, ax = plt.subplots(nrows = 1, ncols = 1, figsize = (10,8))\n",
        "g = sns.barplot(data = top_7, y = 'teamName', x = 'pts_perc_last_szn', palette = team_palette, linewidth = 2.5, saturation=0.7, ax = ax)\n",
        "\n",
        "for team, patch in zip(edge_palette.keys(), g.axes.patches):\n",
        "  patch.set_edgecolor(edge_palette[team])\n",
        "\n",
        "g.axes.set_xlim((0.6, 0.7))\n",
        "g.axes.set_title('Top 7 Points % of the 2017-2018 Season')\n",
        "g.axes.set_xlabel('Points %')\n",
        "t = g.axes.set_ylabel('Team Name')"
      ]
    },
    {
      "cell_type": "markdown",
      "metadata": {
        "id": "TkfFF67_zpIG"
      },
      "source": [
        "This visualization highlights one of our most important features, points percentage. We have points percentage being used in 4 different features: \n",
        "1. points percentage of the previous season\n",
        "2. rolling points percentage of the current season\n",
        "3. points percentage of the last 10 games\n",
        "4. rolling points percentage of the head coach\n",
        "\n",
        "What's important to note about this feature is that it is by no means a perfect predictor of success. The highest points percentage of the 2017-2018 season belonged to the Nashville Predators, however they were eliminated during the second round of the playoffs. The Stanley Cup finals were between the Washington Capitals and the Vegas Golden Knights with the Capitals winning.\n",
        "\n",
        "This can be explained by game schedules differing depending on a team's confrence, as well as mid season trades, injuries, 'Puck Luck', and any number of factors that make sports so interesting to watch."
      ]
    },
    {
      "cell_type": "code",
      "execution_count": 41,
      "metadata": {
        "id": "qUYWvWN_Le72",
        "colab": {
          "base_uri": "https://localhost:8080/",
          "height": 877
        },
        "outputId": "f3d3dde6-8acc-41b1-a951-ae6685a8bd85"
      },
      "outputs": [
        {
          "output_type": "display_data",
          "data": {
            "text/plain": [
              "<Figure size 1440x1080 with 12 Axes>"
            ],
            "image/png": "[encoded data removed]"
          },
          "metadata": {}
        }
      ],
      "source": [
        "meltvars = ['won','shots', 'hits', 'pim', 'powerPlayOpportunities',\n",
        "       'faceOffWinPercentage', 'giveaways', 'takeaways', 'blocked',\n",
        "       'pts_perc_last_szn', 'L10_pts_perc', 'rolling_pts%',\n",
        "       'coach_pts%']\n",
        "\n",
        "vars_pretty = ['Shots', 'Hits', 'PIM', 'Power Play Opportunities',\n",
        "       'Face Off Win %', 'Giveaways', 'Takeaways', 'Blocked',\n",
        "       'Points % Last Season', 'Points % Last 10 Games', 'Rolling Points %',\n",
        "       'Head Coach Rolling Points %']\n",
        "\n",
        "melted = edadf[meltvars].melt(id_vars = ['won'])\n",
        "melted['won'] = melted['won'].apply(lambda x: \"Won\" if x == 1 else \"Lost\")\n",
        "pal = {\n",
        "    'Won': '#041E42',\n",
        "    'Lost': '#C8102E'\n",
        "}\n",
        "g = sns.catplot(data = melted, col = 'variable', y = 'value', x = 'won', kind = 'bar', col_wrap = 4, sharey = False, palette = pal, legend = True)\n",
        "g.set_xlabels('')\n",
        "count = 0\n",
        "for ax in g.axes:\n",
        "  ax.set_title(vars_pretty[count])\n",
        "  ylim = ax.get_ylim()\n",
        "  ax.set_ylim((ylim[1]*0.7, ylim[1]))\n",
        "  ax.tick_params(labelbottom = True)\n",
        "  count += 1\n",
        "\n",
        "g.figure.set(constrained_layout = True)\n",
        "t = g.figure.suptitle('Numeric Features Win vs Loss')\n",
        "t.set_y(1.02)\n",
        "plt.tight_layout()"
      ]
    },
    {
      "cell_type": "markdown",
      "metadata": {
        "id": "eptC2bdeWXl3"
      },
      "source": [
        "It's evident from this plot that a number of our numeric features do separate between game outcomes. Takeaways, blocked shots, the points percentage of the last 10 games, and the rolling points percentage seem to have the most differences between wins and losses, suggesting that these features could be important for a model."
      ]
    },
    {
      "cell_type": "markdown",
      "metadata": {
        "id": "1RYCaKJSWxGj"
      },
      "source": [
        "# Training\n",
        "\n",
        "Our training will consist of a large gridsearch for four models: logistic regression, MLP classifier, random forest classifier, and histogram-based gradient boosting classifer. We will create the four models and iterate through hyperparameters to find the best model. We will then use this best model in our analysis."
      ]
    },
    {
      "cell_type": "markdown",
      "metadata": {
        "id": "jYCH8GB-e31z"
      },
      "source": [
        "## Creating the dictionary of the models\n",
        "- In the dictionary:\n",
        "    - the key is the acronym of the model\n",
        "    - the value is the model"
      ]
    },
    {
      "cell_type": "code",
      "execution_count": 42,
      "metadata": {
        "id": "T5h3IQo9e31z"
      },
      "outputs": [],
      "source": [
        "from sklearn.linear_model import LogisticRegression\n",
        "from sklearn.neural_network import MLPClassifier\n",
        "from sklearn.ensemble import RandomForestClassifier\n",
        "from sklearn.experimental import enable_hist_gradient_boosting\n",
        "from sklearn.ensemble import HistGradientBoostingClassifier\n",
        "\n",
        "models = {'lr': LogisticRegression(class_weight='balanced', random_state=random_seed),\n",
        "          'mlpc': MLPClassifier(early_stopping=True, random_state=random_seed),\n",
        "          'rfc': RandomForestClassifier(class_weight='balanced', random_state=random_seed),\n",
        "          'hgbc': HistGradientBoostingClassifier(random_state=random_seed)}"
      ]
    },
    {
      "cell_type": "markdown",
      "metadata": {
        "id": "Ju9FdEVce310"
      },
      "source": [
        "## Creating the dictionary of the pipelines\n",
        "In the dictionary:\n",
        "- the key is the acronym of the model\n",
        "- the value is the pipeline, which, for now, only includes the model"
      ]
    },
    {
      "cell_type": "code",
      "execution_count": 43,
      "metadata": {
        "id": "zc-L-914e310"
      },
      "outputs": [],
      "source": [
        "from sklearn.pipeline import Pipeline\n",
        "\n",
        "pipes = {}\n",
        "\n",
        "for acronym, model in models.items():\n",
        "    pipes[acronym] = Pipeline([('model', model)])"
      ]
    },
    {
      "cell_type": "markdown",
      "metadata": {
        "id": "BgkFbGGKe311"
      },
      "source": [
        "## Getting the predefined split cross-validator\n",
        "\n",
        "Since we literally only use one utilities function, we can probably just create it here."
      ]
    },
    {
      "cell_type": "code",
      "execution_count": 44,
      "metadata": {
        "id": "6FAACb8ke311",
        "scrolled": true
      },
      "outputs": [],
      "source": [
        "X_train_val, y_train_val, ps = get_train_val_ps(X_train, y_train, X_val, y_val)"
      ]
    },
    {
      "cell_type": "markdown",
      "metadata": {
        "id": "I3rZoMqZe312"
      },
      "source": [
        "## GridSearchCV"
      ]
    },
    {
      "cell_type": "markdown",
      "metadata": {
        "id": "E08xqUQve313"
      },
      "source": [
        "### Creating the dictionary of the parameter grids\n",
        "- In the dictionary:\n",
        "    - the key is the acronym of the model\n",
        "    - the value is the parameter grid of the model"
      ]
    },
    {
      "cell_type": "code",
      "execution_count": 45,
      "metadata": {
        "id": "p3OWujL3e313"
      },
      "outputs": [],
      "source": [
        "param_grids = {}"
      ]
    },
    {
      "cell_type": "markdown",
      "metadata": {
        "id": "9EyKhepjmV6P"
      },
      "source": [
        "#### The parameter grid for LogisticRegression\n",
        "- The hyperparameters we want to fine-tune are:\n",
        "    - tol\n",
        "    - C\n",
        "    - max_iter\n",
        "- See details of the meaning of the hyperparametes in [sklearn.linear_model.LogisticRegression](https://scikit-learn.org/stable/modules/generated/sklearn.linear_model.LogisticRegression.html)"
      ]
    },
    {
      "cell_type": "code",
      "execution_count": 46,
      "metadata": {
        "id": "i2Mv1rffnJpN"
      },
      "outputs": [],
      "source": [
        "# The parameter grid of tol\n",
        "tol_grid = [10 ** i for i in range(-14, -1)]\n",
        "\n",
        "# The parameter grid of C\n",
        "C_grid = [0.01, 0.1, 0.5, 1, 5,  10, 50]\n",
        "\n",
        "# The param grid of max iterations\n",
        "max_iter_grid = [100, 500, 1000]\n",
        "\n",
        "# Update param_grids\n",
        "param_grids['lr'] = [{'model__tol': tol_grid,\n",
        "                      'model__C': C_grid,\n",
        "                      'model__max_iter': max_iter_grid }]"
      ]
    },
    {
      "cell_type": "markdown",
      "metadata": {
        "id": "bco06XPK4APO"
      },
      "source": [
        "#### The parameter grid for MLPClassifier\n",
        "- The hyperparameters we want to fine-tune are:\n",
        "    - alpha\n",
        "    - learning_rate_init\n",
        "    - early_stopping\n",
        "\n",
        "- See details of the meaning of the hyperparametes in [sklearn.neural_network.MLPClassifier](https://scikit-learn.org/stable/modules/generated/sklearn.neural_network.MLPClassifier.html)"
      ]
    },
    {
      "cell_type": "code",
      "execution_count": 47,
      "metadata": {
        "id": "bEuags7e4APO"
      },
      "outputs": [],
      "source": [
        "# The grids for alpha\n",
        "alpha_grids = [10 ** i for i in range(-6, -2)]\n",
        "\n",
        "# The grids for learning_rate_init\n",
        "learning_rate_init_grids = [10 ** i for i in range(-5, -1)]\n",
        "\n",
        "# early_stopping grid\n",
        "early_stopping_grids = [True, False]\n",
        "\n",
        "# Update param_grids\n",
        "param_grids['mlpc'] = [{'model__alpha': alpha_grids,\n",
        "                        #'model__learning_rate': learning_rate_grids,\n",
        "                        'model__learning_rate_init': learning_rate_init_grids,\n",
        "                        #'model__tol': tol_grid,\n",
        "                        #'model__max_iter': max_iter_grid,\n",
        "                        'model__early_stopping':early_stopping_grids}]"
      ]
    },
    {
      "cell_type": "markdown",
      "metadata": {
        "id": "T6Synl8u9cC8"
      },
      "source": [
        "#### The parameter grid for random forest\n",
        "- The hyperparameters we want to fine-tune are:\n",
        "    - min_samples_split\n",
        "    - min_samples_leaf\n",
        "    - max_depth\n",
        "    - max_features\n",
        "    - max_leaf_nodes\n",
        "\n",
        "- See details of the meaning of the hyperparametes in [sklearn.ensemble.RandomForestClassifier](https://scikit-learn.org/stable/modules/generated/sklearn.ensemble.RandomForestClassifier.html)"
      ]
    },
    {
      "cell_type": "code",
      "execution_count": 48,
      "metadata": {
        "id": "2pIhWeST9cC8"
      },
      "outputs": [],
      "source": [
        "# The grids for min_samples_split\n",
        "min_samples_split_grids = [2, 20, 100]\n",
        "\n",
        "# The grids for min_samples_leaf\n",
        "min_samples_leaf_grids = [1, 20, 100]\n",
        "\n",
        "# max_depth grid\n",
        "max_depth_grids = [10, 20, None]\n",
        "\n",
        "#max_features grid\n",
        "max_features_grids = ['auto', 'sqrt', 'log2']\n",
        "\n",
        "#max_leaf_nodes grid\n",
        "max_leaf_nodes_grids = [20, None]\n",
        "\n",
        "# Update param_grids\n",
        "param_grids['rfc'] = [{'model__min_samples_split': min_samples_split_grids,\n",
        "                       'model__min_samples_leaf': min_samples_leaf_grids,\n",
        "                       'model__max_depth': max_depth_grids,\n",
        "                       'model__max_features': max_features_grids,\n",
        "                       'model__max_leaf_nodes': max_leaf_nodes_grids}]"
      ]
    },
    {
      "cell_type": "markdown",
      "metadata": {
        "id": "dmuPjEKN9cC-"
      },
      "source": [
        "#### The parameter grid for histogram-based gradient boosting\n",
        "- The hyperparameters we want to fine-tune are:\n",
        "  - learning_rate\n",
        "  - min_samples_leaf\n",
        "  - max_iter\n",
        "  - max_depth\n",
        "  - tol\n",
        "\n",
        "- See details of the meaning of the hyperparametes in [sklearn.ensemble.HistGradientBoostingClassifier](https://scikit-learn.org/stable/modules/generated/sklearn.ensemble.HistGradientBoostingClassifier.html)"
      ]
    },
    {
      "cell_type": "code",
      "execution_count": 49,
      "metadata": {
        "id": "FAj6ezza9cC-"
      },
      "outputs": [],
      "source": [
        "# The grids for learning_rate\n",
        "learning_rate_grids = [10 ** i for i in range(-3, 1)]\n",
        "\n",
        "# The grids for min_samples_leaf\n",
        "min_samples_leaf_grids = [1, 20, 100]\n",
        "\n",
        "# The param grid of max iterations\n",
        "max_iter_grid = [200, 1000]\n",
        "\n",
        "# max_depth grid\n",
        "max_depth_grids = [10, 20, None]\n",
        "\n",
        "# The parameter grid of tol\n",
        "tol_grid = [10**-9, 10**-8, 10 ** -7]\n",
        "\n",
        "# Update param_grids\n",
        "param_grids['hgbc'] = [{'model__learning_rate': learning_rate_grids,\n",
        "                        'model__min_samples_leaf': min_samples_leaf_grids,\n",
        "                        'model__max_iter': max_iter_grid,\n",
        "                        'model__max_depth': max_depth_grids,\n",
        "                        'model__tol': tol_grid}]"
      ]
    },
    {
      "cell_type": "markdown",
      "metadata": {
        "id": "LRabeGs4WaHX"
      },
      "source": [
        "### Creating the directory for the cv results produced by GridSearchCV"
      ]
    },
    {
      "cell_type": "code",
      "execution_count": 50,
      "metadata": {
        "id": "uO7Yd15JWaHY"
      },
      "outputs": [],
      "source": [
        "# Make directory\n",
        "import os\n",
        "\n",
        "directory = os.path.dirname(os.getcwd() + '/results/')\n",
        "if not os.path.exists(directory):\n",
        "    os.makedirs(directory)"
      ]
    },
    {
      "cell_type": "markdown",
      "metadata": {
        "id": "sVIuo08Ze31-"
      },
      "source": [
        "### Tuning the hyperparameters\n",
        "The code below shows how to fine-tune the hyperparameters of the four models using sklearn GridSearchCV."
      ]
    },
    {
      "cell_type": "code",
      "execution_count": 51,
      "metadata": {
        "colab": {
          "base_uri": "https://localhost:8080/",
          "height": 314
        },
        "id": "DwA4WZlFe31-",
        "scrolled": true,
        "outputId": "0734433e-4960-44d3-d413-ae09ab52ba7e"
      },
      "outputs": [
        {
          "output_type": "stream",
          "name": "stdout",
          "text": [
            "Fitting 1 folds for each of 273 candidates, totalling 273 fits\n",
            "Done with model, time =  12.645457983016968\n",
            "Fitting 1 folds for each of 32 candidates, totalling 32 fits\n",
            "Done with model, time =  224.6226408481598\n",
            "Fitting 1 folds for each of 162 candidates, totalling 162 fits\n",
            "Done with model, time =  258.75353717803955\n",
            "Fitting 1 folds for each of 216 candidates, totalling 216 fits\n",
            "Done with model, time =  554.7111282348633\n"
          ]
        },
        {
          "output_type": "execute_result",
          "data": {
            "text/plain": [
              "   best_score                                         best_param  \\\n",
              "0    0.740421  {'model__C': 1, 'model__max_iter': 100, 'model...   \n",
              "1    0.737730  {'model__alpha': 0.001, 'model__early_stopping...   \n",
              "2    0.736773  {'model__learning_rate': 0.01, 'model__max_dep...   \n",
              "3    0.723489  {'model__max_depth': 20, 'model__max_features'...   \n",
              "\n",
              "                                      best_estimator  \n",
              "0  (LogisticRegression(C=1, class_weight='balance...  \n",
              "1  (MLPClassifier(alpha=0.001, learning_rate_init...  \n",
              "2  (HistGradientBoostingClassifier(learning_rate=...  \n",
              "3  ((DecisionTreeClassifier(max_depth=20, max_fea...  "
            ],
            "text/html": [
              "\n",
              "  <div id=\"df-550404b0-d75d-41b3-b0a1-c190681bcdfb\">\n",
              "    <div class=\"colab-df-container\">\n",
              "      <div>\n",
              "<style scoped>\n",
              "    .dataframe tbody tr th:only-of-type {\n",
              "        vertical-align: middle;\n",
              "    }\n",
              "\n",
              "    .dataframe tbody tr th {\n",
              "        vertical-align: top;\n",
              "    }\n",
              "\n",
              "    .dataframe thead th {\n",
              "        text-align: right;\n",
              "    }\n",
              "</style>\n",
              "<table border=\"1\" class=\"dataframe\">\n",
              "  <thead>\n",
              "    <tr style=\"text-align: right;\">\n",
              "      <th></th>\n",
              "      <th>best_score</th>\n",
              "      <th>best_param</th>\n",
              "      <th>best_estimator</th>\n",
              "    </tr>\n",
              "  </thead>\n",
              "  <tbody>\n",
              "    <tr>\n",
              "      <th>0</th>\n",
              "      <td>0.740421</td>\n",
              "      <td>{'model__C': 1, 'model__max_iter': 100, 'model...</td>\n",
              "      <td>(LogisticRegression(C=1, class_weight='balance...</td>\n",
              "    </tr>\n",
              "    <tr>\n",
              "      <th>1</th>\n",
              "      <td>0.737730</td>\n",
              "      <td>{'model__alpha': 0.001, 'model__early_stopping...</td>\n",
              "      <td>(MLPClassifier(alpha=0.001, learning_rate_init...</td>\n",
              "    </tr>\n",
              "    <tr>\n",
              "      <th>2</th>\n",
              "      <td>0.736773</td>\n",
              "      <td>{'model__learning_rate': 0.01, 'model__max_dep...</td>\n",
              "      <td>(HistGradientBoostingClassifier(learning_rate=...</td>\n",
              "    </tr>\n",
              "    <tr>\n",
              "      <th>3</th>\n",
              "      <td>0.723489</td>\n",
              "      <td>{'model__max_depth': 20, 'model__max_features'...</td>\n",
              "      <td>((DecisionTreeClassifier(max_depth=20, max_fea...</td>\n",
              "    </tr>\n",
              "  </tbody>\n",
              "</table>\n",
              "</div>\n",
              "      <button class=\"colab-df-convert\" onclick=\"convertToInteractive('df-550404b0-d75d-41b3-b0a1-c190681bcdfb')\"\n",
              "              title=\"Convert this dataframe to an interactive table.\"\n",
              "              style=\"display:none;\">\n",
              "        \n",
              "  <svg xmlns=\"http://www.w3.org/2000/svg\" height=\"24px\"viewBox=\"0 0 24 24\"\n",
              "       width=\"24px\">\n",
              "    <path d=\"M0 0h24v24H0V0z\" fill=\"none\"/>\n",
              "    <path d=\"M18.56 5.44l.94 2.06.94-2.06 2.06-.94-2.06-.94-.94-2.06-.94 2.06-2.06.94zm-11 1L8.5 8.5l.94-2.06 2.06-.94-2.06-.94L8.5 2.5l-.94 2.06-2.06.94zm10 10l.94 2.06.94-2.06 2.06-.94-2.06-.94-.94-2.06-.94 2.06-2.06.94z\"/><path d=\"M17.41 7.96l-1.37-1.37c-.4-.4-.92-.59-1.43-.59-.52 0-1.04.2-1.43.59L10.3 9.45l-7.72 7.72c-.78.78-.78 2.05 0 2.83L4 21.41c.39.39.9.59 1.41.59.51 0 1.02-.2 1.41-.59l7.78-7.78 2.81-2.81c.8-.78.8-2.07 0-2.86zM5.41 20L4 18.59l7.72-7.72 1.47 1.35L5.41 20z\"/>\n",
              "  </svg>\n",
              "      </button>\n",
              "      \n",
              "  <style>\n",
              "    .colab-df-container {\n",
              "      display:flex;\n",
              "      flex-wrap:wrap;\n",
              "      gap: 12px;\n",
              "    }\n",
              "\n",
              "    .colab-df-convert {\n",
              "      background-color: #E8F0FE;\n",
              "      border: none;\n",
              "      border-radius: 50%;\n",
              "      cursor: pointer;\n",
              "      display: none;\n",
              "      fill: #1967D2;\n",
              "      height: 32px;\n",
              "      padding: 0 0 0 0;\n",
              "      width: 32px;\n",
              "    }\n",
              "\n",
              "    .colab-df-convert:hover {\n",
              "      background-color: #E2EBFA;\n",
              "      box-shadow: 0px 1px 2px rgba(60, 64, 67, 0.3), 0px 1px 3px 1px rgba(60, 64, 67, 0.15);\n",
              "      fill: #174EA6;\n",
              "    }\n",
              "\n",
              "    [theme=dark] .colab-df-convert {\n",
              "      background-color: #3B4455;\n",
              "      fill: #D2E3FC;\n",
              "    }\n",
              "\n",
              "    [theme=dark] .colab-df-convert:hover {\n",
              "      background-color: #434B5C;\n",
              "      box-shadow: 0px 1px 3px 1px rgba(0, 0, 0, 0.15);\n",
              "      filter: drop-shadow(0px 1px 2px rgba(0, 0, 0, 0.3));\n",
              "      fill: #FFFFFF;\n",
              "    }\n",
              "  </style>\n",
              "\n",
              "      <script>\n",
              "        const buttonEl =\n",
              "          document.querySelector('#df-550404b0-d75d-41b3-b0a1-c190681bcdfb button.colab-df-convert');\n",
              "        buttonEl.style.display =\n",
              "          google.colab.kernel.accessAllowed ? 'block' : 'none';\n",
              "\n",
              "        async function convertToInteractive(key) {\n",
              "          const element = document.querySelector('#df-550404b0-d75d-41b3-b0a1-c190681bcdfb');\n",
              "          const dataTable =\n",
              "            await google.colab.kernel.invokeFunction('convertToInteractive',\n",
              "                                                     [key], {});\n",
              "          if (!dataTable) return;\n",
              "\n",
              "          const docLinkHtml = 'Like what you see? Visit the ' +\n",
              "            '<a target=\"_blank\" href=https://colab.research.google.com/notebooks/data_table.ipynb>data table notebook</a>'\n",
              "            + ' to learn more about interactive tables.';\n",
              "          element.innerHTML = '';\n",
              "          dataTable['output_type'] = 'display_data';\n",
              "          await google.colab.output.renderOutput(dataTable, element);\n",
              "          const docLink = document.createElement('div');\n",
              "          docLink.innerHTML = docLinkHtml;\n",
              "          element.appendChild(docLink);\n",
              "        }\n",
              "      </script>\n",
              "    </div>\n",
              "  </div>\n",
              "  "
            ]
          },
          "metadata": {},
          "execution_count": 51
        }
      ],
      "source": [
        "from sklearn.model_selection import GridSearchCV\n",
        "import time\n",
        "\n",
        "# The list of [best_score_, best_params_, best_estimator_] obtained by GridSearchCV\n",
        "best_score_params_estimator_gs = []\n",
        "\n",
        "# For each model\n",
        "for acronym in pipes.keys():\n",
        "    start_time = time.time()\n",
        "\n",
        "\n",
        "    # GridSearchCV\n",
        "    gs = GridSearchCV(estimator=pipes[acronym],\n",
        "                      param_grid=param_grids[acronym],\n",
        "                      scoring='f1_macro',\n",
        "                      n_jobs=2,\n",
        "                      cv=ps,\n",
        "                      return_train_score=True,\n",
        "                      verbose = 3)\n",
        "        \n",
        "    # Fit the pipeline\n",
        "    gs = gs.fit(X_train_val, y_train_val)\n",
        "    \n",
        "    # Update best_score_params_estimator_gs\n",
        "    best_score_params_estimator_gs.append([gs.best_score_, gs.best_params_, gs.best_estimator_])\n",
        "    \n",
        "    # Sort cv_results in ascending order of 'rank_test_score' and 'std_test_score'\n",
        "    cv_results = pd.DataFrame.from_dict(gs.cv_results_).sort_values(by=['rank_test_score', 'std_test_score'])\n",
        "    \n",
        "    # Get the important columns in cv_results\n",
        "    important_columns = ['rank_test_score',\n",
        "                         'mean_test_score', \n",
        "                         'std_test_score', \n",
        "                         'mean_train_score', \n",
        "                         'std_train_score',\n",
        "                         'mean_fit_time', \n",
        "                         'std_fit_time',                        \n",
        "                         'mean_score_time', \n",
        "                         'std_score_time']\n",
        "    \n",
        "    # Move the important columns ahead\n",
        "    cv_results = cv_results[important_columns + sorted(list(set(cv_results.columns) - set(important_columns)))]\n",
        "\n",
        "    # Write cv_results file\n",
        "    cv_results.to_csv(path_or_buf=os.getcwd() + '/results/' + acronym + '.csv', index=False)\n",
        "\n",
        "    end_time = time.time()\n",
        "    time_lapsed = end_time - start_time\n",
        "    print('Done with model, time = ', time_lapsed)\n",
        "\n",
        "# Sort best_score_params_estimator_gs in descending order of the best_score_\n",
        "best_score_params_estimator_gs = sorted(best_score_params_estimator_gs, key=lambda x : x[0], reverse=True)\n",
        "\n",
        "# Print best_score_params_estimator_gs\n",
        "pd.DataFrame(best_score_params_estimator_gs, columns=['best_score', 'best_param', 'best_estimator'])"
      ]
    },
    {
      "cell_type": "markdown",
      "metadata": {
        "id": "jonCCJgpW1F7"
      },
      "source": [
        "# Model Evaluation\n",
        "\n"
      ]
    },
    {
      "cell_type": "markdown",
      "metadata": {
        "id": "733hk_XD9cDI"
      },
      "source": [
        "## Feature importance detected by random forest"
      ]
    },
    {
      "cell_type": "markdown",
      "source": [
        "For starters, let's look at the random forest model to get a better idea of feature importance. We used this feature importance to decide what features to remove in the \"Removing Unimpactful Features\" section. In the case of the random forest, the point percentage in the last 10 and rolling point percentage are the most important."
      ],
      "metadata": {
        "id": "rw9NbU6U6xXx"
      }
    },
    {
      "cell_type": "code",
      "execution_count": 52,
      "metadata": {
        "id": "-NLAjG6K9cDJ",
        "colab": {
          "base_uri": "https://localhost:8080/"
        },
        "outputId": "778e87e8-5536-4099-8db0-806ae9327e2d"
      },
      "outputs": [
        {
          "output_type": "stream",
          "name": "stdout",
          "text": [
            "                  Features Importance\n",
            "0        L10_pts_perc_away   0.109979\n",
            "1        L10_pts_perc_home   0.109668\n",
            "2        rolling_pts%_home   0.091144\n",
            "3        rolling_pts%_away   0.090845\n",
            "4             blocked_away   0.060661\n",
            "5             blocked_home   0.058929\n",
            "6          coach_pts%_home    0.04991\n",
            "7          coach_pts%_away   0.044326\n",
            "8            gametime_unix   0.041051\n",
            "9   pts_perc_last_szn_away   0.033002\n",
            "10  pts_perc_last_szn_home   0.032202\n",
            "11               hits_away   0.030691\n",
            "12              shots_home    0.03065\n",
            "13              shots_away   0.030071\n",
            "14                pim_away   0.029833\n",
            "15          takeaways_home   0.028857\n",
            "16               hits_home   0.028719\n",
            "17                pim_home   0.026068\n",
            "18          takeaways_away   0.025534\n",
            "19          giveaways_home    0.02548\n",
            "20          giveaways_away    0.02238\n"
          ]
        }
      ],
      "source": [
        "num = 0\n",
        "for i in range(4):\n",
        "  best_score_logit, best_param_logit, logit = best_score_params_estimator_gs[i]\n",
        "  x = str(logit[0])\n",
        "  y = x.split('(')\n",
        "  if y[0] == 'RandomForestClassifier':\n",
        "    num = i\n",
        "\n",
        "# Get the best_score, best_param and best_estimator of random forest obtained by GridSearchCV\n",
        "best_score_rfc, best_param_rfc, best_estimator_rfc = best_score_params_estimator_gs[num]\n",
        "\n",
        "# Get the dataframe of feature and importance\n",
        "df_fi_rfc = pd.DataFrame(np.hstack((np.setdiff1d(df.columns, [target]).reshape(-1, 1), best_estimator_rfc.named_steps['model'].feature_importances_.reshape(-1, 1))),\n",
        "                         columns=['Features', 'Importance'])\n",
        "\n",
        "# Sort df_fi_rfc in descending order of the importance\n",
        "df_fi_rfc = df_fi_rfc.sort_values(ascending=False, by='Importance').reset_index(drop=True)\n",
        "\n",
        "# Print the first 5 rows of df_fi_rfc\n",
        "print(df_fi_rfc)"
      ]
    },
    {
      "cell_type": "markdown",
      "source": [
        "Here is that same information graphed."
      ],
      "metadata": {
        "id": "29i4_3fB9gCz"
      }
    },
    {
      "cell_type": "code",
      "source": [
        "# Create a figure\n",
        "fig = plt.figure(figsize=(10, 5))\n",
        "\n",
        "# Implement me\n",
        "# The bar plot of the top 5 feature importance\n",
        "plt.bar(df_fi_rfc['Features'][:5], df_fi_rfc['Importance'][:5], color='green')\n",
        "\n",
        "# Set x-axis\n",
        "plt.xlabel('Features')\n",
        "plt.xticks(rotation=90)\n",
        "\n",
        "# Set y-axis\n",
        "plt.ylabel('Importance')\n",
        "\n",
        "# Save and show the figure\n",
        "plt.tight_layout()\n",
        "plt.show()"
      ],
      "metadata": {
        "id": "WcscAE799hkP",
        "colab": {
          "base_uri": "https://localhost:8080/",
          "height": 365
        },
        "outputId": "fcdf142a-6685-424b-a618-56221a32c63f"
      },
      "execution_count": 53,
      "outputs": [
        {
          "output_type": "display_data",
          "data": {
            "text/plain": [
              "<Figure size 720x360 with 1 Axes>"
            ],
            "image/png": "[encoded data removed]"
          },
          "metadata": {}
        }
      ]
    },
    {
      "cell_type": "markdown",
      "source": [
        "## Best model statistics"
      ],
      "metadata": {
        "id": "LA0RKkKH9m2s"
      }
    },
    {
      "cell_type": "markdown",
      "source": [
        "Here we can see the overall statistics of our best model, the logistic regression model."
      ],
      "metadata": {
        "id": "93exbr1o-IMz"
      }
    },
    {
      "cell_type": "code",
      "source": [
        "from sklearn import metrics\n",
        "\n",
        "best_score_logit, best_param_logit, logit = best_score_params_estimator_gs[0]\n",
        "y_test_pred = logit.predict(X_test)\n",
        "\n",
        "x = str(logit[0])\n",
        "y = x.split('(')\n",
        "print('Best model: ', y[0])\n",
        "score = logit.score(X_test, y_test)\n",
        "print('accuracy: ', score)\n",
        "f1 = metrics.f1_score(y_test, y_test_pred)\n",
        "print('F1 score: ', f1)"
      ],
      "metadata": {
        "id": "dRXNuP8_rExv",
        "colab": {
          "base_uri": "https://localhost:8080/"
        },
        "outputId": "6c2dadaa-e305-4603-832b-27f850441f66"
      },
      "execution_count": 54,
      "outputs": [
        {
          "output_type": "stream",
          "name": "stdout",
          "text": [
            "Best model:  LogisticRegression\n",
            "accuracy:  0.7335581787521079\n",
            "F1 score:  0.7163375224416518\n"
          ]
        }
      ]
    },
    {
      "cell_type": "code",
      "source": [
        "cl_report= metrics.classification_report(y_test, y_test_pred)"
      ],
      "metadata": {
        "id": "iXMEz0EfJwW7"
      },
      "execution_count": 55,
      "outputs": []
    },
    {
      "cell_type": "code",
      "source": [
        "print(cl_report)"
      ],
      "metadata": {
        "id": "-mnMGjsZJ6aB",
        "colab": {
          "base_uri": "https://localhost:8080/"
        },
        "outputId": "320dc5e6-6e45-47a0-a779-8a8035352152"
      },
      "execution_count": 56,
      "outputs": [
        {
          "output_type": "stream",
          "name": "stdout",
          "text": [
            "              precision    recall  f1-score   support\n",
            "\n",
            "           0       0.77      0.73      0.75      2576\n",
            "           1       0.70      0.74      0.72      2168\n",
            "\n",
            "    accuracy                           0.73      4744\n",
            "   macro avg       0.73      0.73      0.73      4744\n",
            "weighted avg       0.74      0.73      0.73      4744\n",
            "\n"
          ]
        }
      ]
    },
    {
      "cell_type": "markdown",
      "source": [
        "## Did our model best randomness?"
      ],
      "metadata": {
        "id": "LjzoK5VPA76k"
      }
    },
    {
      "cell_type": "markdown",
      "source": [
        "Here we will see if our model beat the random model at 99.9% confidence interval. "
      ],
      "metadata": {
        "id": "S_oIz3WGA_NZ"
      }
    },
    {
      "cell_type": "code",
      "source": [
        "from scipy.stats import binom\n",
        "\n",
        "interval = binom.interval(0.999, 4744, 0.5)\n",
        "print('The 99.9% confidence interval for the number of success for the random model is: ', interval)\n",
        "acc = (round(interval[0]/4744, 4), round(interval[1]/4744, 4))\n",
        "print('The accuracy version of this interval is: ', acc)"
      ],
      "metadata": {
        "id": "wzcIY8D7Fg0Q",
        "colab": {
          "base_uri": "https://localhost:8080/"
        },
        "outputId": "c97e3466-95e6-4235-e653-a3cc715d844f"
      },
      "execution_count": 57,
      "outputs": [
        {
          "output_type": "stream",
          "name": "stdout",
          "text": [
            "The 99.9% confidence interval for the number of success for the random model is:  (2259.0, 2485.0)\n",
            "The accuracy version of this interval is:  (0.4762, 0.5238)\n"
          ]
        }
      ]
    },
    {
      "cell_type": "markdown",
      "source": [
        "In this case, our accuracy score of over 70% is well above the random model, and it is clear that our model is predicting the outcomes of games successfully."
      ],
      "metadata": {
        "id": "vjZFSzJIdIcG"
      }
    },
    {
      "cell_type": "markdown",
      "source": [
        "## Plotting the best model results"
      ],
      "metadata": {
        "id": "BonMlgwa-Kjy"
      }
    },
    {
      "cell_type": "markdown",
      "source": [
        "Here we can see the heatmap for the logistic regression model. Our model was more accurate when predicting the home team than the away team. "
      ],
      "metadata": {
        "id": "X4Zh1p5kdY_A"
      }
    },
    {
      "cell_type": "code",
      "source": [
        "cm = metrics.confusion_matrix(y_test, y_test_pred)\n",
        "g = sns.heatmap(cm, annot = True, cmap = 'Reds', fmt = '.0f')\n",
        "t = g.set_xlabel('Predicted Label')\n",
        "t = g.set_ylabel('Actual Label')\n",
        "t = g.set_title('Logistic Regression Results')\n",
        "t = g.set_xticklabels(['Home Won', 'Away Won'])\n",
        "t = g.set_yticklabels(['Home Won', 'Away Won'])"
      ],
      "metadata": {
        "id": "5hNw1cIAtKG-",
        "colab": {
          "base_uri": "https://localhost:8080/",
          "height": 301
        },
        "outputId": "dd152c2a-a1de-4bed-f86a-3c265da11eb0"
      },
      "execution_count": 58,
      "outputs": [
        {
          "output_type": "display_data",
          "data": {
            "text/plain": [
              "<Figure size 432x288 with 2 Axes>"
            ],
            "image/png": "[encoded data removed]"
          },
          "metadata": {}
        }
      ]
    },
    {
      "cell_type": "markdown",
      "source": [
        "The ROC curve for our model also proves its ability to beat the random model, though our model does not hit incredibly high values, as the AUC is 0.8142."
      ],
      "metadata": {
        "id": "dtUMebwek7jP"
      }
    },
    {
      "cell_type": "code",
      "source": [
        "#define metrics\n",
        "y_pred_proba = logit.predict_proba(X_test)[::,1]\n",
        "fpr, tpr, _ = metrics.roc_curve(y_test,  y_pred_proba)\n",
        "auc = metrics.roc_auc_score(y_test, y_pred_proba)\n",
        "\n",
        "#create ROC curve\n",
        "print('Area under curve: ', round(auc, 4))\n",
        "plt.plot(fpr,tpr)\n",
        "plt.plot([0,1], [0,1], color = 'red')\n",
        "plt.ylabel('True Positive Rate')\n",
        "plt.xlabel('False Positive Rate')\n",
        "plt.title('Logistic Regression Model ROC Curve')\n",
        "plt.show()"
      ],
      "metadata": {
        "id": "R86t_r2U0E2m",
        "colab": {
          "base_uri": "https://localhost:8080/",
          "height": 318
        },
        "outputId": "9d92a69d-907c-41ce-bf1a-775ed1aa5de6"
      },
      "execution_count": 59,
      "outputs": [
        {
          "output_type": "stream",
          "name": "stdout",
          "text": [
            "Area under curve:  0.8142\n"
          ]
        },
        {
          "output_type": "display_data",
          "data": {
            "text/plain": [
              "<Figure size 432x288 with 1 Axes>"
            ],
            "image/png": "[encoded data removed]"
          },
          "metadata": {}
        }
      ]
    },
    {
      "cell_type": "markdown",
      "source": [
        "## Plotting other interesting things"
      ],
      "metadata": {
        "id": "M2mNod26mGKw"
      }
    },
    {
      "cell_type": "markdown",
      "source": [
        "The following code compares our four models."
      ],
      "metadata": {
        "id": "1Rd64PqmmWeV"
      }
    },
    {
      "cell_type": "code",
      "source": [
        "fig, ax = plt.subplots(2, 2, figsize = (16,8))\n",
        "\n",
        "best_score_logit, best_param_logit, logit = best_score_params_estimator_gs[0]\n",
        "y_test_pred = logit.predict(X_test)\n",
        "cm = metrics.confusion_matrix(y_test, y_test_pred)\n",
        "sns.heatmap(cm, annot = True, cmap = 'Reds', fmt = '.0f', ax = ax[0, 0])\n",
        "\n",
        "ax[0,0].set_xlabel('Predicted Label')\n",
        "ax[0,0].set_ylabel('Actual Label')\n",
        "x = str(logit[0])\n",
        "y = x.split('(')\n",
        "ax[0,0].set_title(y[0])\n",
        "ax[0,0].set_xticklabels(['Home Won', 'Away Won'])\n",
        "ax[0,0].set_yticklabels(['Home Won', 'Away Won'])\n",
        "\n",
        "best_score_logit, best_param_logit, logit = best_score_params_estimator_gs[1]\n",
        "y_test_pred = logit.predict(X_test)\n",
        "cm = metrics.confusion_matrix(y_test, y_test_pred)\n",
        "sns.heatmap(cm, annot = True, cmap = 'Reds', fmt = '.0f', ax = ax[0, 1])\n",
        "\n",
        "ax[0,1].set_xlabel('Predicted Label')\n",
        "ax[0,1].set_ylabel('Actual Label')\n",
        "x = str(logit[0])\n",
        "y = x.split('(')\n",
        "ax[0,1].set_title(y[0])\n",
        "ax[0,1].set_xticklabels(['Home Won', 'Away Won'])\n",
        "ax[0,1].set_yticklabels(['Home Won', 'Away Won'])\n",
        "\n",
        "best_score_logit, best_param_logit, logit = best_score_params_estimator_gs[2]\n",
        "y_test_pred = logit.predict(X_test)\n",
        "cm = metrics.confusion_matrix(y_test, y_test_pred)\n",
        "sns.heatmap(cm, annot = True, cmap = 'Reds', fmt = '.0f', ax = ax[1, 0])\n",
        "\n",
        "ax[1,0].set_xlabel('Predicted Label')\n",
        "ax[1,0].set_ylabel('Actual Label')\n",
        "x = str(logit[0])\n",
        "y = x.split('(')\n",
        "ax[1,0].set_title(y[0])\n",
        "ax[1,0].set_xticklabels(['Home Won', 'Away Won'])\n",
        "ax[1,0].set_yticklabels(['Home Won', 'Away Won'])\n",
        "\n",
        "best_score_logit, best_param_logit, logit = best_score_params_estimator_gs[3]\n",
        "y_test_pred = logit.predict(X_test)\n",
        "cm = metrics.confusion_matrix(y_test, y_test_pred)\n",
        "sns.heatmap(cm, annot = True, cmap = 'Reds', fmt = '.0f', ax = ax[1, 1])\n",
        "\n",
        "ax[1,1].set_xlabel('Predicted Label')\n",
        "ax[1,1].set_ylabel('Actual Label')\n",
        "x = str(logit[0])\n",
        "y = x.split('(')\n",
        "ax[1,1].set_title(y[0])\n",
        "ax[1,1].set_xticklabels(['Home Won', 'Away Won'])\n",
        "ax[1,1].set_yticklabels(['Home Won', 'Away Won'])\n",
        "\n",
        "fig.suptitle('Model Heatmap Comparison', fontsize= 18)\n",
        "fig.tight_layout()\n",
        "\n",
        "plt.show()"
      ],
      "metadata": {
        "id": "DSlXUzEGSFW5",
        "colab": {
          "base_uri": "https://localhost:8080/",
          "height": 582
        },
        "outputId": "a383eefd-376a-4ab5-b684-f0651f199299"
      },
      "execution_count": 60,
      "outputs": [
        {
          "output_type": "display_data",
          "data": {
            "text/plain": [
              "<Figure size 1152x576 with 8 Axes>"
            ],
            "image/png": "[encoded data removed]"
          },
          "metadata": {}
        }
      ]
    },
    {
      "cell_type": "markdown",
      "source": [
        "It is interesting to note that our best model, logistic regression, was by far the most balanced model in predicting home and away. All of the other three models predicted home far more often than away."
      ],
      "metadata": {
        "id": "6PAZNS00mVqN"
      }
    },
    {
      "cell_type": "code",
      "source": [
        "# This is the order the columns come in, the index is important for later:\n",
        "d = {'Variable Names': sorted(df_train.columns)}\n",
        "col_num = pd.DataFrame(data = d)\n",
        "print(col_num)"
      ],
      "metadata": {
        "id": "W8xowpbPbQ5r",
        "colab": {
          "base_uri": "https://localhost:8080/"
        },
        "outputId": "c0ec6b57-d6ce-47f0-c12b-ddc9b69cba52"
      },
      "execution_count": 61,
      "outputs": [
        {
          "output_type": "stream",
          "name": "stdout",
          "text": [
            "            Variable Names\n",
            "0        L10_pts_perc_away\n",
            "1        L10_pts_perc_home\n",
            "2             blocked_away\n",
            "3             blocked_home\n",
            "4          coach_pts%_away\n",
            "5          coach_pts%_home\n",
            "6            gametime_unix\n",
            "7           giveaways_away\n",
            "8           giveaways_home\n",
            "9                hits_away\n",
            "10               hits_home\n",
            "11                pim_away\n",
            "12                pim_home\n",
            "13  pts_perc_last_szn_away\n",
            "14  pts_perc_last_szn_home\n",
            "15       rolling_pts%_away\n",
            "16       rolling_pts%_home\n",
            "17              shots_away\n",
            "18              shots_home\n",
            "19          takeaways_away\n",
            "20          takeaways_home\n",
            "21                  winner\n"
          ]
        }
      ]
    },
    {
      "cell_type": "code",
      "source": [
        "# inverse transform to make query easier\n",
        "X_test_original = ss.inverse_transform(X_test)"
      ],
      "metadata": {
        "id": "kIn62iaykpJ4"
      },
      "execution_count": 62,
      "outputs": []
    },
    {
      "cell_type": "markdown",
      "source": [
        "Here we can conduct a sort of feature importance comparison in our logistic regression model. We have the model predict on games where the away team has a greater than or equal to 0.7 point percentage in the past 10 games."
      ],
      "metadata": {
        "id": "-diUIOTNmtRN"
      }
    },
    {
      "cell_type": "code",
      "source": [
        "# take the first model\n",
        "best_score_logit, best_param_logit, logit = best_score_params_estimator_gs[0]\n",
        "X_test2, y_test2 = [], []\n",
        "# iterate through both\n",
        "for i, j, k in zip(X_test, y_test, X_test_original):\n",
        "  # k[0] = the first \"column\", so in this case 'L10_pts_perc_away'\n",
        "  # >0.7 means greater than 0.7 points percentage in past 10 games.\n",
        "  if k[0] >= 0.7:\n",
        "    X_test2.append(list(i))\n",
        "    y_test2.append(j)\n",
        "\n",
        "# repeat calculations with new data\n",
        "X_test3, y_test3 = np.array(X_test2), np.array(y_test2)\n",
        "y_test_pred3 = logit.predict(X_test3)\n",
        "\n",
        "score = logit.score(X_test3, y_test3)\n",
        "print('accuracy: ', score)\n",
        "f1 = metrics.f1_score(y_test3, y_test_pred3)\n",
        "print('F1 score: ', f1)"
      ],
      "metadata": {
        "id": "srK_CgUMVMCH",
        "colab": {
          "base_uri": "https://localhost:8080/"
        },
        "outputId": "13fe4d2d-a560-4b28-9708-530929ac5761"
      },
      "execution_count": 63,
      "outputs": [
        {
          "output_type": "stream",
          "name": "stdout",
          "text": [
            "accuracy:  0.7540816326530613\n",
            "F1 score:  0.8381464069845534\n"
          ]
        }
      ]
    },
    {
      "cell_type": "markdown",
      "source": [
        "We can see that the model is more accurate in predicting these games."
      ],
      "metadata": {
        "id": "9-j4QhZ6oglO"
      }
    },
    {
      "cell_type": "code",
      "source": [
        "cm = metrics.confusion_matrix(y_test3, y_test_pred3)\n",
        "\n",
        "g = sns.heatmap(cm, annot = True, cmap = 'Blues', fmt = '.0f')\n",
        "t = g.set_xlabel('Predicted Label')\n",
        "t = g.set_ylabel('Actual Label')\n",
        "t = g.set_xticklabels(['Home Won', 'Away Won'])\n",
        "t = g.set_yticklabels(['Home Won', 'Away Won'])\n",
        "t = g.set_title('Predictions on Away Teams With >=70% Point Percentage in Last 10')"
      ],
      "metadata": {
        "id": "QPltPYI_nkKX",
        "colab": {
          "base_uri": "https://localhost:8080/",
          "height": 301
        },
        "outputId": "86aa6de8-3f43-45ba-99a7-19fe6ff5e82b"
      },
      "execution_count": 64,
      "outputs": [
        {
          "output_type": "display_data",
          "data": {
            "text/plain": [
              "<Figure size 432x288 with 2 Axes>"
            ],
            "image/png": "[encoded data removed]"
          },
          "metadata": {}
        }
      ]
    },
    {
      "cell_type": "markdown",
      "source": [
        "And that the model overwhelming predicts the away team to win in this scenario."
      ],
      "metadata": {
        "id": "YrxmhqN6okNV"
      }
    },
    {
      "cell_type": "markdown",
      "source": [
        "Let's see how accurate our model is in games when the away team had a greater than or equal to 0.7 point percentage in the past ten, and the home team had less than or equal to 0.3 point percentage in the past ten."
      ],
      "metadata": {
        "id": "DGLW3pPhopDc"
      }
    },
    {
      "cell_type": "code",
      "source": [
        "X_test2, y_test2 = [], []\n",
        "for i, j, k in zip(X_test, y_test, X_test_original):\n",
        "  if k[0] >= 0.7 and k[1] <= 0.3:\n",
        "    X_test2.append(list(i))\n",
        "    y_test2.append(j)\n",
        "\n",
        "X_test3, y_test3 = np.array(X_test2), np.array(y_test2)\n",
        "y_test_pred3 = logit.predict(X_test3)\n",
        "\n",
        "score = logit.score(X_test3, y_test3)\n",
        "print('accuracy: ', score)\n",
        "f1 = metrics.f1_score(y_test3, y_test_pred3)\n",
        "print('F1 score: ', f1)"
      ],
      "metadata": {
        "id": "de6M143qvqR7",
        "colab": {
          "base_uri": "https://localhost:8080/"
        },
        "outputId": "97f712ec-328b-42ab-9544-215839caac9b"
      },
      "execution_count": 65,
      "outputs": [
        {
          "output_type": "stream",
          "name": "stdout",
          "text": [
            "accuracy:  0.9368421052631579\n",
            "F1 score:  0.967391304347826\n"
          ]
        }
      ]
    },
    {
      "cell_type": "markdown",
      "source": [
        "Now our model is incredibly accurate at predicting games."
      ],
      "metadata": {
        "id": "9gOS2feio-VV"
      }
    },
    {
      "cell_type": "code",
      "source": [
        "cm = metrics.confusion_matrix(y_test3, y_test_pred3)\n",
        "\n",
        "g = sns.heatmap(cm, annot = True, cmap = 'Blues', fmt = '.0f')\n",
        "t = g.set_xlabel('Predicted Label')\n",
        "t = g.set_ylabel('Actual Label')\n",
        "t = g.set_xticklabels(['Home Won', 'Away Won'])\n",
        "t = g.set_yticklabels(['Home Won', 'Away Won'])\n",
        "t = g.set_title('Away Teams => 70%, Home Teams <= 30%')"
      ],
      "metadata": {
        "id": "Jvh4uYQewGFT",
        "colab": {
          "base_uri": "https://localhost:8080/",
          "height": 301
        },
        "outputId": "e8aa1c9d-fac0-4046-bf17-8354df9c50de"
      },
      "execution_count": 66,
      "outputs": [
        {
          "output_type": "display_data",
          "data": {
            "text/plain": [
              "<Figure size 432x288 with 2 Axes>"
            ],
            "image/png": "[encoded data removed]"
          },
          "metadata": {}
        }
      ]
    },
    {
      "cell_type": "markdown",
      "source": [
        "And when using these metrics, the model will always predict the away team to win, which shows the true importance of the point percentage in the last ten."
      ],
      "metadata": {
        "id": "cb-1xQS4pBcM"
      }
    },
    {
      "cell_type": "markdown",
      "source": [
        "One more time, let's just look at games where away teams had the better last ten than home teams."
      ],
      "metadata": {
        "id": "U8HO_umtpOcH"
      }
    },
    {
      "cell_type": "code",
      "source": [
        "X_test2, y_test2 = [], []\n",
        "for i, j, k in zip(X_test, y_test, X_test_original):\n",
        "  if k[0] > k[1]:\n",
        "    X_test2.append(list(i))\n",
        "    y_test2.append(j)\n",
        "\n",
        "X_test3, y_test3 = np.array(X_test2), np.array(y_test2)\n",
        "y_test_pred3 = logit.predict(X_test3)\n",
        "\n",
        "score = logit.score(X_test3, y_test3)\n",
        "print('accuracy: ', score)\n",
        "f1 = metrics.f1_score(y_test3, y_test_pred3)\n",
        "print('F1 score: ', f1)"
      ],
      "metadata": {
        "id": "pYSMv7UZK2Bt",
        "colab": {
          "base_uri": "https://localhost:8080/"
        },
        "outputId": "fb502ff3-0ab2-45ad-e9e5-9277cf613b2c"
      },
      "execution_count": 67,
      "outputs": [
        {
          "output_type": "stream",
          "name": "stdout",
          "text": [
            "accuracy:  0.7165520888418826\n",
            "F1 score:  0.8140180430256765\n"
          ]
        }
      ]
    },
    {
      "cell_type": "code",
      "source": [
        "cm = metrics.confusion_matrix(y_test3, y_test_pred3)\n",
        "\n",
        "g = sns.heatmap(cm, annot = True, cmap = 'Blues', fmt = '.0f')\n",
        "t = g.set_xlabel('Predicted Label')\n",
        "t = g.set_ylabel('Actual Label')\n",
        "t = g.set_xticklabels(['Home Won', 'Away Won'])\n",
        "t = g.set_yticklabels(['Home Won', 'Away Won'])\n",
        "t = g.set_title('Away Team had better last 10')"
      ],
      "metadata": {
        "id": "78F3gPqXK4IL",
        "colab": {
          "base_uri": "https://localhost:8080/",
          "height": 301
        },
        "outputId": "c9b1132a-a8e9-41fa-ffcd-fcba6690bc85"
      },
      "execution_count": 68,
      "outputs": [
        {
          "output_type": "display_data",
          "data": {
            "text/plain": [
              "<Figure size 432x288 with 2 Axes>"
            ],
            "image/png": "[encoded data removed]"
          },
          "metadata": {}
        }
      ]
    },
    {
      "cell_type": "markdown",
      "source": [
        "We can see that even with this one simple adjustment, the model overwhelming predicts the away team to win."
      ],
      "metadata": {
        "id": "dqI1malApUtZ"
      }
    },
    {
      "cell_type": "markdown",
      "source": [
        "Let's compare this to another common metric people use to decide how well a team performs: shots. Often on paper the team with more shots looks like they had a better performance, but what does the model think?"
      ],
      "metadata": {
        "id": "B7EkDvxipbL9"
      }
    },
    {
      "cell_type": "code",
      "source": [
        "X_test2, y_test2 = [], []\n",
        "for i, j, k in zip(X_test, y_test, X_test_original):\n",
        "  if k[17] > k[18]:\n",
        "    X_test2.append(list(i))\n",
        "    y_test2.append(j)\n",
        "\n",
        "X_test3, y_test3 = np.array(X_test2), np.array(y_test2)\n",
        "y_test_pred3 = logit.predict(X_test3)\n",
        "\n",
        "score = logit.score(X_test3, y_test3)\n",
        "print('accuracy: ', score)\n",
        "f1 = metrics.f1_score(y_test3, y_test_pred3)\n",
        "print('F1 score: ', f1)"
      ],
      "metadata": {
        "id": "XhsD5QXDygI-",
        "colab": {
          "base_uri": "https://localhost:8080/"
        },
        "outputId": "a5f12864-53f9-4a57-ea87-7d5ba0340123"
      },
      "execution_count": 69,
      "outputs": [
        {
          "output_type": "stream",
          "name": "stdout",
          "text": [
            "accuracy:  0.725077081192189\n",
            "F1 score:  0.7146666666666667\n"
          ]
        }
      ]
    },
    {
      "cell_type": "markdown",
      "source": [
        "The accuracy stays relatively the same when the away team had more shots than the home team. "
      ],
      "metadata": {
        "id": "2-s7UJ1vppfV"
      }
    },
    {
      "cell_type": "code",
      "source": [
        "cm = metrics.confusion_matrix(y_test3, y_test_pred3)\n",
        "\n",
        "g = sns.heatmap(cm, annot = True, cmap = 'Greens', fmt = '.0f')\n",
        "t = g.set_xlabel('Predicted Label')\n",
        "t = g.set_ylabel('Actual Label')\n",
        "t = g.set_xticklabels(['Home Won', 'Away Won'])\n",
        "t = g.set_yticklabels(['Home Won', 'Away Won'])\n",
        "t = g.set_title('Away Team had more Shots')"
      ],
      "metadata": {
        "id": "YEMbupt3wYlj",
        "colab": {
          "base_uri": "https://localhost:8080/",
          "height": 301
        },
        "outputId": "564d5f00-0a4f-40d7-ade4-242c09407827"
      },
      "execution_count": 70,
      "outputs": [
        {
          "output_type": "display_data",
          "data": {
            "text/plain": [
              "<Figure size 432x288 with 2 Axes>"
            ],
            "image/png": "[encoded data removed]"
          },
          "metadata": {}
        }
      ]
    },
    {
      "cell_type": "markdown",
      "source": [
        "Here we can see that shots seemingly mean nothing to the model. When the away team had more shots, it barely affects what the model predicts, and the accuracy hardly changes at all. It is interesting that stats that occur before the game can potentially be a better predictor than stats that happen within the game itself."
      ],
      "metadata": {
        "id": "7Ilg5wzPp-du"
      }
    },
    {
      "cell_type": "markdown",
      "source": [
        "Lastly, let's take a look at the logistic regression \"feature importance.\" This following code and graph let's us see the percent the model predicts the away team to win when they had the higher one of these statistics.  "
      ],
      "metadata": {
        "id": "Kf79kfC9qrB1"
      }
    },
    {
      "cell_type": "code",
      "source": [
        "pred_home_c, pred_away_c, var = [], [], []\n",
        "col_num = pd.DataFrame(data = d)\n",
        "X_test2, y_test2 = [], []\n",
        "list1 = [0, 2, 4, 7, 9, 11, 13, 15, 17, 19]\n",
        "for a in list1:\n",
        "  for i, j, k in zip(X_test, y_test, X_test_original):\n",
        "    if k[a] > k[a+1]:\n",
        "      X_test2.append(list(i))\n",
        "      y_test2.append(j)\n",
        "\n",
        "  X_test3, y_test3 = np.array(X_test2), np.array(y_test2)\n",
        "  y_test_pred3 = logit.predict(X_test3)\n",
        "\n",
        "  cm = metrics.confusion_matrix(y_test3, y_test_pred3)\n",
        "\n",
        "  pred_home = cm[0][0] + cm[1][0]\n",
        "  pred_home_c.append(pred_home)\n",
        "  pred_away = cm[0][1] + cm[1][1]\n",
        "  pred_away_c.append(pred_away)\n",
        "\n",
        "  name = col_num['Variable Names'][a][:-5]\n",
        "  var.append(name)"
      ],
      "metadata": {
        "id": "rOJbet85LS5u"
      },
      "execution_count": 71,
      "outputs": []
    },
    {
      "cell_type": "code",
      "source": [
        "pred_away_perc = np.array(pred_away_c)/(np.array(pred_away_c) + np.array(pred_home_c))"
      ],
      "metadata": {
        "id": "wBkMutGJ3asa"
      },
      "execution_count": 72,
      "outputs": []
    },
    {
      "cell_type": "code",
      "source": [
        "plt.figure(figsize=(18,4)) \n",
        "sns.barplot(x = var, y = pred_away_perc)\n",
        "plt.xlabel('Feature')\n",
        "plt.ylabel('Percent Picked Away to Win')\n",
        "plt.title('Percent the Model Picked Away to Win When Away had the Greater Value')\n",
        "plt.yticks([0.0, 0.1, 0.2, 0.3, 0.4, 0.5, 0.6, 0.7, 0.8])\n",
        "plt.show()"
      ],
      "metadata": {
        "id": "toWVErD23dEK",
        "colab": {
          "base_uri": "https://localhost:8080/",
          "height": 302
        },
        "outputId": "f00c2ae7-8778-4d8f-a555-baf6ed99408e"
      },
      "execution_count": 73,
      "outputs": [
        {
          "output_type": "display_data",
          "data": {
            "text/plain": [
              "<Figure size 1296x288 with 1 Axes>"
            ],
            "image/png": "[encoded data removed]"
          },
          "metadata": {}
        }
      ]
    },
    {
      "cell_type": "markdown",
      "source": [
        "We can see that the logistic regression model truly does value performance in the last ten games above all else. Blocked shots is the second most useful predictor for the model, which is surprising, as one would assume that a team that blocks a lot of shots would be playing defense more, and not have as many opportunities to score. The two biggest standouts here are giveaways and pim. One would think that higher giveways or pim would cause the model to predict against the away team. However, this is also not the case. This likely means that these variables are confusing the model in some way, or that there are some collinear variables."
      ],
      "metadata": {
        "id": "NcZIxO3Hvqvk"
      }
    },
    {
      "cell_type": "markdown",
      "source": [
        "Just for consistency's sake, let's look at the same stats, but for when the home team is ahead in them. "
      ],
      "metadata": {
        "id": "WbiIGzzau-K_"
      }
    },
    {
      "cell_type": "code",
      "source": [
        "pred_home_c, pred_away_c, var = [], [], []\n",
        "col_num = pd.DataFrame(data = d)\n",
        "X_test2, y_test2 = [], []\n",
        "list1 = [0, 2, 4, 7, 9, 11, 13, 15, 17, 19]\n",
        "for a in list1:\n",
        "  for i, j, k in zip(X_test, y_test, X_test_original):\n",
        "    if k[a] < k[a+1]:\n",
        "      X_test2.append(list(i))\n",
        "      y_test2.append(j)\n",
        "\n",
        "  X_test3, y_test3 = np.array(X_test2), np.array(y_test2)\n",
        "  y_test_pred3 = logit.predict(X_test3)\n",
        "\n",
        "  cm = metrics.confusion_matrix(y_test3, y_test_pred3)\n",
        "\n",
        "  pred_home = cm[0][0] + cm[1][0]\n",
        "  pred_home_c.append(pred_home)\n",
        "  pred_away = cm[0][1] + cm[1][1]\n",
        "  pred_away_c.append(pred_away)\n",
        "\n",
        "  name = col_num['Variable Names'][a][:-5]\n",
        "  var.append(name)"
      ],
      "metadata": {
        "id": "D5wRwCnW6HQb"
      },
      "execution_count": 74,
      "outputs": []
    },
    {
      "cell_type": "code",
      "source": [
        "pred_home_perc = np.array(pred_home_c)/(np.array(pred_away_c) + np.array(pred_home_c))"
      ],
      "metadata": {
        "id": "BaFMOrYf6KhT"
      },
      "execution_count": 75,
      "outputs": []
    },
    {
      "cell_type": "code",
      "source": [
        "plt.figure(figsize=(18,4)) \n",
        "sns.barplot(x = var, y = pred_home_perc)\n",
        "plt.xlabel('Feature')\n",
        "plt.ylabel('Percent Picked Away to Win')\n",
        "plt.title('Percent the Model Picked Home to Win When Home had the Greater Value')\n",
        "plt.yticks([0.0, 0.1, 0.2, 0.3, 0.4, 0.5, 0.6, 0.7, 0.8])\n",
        "plt.show()"
      ],
      "metadata": {
        "id": "7yV_hfIM6OO5",
        "colab": {
          "base_uri": "https://localhost:8080/",
          "height": 302
        },
        "outputId": "306f35dd-e42e-40e1-9e3c-106b5c36c276"
      },
      "execution_count": 76,
      "outputs": [
        {
          "output_type": "display_data",
          "data": {
            "text/plain": [
              "<Figure size 1296x288 with 1 Axes>"
            ],
            "image/png": "[encoded data removed]"
          },
          "metadata": {}
        }
      ]
    },
    {
      "cell_type": "markdown",
      "source": [
        "We can see that the same graph for the home teams backs up our previous results, as all the features are similarly important as before. "
      ],
      "metadata": {
        "id": "edy5CTkgx-jZ"
      }
    },
    {
      "cell_type": "markdown",
      "metadata": {
        "id": "0RPVlucLaz8k"
      },
      "source": [
        "# Conclusion"
      ]
    },
    {
      "cell_type": "markdown",
      "source": [
        "Given a dataset containing NHL game and team information from 2000-2020, we were successfully able to build and tune a Logistic Regression classifier that correctly predicted the outcome of a hockey game with an accuracy of ~73% and an F1 score of ~71%. We were able to confirm that this model did perform significantly better than a random model.\n",
        "\n",
        "While having an accuracy of ~73% leaves a lot to be desired in terms of usefulness, it does suggest that the sport is not immune to accurate models. A model that has a higher accuracy could play a much more significant role in post-game analysis and potentially in the realm of sports betting. However, if we were able to create a highly accurate model the sport would likely have a much lower following than it currently does. With fans and critics alike commenting that the unpredictability is one of the biggest draws of hockey, our outcome was not surprising on the whole.\n",
        "\n",
        "This model also helped to answer our guiding question of \"is hockey inherently difficult to predict\". Our findings suggest that yes, hockey is an inherently difficult sport to predict for a number of reasons. At the forefront of this difficulty is the unpredictable nature of the ice in general. This feature of the sport cannot be quantified and thus cannot be used to improve a model, it's part of what makes hockey so interesting to watch. However, because we were able to get our model significantly above chance, this suggests that while luck plays a significant part in the sport, it is by no means the guiding force of game outcomes.\n",
        "\n",
        "In the future, our model can be expanded to include more detailed features, such as players on the ice, specific plays, and more detailed penalty information. Another direction that our analysis could take would be to tweak the model from a retroactive analysis model to a fully predictive model that can be leveraged for something like sports betting. \n",
        "\n",
        "Sports analysis has been steadily growing in popularity over the years and has expanded to almost every sport. The results from our analysis suggest that hockey is not immune to accurate machine learning models, and the sport could likely benefit from increasing its usage of data science in analysis. However, it does remain one of the more difficult sports to predict given the large number of possible features and unpredictable nature of certain events."
      ],
      "metadata": {
        "id": "RRaJoxHvNUEb"
      }
    },
    {
      "cell_type": "markdown",
      "source": [
        "# Bibliography"
      ],
      "metadata": {
        "id": "ViCtG5qYnA9k"
      }
    },
    {
      "cell_type": "markdown",
      "source": [
        "The general architecture and much of the code for this project was taken from:\n",
        "\n",
        "- https://github.com/yuxiaohuang/teaching/blob/master/gwu/machine_learning_I/spring_2022/code/p2_shallow_learning/p2_c2_supervised_learning/p2_c2_s5_tree_based_models/case_study/case_study.ipynb"
      ],
      "metadata": {
        "id": "i79VuaLynDtJ"
      }
    },
    {
      "cell_type": "code",
      "source": [
        ""
      ],
      "metadata": {
        "id": "Z2TU_mYnWF13"
      },
      "execution_count": 76,
      "outputs": []
    }
  ],
  "metadata": {
    "colab": {
      "collapsed_sections": [],
      "name": "Drive Final_Report.ipynb",
      "provenance": [],
      "toc_visible": true
    },
    "kernelspec": {
      "display_name": "Python 3",
      "name": "python3"
    },
    "language_info": {
      "name": "python"
    },
    "accelerator": "GPU"
  },
  "nbformat": 4,
  "nbformat_minor": 0
}