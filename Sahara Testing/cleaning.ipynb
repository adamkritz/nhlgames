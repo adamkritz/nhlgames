{
 "cells": [
  {
   "cell_type": "code",
   "execution_count": 1,
   "id": "f01875b7-a20c-4237-ae09-8f0d840f34ce",
   "metadata": {},
   "outputs": [],
   "source": [
    "import pandas as pd\n",
    "import numpy as np\n",
    "import matplotlib.pyplot as plt\n",
    "import seaborn as sns"
   ]
  },
  {
   "cell_type": "markdown",
   "id": "fa766251-1575-47a5-b583-7d8fa9ad06d1",
   "metadata": {},
   "source": [
    "## LOADING"
   ]
  },
  {
   "cell_type": "code",
   "execution_count": 3,
   "id": "6cc5c145-b79f-4777-b730-ed393def130e",
   "metadata": {},
   "outputs": [],
   "source": [
    "basedir = '/Users/sahara/Documents/GW/ML1/nhlgames/'"
   ]
  },
  {
   "cell_type": "code",
   "execution_count": 322,
   "id": "9356fbfd-c296-445f-ad4b-169d20e75471",
   "metadata": {},
   "outputs": [],
   "source": [
    "game = pd.read_csv(f'{basedir}/game_data/game.csv')\n",
    "team_stats = pd.read_csv(f'{basedir}/game_data/game_teams_stats.csv')\n",
    "team_info = pd.read_csv(f'{basedir}/game_data/team_info.csv')"
   ]
  },
  {
   "cell_type": "code",
   "execution_count": 323,
   "id": "582e96a2-3078-4037-aa6b-f927756c6f15",
   "metadata": {},
   "outputs": [],
   "source": [
    "game = game[game['type'].isin(['R','P'])]\n",
    "team_stats = team_stats[team_stats['settled_in'].isin(['REG', 'OT'])]\n",
    "datgame = game[['game_id', 'season', 'date_time_GMT']]\n",
    "datteam = team_stats[['game_id', 'team_id', 'HoA', 'won', 'settled_in', 'head_coach', 'shots', 'hits', 'pim', 'powerPlayOpportunities', 'faceOffWinPercentage', 'giveaways', 'takeaways', 'blocked']]\n",
    "\n",
    "dat = datteam.merge(datgame, on = 'game_id', how = 'inner')\n",
    "dat = dat.drop_duplicates(subset = ['game_id', 'team_id'])\n",
    "\n",
    "dat = dat.sort_values(by = ['team_id', 'date_time_GMT'])"
   ]
  },
  {
   "cell_type": "code",
   "execution_count": 324,
   "id": "e7b5fc2a-b49d-435c-8b7c-40a74c6308a7",
   "metadata": {},
   "outputs": [
    {
     "name": "stdout",
     "output_type": "stream",
     "text": [
      "(47432, 16)\n",
      "(52562, 14)\n",
      "(26295, 3)\n"
     ]
    }
   ],
   "source": [
    "print(dat.shape)\n",
    "print(datteam.shape)\n",
    "print(datgame.shape)"
   ]
  },
  {
   "cell_type": "code",
   "execution_count": 326,
   "id": "66def7c3-a0fd-4742-ae51-93ca89be2bf6",
   "metadata": {},
   "outputs": [
    {
     "data": {
      "text/plain": [
       "Int64Index([37411, 36124, 38299,  8804, 36870, 37007, 37078, 36844,  7563,\n",
       "            38313,\n",
       "            ...\n",
       "            51710, 51734, 51768, 51790, 51808, 51824, 51840, 51854, 51870,\n",
       "            51888],\n",
       "           dtype='int64', length=47432)"
      ]
     },
     "execution_count": 326,
     "metadata": {},
     "output_type": "execute_result"
    }
   ],
   "source": [
    "dat.index.unique()"
   ]
  },
  {
   "cell_type": "markdown",
   "id": "49b299ed-697f-4d57-ba9a-1212380c1434",
   "metadata": {},
   "source": [
    "## Feature Engineering"
   ]
  },
  {
   "cell_type": "code",
   "execution_count": 327,
   "id": "a0ac2a4b-dbac-4a8b-a46b-6247d2e1a107",
   "metadata": {},
   "outputs": [],
   "source": [
    "dat['pts'] = dat.apply(lambda x: 2 if x.won else 1 if not x.won and x.settled_in == 'OT' else 0, axis = 1)"
   ]
  },
  {
   "cell_type": "code",
   "execution_count": 328,
   "id": "72bfca3c-8a95-4a08-bc18-610ff15b92e5",
   "metadata": {},
   "outputs": [
    {
     "data": {
      "text/plain": [
       "Int64Index([37411, 36124, 38299,  8804, 36870, 37007, 37078, 36844,  7563,\n",
       "            38313,\n",
       "            ...\n",
       "            51710, 51734, 51768, 51790, 51808, 51824, 51840, 51854, 51870,\n",
       "            51888],\n",
       "           dtype='int64', length=47432)"
      ]
     },
     "execution_count": 328,
     "metadata": {},
     "output_type": "execute_result"
    }
   ],
   "source": [
    "dat.index.unique()"
   ]
  },
  {
   "cell_type": "code",
   "execution_count": 329,
   "id": "cff75c0c-69ec-4ea8-9dec-03c824f739d0",
   "metadata": {},
   "outputs": [],
   "source": [
    "seasonsorted = sorted(dat['season'].unique())\n",
    "dat['season_num'] = dat['season'].apply(lambda x: seasonsorted.index(x))\n",
    "grouped = dat.groupby(['team_id', 'season_num']).agg({'game_id':'count', 'pts':'sum'})\n",
    "grouped = grouped.reset_index()\n",
    "grouped['pts_perc_last_szn'] = grouped['pts']/(grouped['game_id']*2)\n",
    "grouped['season_num'] = grouped['season_num']+1\n",
    "\n",
    "to_merge = grouped[['team_id', 'season_num', 'pts_perc_last_szn']]\n",
    "dat = dat.merge(to_merge, on = ['season_num', 'team_id'], how = 'left')"
   ]
  },
  {
   "cell_type": "code",
   "execution_count": 330,
   "id": "0fa97ca8-7570-43f8-ae08-c73e4df7bbdd",
   "metadata": {},
   "outputs": [
    {
     "data": {
      "text/plain": [
       "Int64Index([    0,     1,     2,     3,     4,     5,     6,     7,     8,\n",
       "                9,\n",
       "            ...\n",
       "            47422, 47423, 47424, 47425, 47426, 47427, 47428, 47429, 47430,\n",
       "            47431],\n",
       "           dtype='int64', length=47432)"
      ]
     },
     "execution_count": 330,
     "metadata": {},
     "output_type": "execute_result"
    }
   ],
   "source": [
    "dat.index.unique()"
   ]
  },
  {
   "cell_type": "code",
   "execution_count": 331,
   "id": "a520c195-27cd-4e34-88d7-2a518e3cdba9",
   "metadata": {},
   "outputs": [],
   "source": [
    "dat['L10_pts_perc'] = dat.groupby(['team_id', 'season_num'])['pts'].transform(lambda x: x.rolling(10,10).sum()/20)\n",
    "dat['rolling_pts%'] = dat.groupby(['team_id', 'season_num']).apply(lambda x: x.pts.expanding().sum()/(x.pts.expanding().count()*2)).values\n"
   ]
  },
  {
   "cell_type": "code",
   "execution_count": 332,
   "id": "f3a46dce-1a49-4f78-b215-39046d5745bb",
   "metadata": {
    "tags": []
   },
   "outputs": [
    {
     "data": {
      "text/plain": [
       "Int64Index([    0,     1,     2,     3,     4,     5,     6,     7,     8,\n",
       "                9,\n",
       "            ...\n",
       "            47422, 47423, 47424, 47425, 47426, 47427, 47428, 47429, 47430,\n",
       "            47431],\n",
       "           dtype='int64', length=47432)"
      ]
     },
     "execution_count": 332,
     "metadata": {},
     "output_type": "execute_result"
    }
   ],
   "source": [
    "dat.index.unique()"
   ]
  },
  {
   "cell_type": "markdown",
   "id": "4c32f215-791c-4abf-9169-e7712ccc2f76",
   "metadata": {},
   "source": [
    "## Transforming"
   ]
  },
  {
   "cell_type": "code",
   "execution_count": 333,
   "id": "15d7d55f-2652-451f-85b9-9f965d2f4d50",
   "metadata": {},
   "outputs": [],
   "source": [
    "dat['home'] = dat['HoA'].apply(lambda x: 1 if x=='home' else 0)"
   ]
  },
  {
   "cell_type": "code",
   "execution_count": 334,
   "id": "5f101030-6ec6-4016-8b23-921921c134d8",
   "metadata": {},
   "outputs": [],
   "source": [
    "dat['date_time_GMT'] = pd.to_datetime(dat['date_time_GMT'])"
   ]
  },
  {
   "cell_type": "code",
   "execution_count": 335,
   "id": "2da85ae1-6fda-4525-8dc7-3c5bdcfd4576",
   "metadata": {},
   "outputs": [],
   "source": [
    "dat['gametime_unix'] = dat['date_time_GMT'].apply(lambda x: x.timestamp())"
   ]
  },
  {
   "cell_type": "code",
   "execution_count": null,
   "id": "3b116729-5ad3-4644-9494-5878c391ae0b",
   "metadata": {},
   "outputs": [],
   "source": []
  },
  {
   "cell_type": "code",
   "execution_count": 336,
   "id": "298179c8-a464-4507-8541-235424653b0f",
   "metadata": {},
   "outputs": [],
   "source": [
    "coach_group = dat.groupby(['head_coach']).apply(lambda x: x.won.expanding().sum()/(x.won.expanding().count()*2))"
   ]
  },
  {
   "cell_type": "code",
   "execution_count": null,
   "id": "91a3337c-645c-4654-a1fc-c3c62378e70b",
   "metadata": {},
   "outputs": [],
   "source": []
  },
  {
   "cell_type": "code",
   "execution_count": 337,
   "id": "ffc92cce-c2b0-45f4-944f-3609a731ffa0",
   "metadata": {},
   "outputs": [],
   "source": [
    "coach_flat = coach_group.reset_index().rename(columns = {'won':'coach_pts%'})"
   ]
  },
  {
   "cell_type": "code",
   "execution_count": 338,
   "id": "5594e192-999d-4158-a214-c607628e5732",
   "metadata": {},
   "outputs": [],
   "source": [
    "dat = dat.merge(coach_flat, left_index=True, right_on = 'level_1')"
   ]
  },
  {
   "cell_type": "code",
   "execution_count": 339,
   "id": "4bc32d14-1c3e-410c-bd10-ee0c47d6b3be",
   "metadata": {},
   "outputs": [
    {
     "data": {
      "text/plain": [
       "Index(['game_id', 'team_id', 'HoA', 'won', 'settled_in', 'head_coach_x',\n",
       "       'shots', 'hits', 'pim', 'powerPlayOpportunities',\n",
       "       'faceOffWinPercentage', 'giveaways', 'takeaways', 'blocked', 'season',\n",
       "       'date_time_GMT', 'pts', 'season_num', 'pts_perc_last_szn',\n",
       "       'L10_pts_perc', 'rolling_pts%', 'home', 'gametime_unix', 'head_coach_y',\n",
       "       'level_1', 'coach_pts%'],\n",
       "      dtype='object')"
      ]
     },
     "execution_count": 339,
     "metadata": {},
     "output_type": "execute_result"
    }
   ],
   "source": [
    "dat.columns"
   ]
  },
  {
   "cell_type": "code",
   "execution_count": 340,
   "id": "c8bf3318-877a-408b-a94c-0976cfff6cf5",
   "metadata": {
    "tags": []
   },
   "outputs": [],
   "source": [
    "df = dat.drop(['HoA', 'head_coach_x', 'date_time_GMT', 'season', 'head_coach_y', 'level_1', 'settled_in'], axis = 1)"
   ]
  },
  {
   "cell_type": "code",
   "execution_count": 341,
   "id": "743b8877-baba-4e3c-b92e-387b3ac3b7c9",
   "metadata": {},
   "outputs": [
    {
     "name": "stdout",
     "output_type": "stream",
     "text": [
      "<class 'pandas.core.frame.DataFrame'>\n",
      "Int64Index: 47432 entries, 28296 to 37926\n",
      "Data columns (total 19 columns):\n",
      " #   Column                  Non-Null Count  Dtype  \n",
      "---  ------                  --------------  -----  \n",
      " 0   game_id                 47432 non-null  int64  \n",
      " 1   team_id                 47432 non-null  int64  \n",
      " 2   won                     47432 non-null  bool   \n",
      " 3   shots                   47432 non-null  float64\n",
      " 4   hits                    42512 non-null  float64\n",
      " 5   pim                     47432 non-null  float64\n",
      " 6   powerPlayOpportunities  47432 non-null  float64\n",
      " 7   faceOffWinPercentage    25292 non-null  float64\n",
      " 8   giveaways               42512 non-null  float64\n",
      " 9   takeaways               42512 non-null  float64\n",
      " 10  blocked                 42512 non-null  float64\n",
      " 11  pts                     47432 non-null  int64  \n",
      " 12  season_num              47432 non-null  int64  \n",
      " 13  pts_perc_last_szn       44706 non-null  float64\n",
      " 14  L10_pts_perc            42275 non-null  float64\n",
      " 15  rolling_pts%            47432 non-null  float64\n",
      " 16  home                    47432 non-null  int64  \n",
      " 17  gametime_unix           47432 non-null  float64\n",
      " 18  coach_pts%              47432 non-null  float64\n",
      "dtypes: bool(1), float64(13), int64(5)\n",
      "memory usage: 6.9 MB\n"
     ]
    }
   ],
   "source": [
    "df.info()"
   ]
  },
  {
   "cell_type": "code",
   "execution_count": 342,
   "id": "3fdbef54-db58-47bf-a005-a1de717175bc",
   "metadata": {},
   "outputs": [
    {
     "data": {
      "text/plain": [
       "Int64Index([28296, 28297, 28298, 28299, 28300, 28301, 28302, 28303, 28304,\n",
       "            28305,\n",
       "            ...\n",
       "            37917, 37918, 37919, 37920, 37921, 37922, 37923, 37924, 37925,\n",
       "            37926],\n",
       "           dtype='int64', length=47432)"
      ]
     },
     "execution_count": 342,
     "metadata": {},
     "output_type": "execute_result"
    }
   ],
   "source": [
    "dat.index.unique()"
   ]
  },
  {
   "cell_type": "code",
   "execution_count": null,
   "id": "a4f4c30d-eb89-424b-9375-17c50cac3528",
   "metadata": {},
   "outputs": [],
   "source": []
  },
  {
   "cell_type": "code",
   "execution_count": null,
   "id": "76364c02-a2cd-48e6-b233-5026e3ec100d",
   "metadata": {},
   "outputs": [],
   "source": []
  }
 ],
 "metadata": {
  "kernelspec": {
   "display_name": "Python 3 (ipykernel)",
   "language": "python",
   "name": "python3"
  },
  "language_info": {
   "codemirror_mode": {
    "name": "ipython",
    "version": 3
   },
   "file_extension": ".py",
   "mimetype": "text/x-python",
   "name": "python",
   "nbconvert_exporter": "python",
   "pygments_lexer": "ipython3",
   "version": "3.7.4"
  }
 },
 "nbformat": 4,
 "nbformat_minor": 5
}
